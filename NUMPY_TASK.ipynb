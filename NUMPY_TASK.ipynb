{
  "cells": [
    {
      "cell_type": "markdown",
      "metadata": {
        "id": "view-in-github",
        "colab_type": "text"
      },
      "source": [
        "<a href=\"https://colab.research.google.com/github/shruthymenon/Numpy-Task-2/blob/main/NUMPY_TASK.ipynb\" target=\"_parent\"><img src=\"https://colab.research.google.com/assets/colab-badge.svg\" alt=\"Open In Colab\"/></a>"
      ]
    },
    {
      "cell_type": "code",
      "execution_count": null,
      "metadata": {
        "id": "TNhYmt3QQDEt"
      },
      "outputs": [],
      "source": [
        "#1. Import the numpy package under the name np\n",
        "import numpy as np"
      ]
    },
    {
      "cell_type": "code",
      "execution_count": null,
      "metadata": {
        "colab": {
          "base_uri": "https://localhost:8080/",
          "height": 36
        },
        "id": "tklSoPVAQU_H",
        "outputId": "f002b1cd-7903-47ca-f35e-977428822237"
      },
      "outputs": [
        {
          "data": {
            "application/vnd.google.colaboratory.intrinsic+json": {
              "type": "string"
            },
            "text/plain": [
              "'1.21.6'"
            ]
          },
          "execution_count": 4,
          "metadata": {},
          "output_type": "execute_result"
        }
      ],
      "source": [
        "#2.Print the numpy version and the configuration\n",
        "np.__version__"
      ]
    },
    {
      "cell_type": "code",
      "execution_count": null,
      "metadata": {
        "colab": {
          "base_uri": "https://localhost:8080/"
        },
        "id": "m0bJfhmjQuHD",
        "outputId": "77093e43-d929-46fb-8ea5-79d6e9616092"
      },
      "outputs": [
        {
          "data": {
            "text/plain": [
              "array([0, 0, 0, 0, 0, 0, 0, 0, 0, 0])"
            ]
          },
          "execution_count": 14,
          "metadata": {},
          "output_type": "execute_result"
        }
      ],
      "source": [
        "#3.Create a null vector of size 10\n",
        "a=np.zeros(10,dtype='int' )\n",
        "a\n"
      ]
    },
    {
      "cell_type": "code",
      "execution_count": null,
      "metadata": {
        "colab": {
          "base_uri": "https://localhost:8080/"
        },
        "id": "PypcQ0XVRBWZ",
        "outputId": "d4f5f850-e423-48b8-975d-e928342cf909"
      },
      "outputs": [
        {
          "name": "stdout",
          "output_type": "stream",
          "text": [
            "10 8\n"
          ]
        }
      ],
      "source": [
        "#4.How to find the memory size of any array \n",
        "\n",
        "print(a.size,a.itemsize)#total no of elements #memory size of elements\n"
      ]
    },
    {
      "cell_type": "code",
      "execution_count": null,
      "metadata": {
        "colab": {
          "base_uri": "https://localhost:8080/"
        },
        "id": "6SnnR80QRPfm",
        "outputId": "067c816c-6e3e-435d-a55f-54b8b6ae64a0"
      },
      "outputs": [
        {
          "name": "stdout",
          "output_type": "stream",
          "text": [
            " info(object=None, maxwidth=76,\n",
            "      output=<ipykernel.iostream.OutStream object at 0x7f2099256690>,\n",
            "      toplevel='numpy')\n",
            "\n",
            "Get help information for a function, class, or module.\n",
            "\n",
            "Parameters\n",
            "----------\n",
            "object : object or str, optional\n",
            "    Input object or name to get information about. If `object` is a\n",
            "    numpy object, its docstring is given. If it is a string, available\n",
            "    modules are searched for matching objects.  If None, information\n",
            "    about `info` itself is returned.\n",
            "maxwidth : int, optional\n",
            "    Printing width.\n",
            "output : file like object, optional\n",
            "    File like object that the output is written to, default is\n",
            "    ``stdout``.  The object has to be opened in 'w' or 'a' mode.\n",
            "toplevel : str, optional\n",
            "    Start search at this level.\n",
            "\n",
            "See Also\n",
            "--------\n",
            "source, lookfor\n",
            "\n",
            "Notes\n",
            "-----\n",
            "When used interactively with an object, ``np.info(obj)`` is equivalent\n",
            "to ``help(obj)`` on the Python prompt or ``obj?`` on the IPython\n",
            "prompt.\n",
            "\n",
            "Examples\n",
            "--------\n",
            ">>> np.info(np.polyval) # doctest: +SKIP\n",
            "   polyval(p, x)\n",
            "     Evaluate the polynomial p at x.\n",
            "     ...\n",
            "\n",
            "When using a string for `object` it is possible to get multiple results.\n",
            "\n",
            ">>> np.info('fft') # doctest: +SKIP\n",
            "     *** Found in numpy ***\n",
            "Core FFT routines\n",
            "...\n",
            "     *** Found in numpy.fft ***\n",
            " fft(a, n=None, axis=-1)\n",
            "...\n",
            "     *** Repeat reference found in numpy.fft.fftpack ***\n",
            "     *** Total of 3 references found. ***\n"
          ]
        }
      ],
      "source": [
        "#5. How to get the documentation of the numpy add function from the command line? (★☆☆)\n",
        "np.info()"
      ]
    },
    {
      "cell_type": "code",
      "execution_count": null,
      "metadata": {
        "colab": {
          "base_uri": "https://localhost:8080/"
        },
        "id": "3X15r3d5RUtL",
        "outputId": "6acc7a02-dbbb-4dff-b1bf-1796e1723021"
      },
      "outputs": [
        {
          "name": "stdout",
          "output_type": "stream",
          "text": [
            "[0 0 0 0 1 0 0 0 0 0]\n"
          ]
        }
      ],
      "source": [
        "#6. Create a null vector of size 10 but the fifth value which is 1 (★☆☆)\n",
        "a[4]=1\n",
        "print(a)"
      ]
    },
    {
      "cell_type": "code",
      "execution_count": null,
      "metadata": {
        "colab": {
          "base_uri": "https://localhost:8080/"
        },
        "id": "pP8fr2fn3Ho7",
        "outputId": "b3871907-f25a-4ae6-b29a-44f03272c37f"
      },
      "outputs": [
        {
          "name": "stdout",
          "output_type": "stream",
          "text": [
            "[10 11 12 13 14 15 16 17 18 19 20 21 22 23 24 25 26 27 28 29 30 31 32 33\n",
            " 34 35 36 37 38 39 40 41 42 43 44 45 46 47 48]\n"
          ]
        }
      ],
      "source": [
        "#7. Create a vector with values ranging from 10 to 49 (★☆☆)\n",
        "b=np.arange(10,49)\n",
        "print(b)"
      ]
    },
    {
      "cell_type": "code",
      "execution_count": null,
      "metadata": {
        "colab": {
          "base_uri": "https://localhost:8080/"
        },
        "id": "TF9PiLtY3ViF",
        "outputId": "34cf1bbe-f7ee-4ce4-c279-e3ab21a34276"
      },
      "outputs": [
        {
          "name": "stdout",
          "output_type": "stream",
          "text": [
            "[48 47 46 45 44 43 42 41 40 39 38 37 36 35 34 33 32 31 30 29 28 27 26 25\n",
            " 24 23 22 21 20 19 18 17 16 15 14 13 12 11 10]\n"
          ]
        }
      ],
      "source": [
        "#8 Reverse a vector (first element becomes last) (★☆☆)\n",
        "print(b[::-1])\n"
      ]
    },
    {
      "cell_type": "code",
      "execution_count": null,
      "metadata": {
        "colab": {
          "base_uri": "https://localhost:8080/"
        },
        "id": "1Fsp6s9i3fV0",
        "outputId": "9baba1e4-a636-4f4d-a203-5936186ef045"
      },
      "outputs": [
        {
          "name": "stdout",
          "output_type": "stream",
          "text": [
            "[[0 1 2]\n",
            " [3 4 5]\n",
            " [6 7 8]]\n"
          ]
        }
      ],
      "source": [
        "#9. Create a 3x3 matrix with values ranging from 0 to 8 (★☆☆)\n",
        "arr=np.arange(0,9).reshape(3,3)\n",
        "print(arr)"
      ]
    },
    {
      "cell_type": "code",
      "execution_count": null,
      "metadata": {
        "colab": {
          "base_uri": "https://localhost:8080/"
        },
        "id": "PwH0si3DQ2mz",
        "outputId": "459f710f-b3c3-4631-cc82-21fb50161aec"
      },
      "outputs": [
        {
          "name": "stdout",
          "output_type": "stream",
          "text": [
            "0\n",
            "1\n",
            "4\n"
          ]
        }
      ],
      "source": [
        "#10.Find indices of non-zero elements from [1,2,0,0,4,0]\n",
        "a=[1,2,0,0,4,0]\n",
        "for i in range(6):\n",
        "  if a[i]!=0:\n",
        "    print(i)"
      ]
    },
    {
      "cell_type": "code",
      "execution_count": null,
      "metadata": {
        "colab": {
          "base_uri": "https://localhost:8080/"
        },
        "id": "QAnyMNmaR2zA",
        "outputId": "1033b596-cc68-4ba8-8f75-bf413c117b3c"
      },
      "outputs": [
        {
          "name": "stdout",
          "output_type": "stream",
          "text": [
            "[[1 0 0]\n",
            " [0 1 0]\n",
            " [0 0 1]]\n"
          ]
        }
      ],
      "source": [
        "#11.Create a 3x3 identity matrix \n",
        "a=np.eye(3,3,dtype=int)\n",
        "print(a)"
      ]
    },
    {
      "cell_type": "code",
      "execution_count": null,
      "metadata": {
        "colab": {
          "base_uri": "https://localhost:8080/"
        },
        "id": "6O44ldmPR26h",
        "outputId": "007698bb-d13b-4283-9356-9db11ea7d3b0"
      },
      "outputs": [
        {
          "name": "stdout",
          "output_type": "stream",
          "text": [
            "[[[25 71  2]\n",
            "  [53 29 24]\n",
            "  [83 18 44]]\n",
            "\n",
            " [[43 19 31]\n",
            "  [31 77 16]\n",
            "  [26 52 56]]\n",
            "\n",
            " [[16 10 39]\n",
            "  [48 63 89]\n",
            "  [34  2 67]]]\n"
          ]
        }
      ],
      "source": [
        "#12. Create a 3x3x3 array with random values\n",
        "a=np.random.randint(0,100,size=(3,3,3))\n",
        "print(a)"
      ]
    },
    {
      "cell_type": "code",
      "execution_count": null,
      "metadata": {
        "colab": {
          "base_uri": "https://localhost:8080/"
        },
        "id": "pdRjsfr5S-1b",
        "outputId": "466a50fa-cabb-48f8-9840-7d8055ecf4fc"
      },
      "outputs": [
        {
          "name": "stdout",
          "output_type": "stream",
          "text": [
            "[[0.68055732 0.34932115 0.72055618 0.60015099 0.45612887 0.09396673\n",
            "  0.08792159 0.40665425 0.89317968 0.08864326]\n",
            " [0.70556124 0.10415343 0.77493821 0.36505726 0.95874182 0.51956958\n",
            "  0.45596424 0.04628309 0.3023252  0.60905418]\n",
            " [0.82091772 0.70441783 0.8459032  0.09512494 0.29719704 0.19217964\n",
            "  0.22782834 0.54618979 0.28657282 0.60627814]\n",
            " [0.86188016 0.02570064 0.83833088 0.72425815 0.64090552 0.29074685\n",
            "  0.91922232 0.18788372 0.86948121 0.18176173]\n",
            " [0.7504528  0.96312466 0.32138575 0.55835211 0.58142201 0.39286009\n",
            "  0.11587764 0.28267463 0.79363703 0.2979257 ]\n",
            " [0.45476565 0.51296809 0.20496756 0.00270545 0.68095483 0.7645804\n",
            "  0.68432064 0.95035496 0.40426233 0.79205647]\n",
            " [0.45337578 0.37372135 0.29387134 0.84670335 0.13801314 0.94158006\n",
            "  0.54551409 0.62456065 0.57526497 0.08406823]\n",
            " [0.89858645 0.10872294 0.30928597 0.41281744 0.53862544 0.02071037\n",
            "  0.03575563 0.71206325 0.40015716 0.84232461]\n",
            " [0.08809693 0.49868273 0.79253233 0.88617268 0.81929175 0.98799053\n",
            "  0.92881116 0.03728275 0.30717544 0.5329079 ]\n",
            " [0.80688263 0.498283   0.18714006 0.54156816 0.74629835 0.09157006\n",
            "  0.89503581 0.76713875 0.75289811 0.21939787]]\n",
            "0.002705451946707904\n",
            "0.9879905312134096\n"
          ]
        }
      ],
      "source": [
        "#13. Create a 10x10 array with random values and find the minimum and maximum values\n",
        "a=np.random.rand(10,10)\n",
        "print(a)\n",
        "print(np.min(a))\n",
        "print(np.max(a))"
      ]
    },
    {
      "cell_type": "code",
      "execution_count": null,
      "metadata": {
        "colab": {
          "base_uri": "https://localhost:8080/"
        },
        "id": "qY0y7j_KTZ94",
        "outputId": "9921370f-6806-427c-e73f-c131dcd2398f"
      },
      "outputs": [
        {
          "name": "stdout",
          "output_type": "stream",
          "text": [
            "[78 50 81  6 66  1 76 49 70 62 62 61 23 99 37 13 63 35 18 73 51  0  2 22\n",
            " 86 11 22 79 99  2]\n",
            "46.56666666666667\n"
          ]
        }
      ],
      "source": [
        "#14.Create a random vector of size 30 and find the mean value \n",
        "a=np.random.randint(0,100,size=(30))\n",
        "print(a)\n",
        "print(np.mean(a))"
      ]
    },
    {
      "cell_type": "code",
      "execution_count": null,
      "metadata": {
        "colab": {
          "base_uri": "https://localhost:8080/"
        },
        "id": "pE8wxlzdUCUJ",
        "outputId": "fb1ce4a5-a6cb-4113-cada-94db7ad86040"
      },
      "outputs": [
        {
          "name": "stdout",
          "output_type": "stream",
          "text": [
            "[[1 1 1 1 1 1]\n",
            " [1 1 1 1 1 1]\n",
            " [1 1 1 1 1 1]\n",
            " [1 1 1 1 1 1]\n",
            " [1 1 1 1 1 1]\n",
            " [1 1 1 1 1 1]]\n",
            "[[0 0 0 0]\n",
            " [0 0 0 0]\n",
            " [0 0 0 0]\n",
            " [0 0 0 0]]\n",
            "[[1 1 1 1 1 1]\n",
            " [1 0 0 0 0 1]\n",
            " [1 0 0 0 0 1]\n",
            " [1 0 0 0 0 1]\n",
            " [1 0 0 0 0 1]\n",
            " [1 1 1 1 1 1]]\n"
          ]
        }
      ],
      "source": [
        "#15. Create a 2d array with 1 on the border and 0 inside\n",
        "a=np.ones([6,6],dtype=int)\n",
        "print(a)\n",
        "b=np.zeros([4,4],dtype=int)\n",
        "print(b)\n",
        "a[1:-1,1:-1]=b\n",
        "print(a)"
      ]
    },
    {
      "cell_type": "code",
      "execution_count": null,
      "metadata": {
        "colab": {
          "base_uri": "https://localhost:8080/"
        },
        "id": "e3O8C5HgVKYH",
        "outputId": "dc743663-f9ae-4ab7-b4fd-c399daa2426f"
      },
      "outputs": [
        {
          "name": "stdout",
          "output_type": "stream",
          "text": [
            "[[ 70  15 189 137 151 177]\n",
            " [166 152  76  90 110  11]\n",
            " [ 73 105  46 195   3 169]\n",
            " [145 143 103 114  27  27]\n",
            " [ 86 199  28  79  79 124]\n",
            " [171 199   9   1  11  74]]\n",
            "[[  0   0   0   0   0   0]\n",
            " [  0 152  76  90 110   0]\n",
            " [  0 105  46 195   3   0]\n",
            " [  0 143 103 114  27   0]\n",
            " [  0 199  28  79  79   0]\n",
            " [  0   0   0   0   0   0]]\n"
          ]
        }
      ],
      "source": [
        "#16. How to add a border (filled with 0's) around an existing array? \n",
        "import numpy as np\n",
        "a= np.random.randint(1,200,size=(6,6),dtype='int32')\n",
        "print(a)\n",
        "b=np.zeros((4,4))\n",
        "a[:,0]= 0; a[0,:]=0;a[-1,:]=0;a[:,-1]=0\n",
        "print(a)"
      ]
    },
    {
      "cell_type": "code",
      "execution_count": null,
      "metadata": {
        "colab": {
          "base_uri": "https://localhost:8080/"
        },
        "id": "8qKG13o9Vl5S",
        "outputId": "0a37658f-6f53-4b31-a4cb-62550d25e6c5"
      },
      "outputs": [
        {
          "data": {
            "text/plain": [
              "False"
            ]
          },
          "execution_count": 21,
          "metadata": {},
          "output_type": "execute_result"
        }
      ],
      "source": [
        "#17. What is the result of the following expression?\n",
        "#(hint: NaN = not a number, inf = infinity)\n",
        "import numpy as np\n",
        "0 * np.nan\n",
        "np.nan == np.nan\n",
        "np.inf > np.nan\n",
        "np.nan - np.nan\n",
        "np.nan in set([np.nan])\n",
        "0.3 == 3 * 0.1"
      ]
    },
    {
      "cell_type": "code",
      "execution_count": null,
      "metadata": {
        "colab": {
          "base_uri": "https://localhost:8080/"
        },
        "id": "EuXY_LuQV5tO",
        "outputId": "6ff528ae-5e24-426a-e8ed-11f277199502"
      },
      "outputs": [
        {
          "name": "stdout",
          "output_type": "stream",
          "text": [
            "[[0. 0. 0. 0. 0.]\n",
            " [0. 0. 0. 0. 0.]\n",
            " [0. 0. 0. 0. 0.]\n",
            " [0. 0. 0. 0. 0.]\n",
            " [0. 0. 0. 0. 0.]]\n",
            "[[0. 0. 0. 0. 0.]\n",
            " [1. 0. 0. 0. 0.]\n",
            " [0. 2. 0. 0. 0.]\n",
            " [0. 0. 3. 0. 0.]\n",
            " [0. 0. 0. 4. 0.]]\n"
          ]
        }
      ],
      "source": [
        "#18.Create a 5x5 matrix with values 1,2,3,4 just below the diagonal \n",
        "import numpy as np\n",
        "a= np.zeros((5,5) )\n",
        "print(a)\n",
        "j=1;k=1\n",
        "for i in range(1,5):\n",
        "  a[i,j-1] = k  \n",
        "  j=j+1;k+=1\n",
        "print(a)"
      ]
    },
    {
      "cell_type": "code",
      "execution_count": null,
      "metadata": {
        "colab": {
          "base_uri": "https://localhost:8080/"
        },
        "id": "e86jQjQPWKeq",
        "outputId": "8e03b82e-df1c-4572-dc81-a66a7209b7ab"
      },
      "outputs": [
        {
          "name": "stdout",
          "output_type": "stream",
          "text": [
            "Checkerboard pattern:\n",
            "[[0 1 0 1 0 1 0 1]\n",
            " [1 0 1 0 1 0 1 0]\n",
            " [0 1 0 1 0 1 0 1]\n",
            " [1 0 1 0 1 0 1 0]\n",
            " [0 1 0 1 0 1 0 1]\n",
            " [1 0 1 0 1 0 1 0]\n",
            " [0 1 0 1 0 1 0 1]\n",
            " [1 0 1 0 1 0 1 0]]\n"
          ]
        }
      ],
      "source": [
        "#19 Create a 8x8 matrix and fill it with a checkerboard pattern\n",
        "import numpy as np\n",
        "a=np.zeros((8,8))\n",
        "import numpy as np\n",
        "x = np.ones((3,3))\n",
        "print(\"Checkerboard pattern:\")\n",
        "x = np.zeros((8,8),dtype=int)\n",
        "x[1::2,::2] = 1\n",
        "x[::2,1::2] = 1\n",
        "print(x)"
      ]
    },
    {
      "cell_type": "code",
      "execution_count": null,
      "metadata": {
        "colab": {
          "base_uri": "https://localhost:8080/"
        },
        "id": "NRHe-YUrWern",
        "outputId": "8adde773-b3f9-47ae-c71d-2e7244d940a6"
      },
      "outputs": [
        {
          "name": "stdout",
          "output_type": "stream",
          "text": [
            "5 6 0\n"
          ]
        }
      ],
      "source": [
        "#20.Consider a (6,7,8) shape array, what is the index (x,y,z) of the 100th element?\n",
        "import numpy as np\n",
        "a=np.ones((6,7,8))\n",
        "m=0\n",
        "for i in range(6):\n",
        "  for j in range (7):\n",
        "    for k in range(8):\n",
        "      \n",
        "      if(m==100):\n",
        "       break\n",
        "      m=m+1\n",
        "print(i,j,k)"
      ]
    },
    {
      "cell_type": "code",
      "execution_count": null,
      "metadata": {
        "colab": {
          "base_uri": "https://localhost:8080/"
        },
        "id": "OAa0M4MQWqm4",
        "outputId": "eb8478a0-1fec-4366-bcb8-9c77ff56b67c"
      },
      "outputs": [
        {
          "name": "stdout",
          "output_type": "stream",
          "text": [
            "[[[[[[[[0 1 0 1 0 1 0 1]\n",
            "       [0 1 0 1 0 1 0 1]\n",
            "       [0 1 0 1 0 1 0 1]\n",
            "       [0 1 0 1 0 1 0 1]\n",
            "       [0 1 0 1 0 1 0 1]\n",
            "       [0 1 0 1 0 1 0 1]\n",
            "       [0 1 0 1 0 1 0 1]\n",
            "       [0 1 0 1 0 1 0 1]]]]]]]]\n"
          ]
        }
      ],
      "source": [
        "#21.Create a checkerboard 8x8 matrix using the tile function\n",
        "import numpy as np\n",
        "A = np.array([[[[[[[[0,1],[0,1],[0,1],[0,1],[0,1],[0,1],[0,1],[0,1]]]]]]]])\n",
        "x = np.tile(A,reps=4)\n",
        "print(x)"
      ]
    },
    {
      "cell_type": "code",
      "execution_count": null,
      "metadata": {
        "colab": {
          "base_uri": "https://localhost:8080/"
        },
        "id": "qq7ajYQ-W6lR",
        "outputId": "7df66486-a7dc-48c5-8ce3-999a8b49760a"
      },
      "outputs": [
        {
          "name": "stdout",
          "output_type": "stream",
          "text": [
            "[[0.43042404 0.50507407 0.36347196 0.49910119 0.487247  ]\n",
            " [0.79752548 0.94031071 0.45485252 0.90436461 0.79006394]\n",
            " [0.56950445 0.88790466 0.11063609 0.09044992 0.14063367]\n",
            " [0.61368756 0.57738413 0.89225384 0.27846316 0.68639694]\n",
            " [0.94043441 0.57195446 0.60613172 0.75258775 0.3179559 ]]\n",
            "[[0.39997685 0.48780202 0.32120826 0.48077498 0.46682862]\n",
            " [0.83186879 0.99985447 0.42871677 0.95756417 0.82309034]\n",
            " [0.56360384 0.93819917 0.02374886 0.         0.05904078]\n",
            " [0.61558492 0.57287422 0.94331594 0.22119608 0.70112693]\n",
            " [1.         0.56648627 0.60669554 0.7789999  0.26765898]]\n"
          ]
        }
      ],
      "source": [
        "#22. Normalize a 5x5 random matrix\n",
        "import numpy as np\n",
        "a = np.random.rand(5,5)\n",
        "print(a)\n",
        "min=np.min(a);max=np.max(a)\n",
        "a=(a-min)/(max-min)\n",
        "print(a)"
      ]
    },
    {
      "cell_type": "code",
      "execution_count": null,
      "metadata": {
        "id": "ecUdePauXKw2"
      },
      "outputs": [],
      "source": [
        "#23.Create a custom dtype that describes a color as four unsigned bytes (RGBA)\n",
        "color = np.dtype([(\"r\", np.ubyte),\n",
        "                  (\"g\", np.ubyte),\n",
        "                  (\"b\", np.ubyte),\n",
        "                  (\"a\", np.ubyte)])"
      ]
    },
    {
      "cell_type": "code",
      "execution_count": null,
      "metadata": {
        "colab": {
          "base_uri": "https://localhost:8080/"
        },
        "id": "d3B1zJlsXq2o",
        "outputId": "332a7106-88c5-4874-aa33-0b0ab35cc731"
      },
      "outputs": [
        {
          "name": "stdout",
          "output_type": "stream",
          "text": [
            "[[3. 3.]\n",
            " [3. 3.]\n",
            " [3. 3.]\n",
            " [3. 3.]\n",
            " [3. 3.]]\n"
          ]
        }
      ],
      "source": [
        "#25.Multiply a 5x3 matrix by a 3x2 matrix (real matrix product) (★☆☆)\n",
        "Z = np.dot(np.ones((5,3)), np.ones((3,2)))\n",
        "print(Z)"
      ]
    },
    {
      "cell_type": "code",
      "execution_count": null,
      "metadata": {
        "colab": {
          "base_uri": "https://localhost:8080/"
        },
        "id": "-jwmk3wPX1LU",
        "outputId": "d0ab7ccc-649c-436e-d291-a9eda61dff43"
      },
      "outputs": [
        {
          "name": "stdout",
          "output_type": "stream",
          "text": [
            "[ 0  1  2  3 -4 -5 -6 -7  8  9 10]\n"
          ]
        }
      ],
      "source": [
        "#25. Given a 1D array, negate all elements which are between 3 and 8, in place.\n",
        "Z = np.arange(11)\n",
        "Z[(3 < Z) & (Z < 8)] *= -1\n",
        "print(Z)"
      ]
    },
    {
      "cell_type": "code",
      "execution_count": null,
      "metadata": {
        "colab": {
          "base_uri": "https://localhost:8080/"
        },
        "id": "UpF_4DOXX_1e",
        "outputId": "3ba0e70b-2185-4101-a67a-0b297ad70bf4"
      },
      "outputs": [
        {
          "name": "stdout",
          "output_type": "stream",
          "text": [
            "9\n",
            "10\n"
          ]
        }
      ],
      "source": [
        "#26. What is the output of the following script?\n",
        "print(sum(range(5),-1))\n",
        "from numpy import *\n",
        "print(sum(range(5),-1))"
      ]
    },
    {
      "cell_type": "code",
      "execution_count": null,
      "metadata": {
        "colab": {
          "base_uri": "https://localhost:8080/",
          "height": 200
        },
        "id": "yYG68miPYQty",
        "outputId": "5deb056c-ad96-4f38-e968-6100c2169527"
      },
      "outputs": [
        {
          "ename": "ValueError",
          "evalue": "ignored",
          "output_type": "error",
          "traceback": [
            "\u001b[0;31m---------------------------------------------------------------------------\u001b[0m",
            "\u001b[0;31mValueError\u001b[0m                                Traceback (most recent call last)",
            "\u001b[0;32m<ipython-input-33-295e78ee1c10>\u001b[0m in \u001b[0;36m<module>\u001b[0;34m\u001b[0m\n\u001b[1;32m      6\u001b[0m \u001b[0;36m1j\u001b[0m \u001b[0;34m*\u001b[0m \u001b[0mZ\u001b[0m       \u001b[0;31m# = [0 + 0.j, 0 + 1.j, 0 + 2.j]\u001b[0m\u001b[0;34m\u001b[0m\u001b[0;34m\u001b[0m\u001b[0m\n\u001b[1;32m      7\u001b[0m \u001b[0mZ\u001b[0m \u001b[0;34m/\u001b[0m \u001b[0;36m1\u001b[0m \u001b[0;34m/\u001b[0m \u001b[0;36m1\u001b[0m    \u001b[0;31m# = [0, 1, 2]\u001b[0m\u001b[0;34m\u001b[0m\u001b[0;34m\u001b[0m\u001b[0m\n\u001b[0;32m----> 8\u001b[0;31m \u001b[0mZ\u001b[0m \u001b[0;34m<\u001b[0m \u001b[0mZ\u001b[0m \u001b[0;34m>\u001b[0m \u001b[0mZ\u001b[0m    \u001b[0;31m# ValueError\u001b[0m\u001b[0;34m\u001b[0m\u001b[0;34m\u001b[0m\u001b[0m\n\u001b[0m",
            "\u001b[0;31mValueError\u001b[0m: The truth value of an array with more than one element is ambiguous. Use a.any() or a.all()"
          ]
        }
      ],
      "source": [
        "#27. Consider an integer vector Z, which of these expressions are legal? \n",
        "Z = np.arange(3)\n",
        "Z ** Z       # = [0^0, 1^1, 2^2] = [1, 1, 4]\n",
        "2 << Z >> 2  # = [0, 1, 2]\n",
        "Z < - Z      # = [False, False, False]\n",
        "1j * Z       # = [0 + 0.j, 0 + 1.j, 0 + 2.j]\n",
        "Z / 1 / 1    # = [0, 1, 2]\n",
        "Z < Z > Z    # ValueError"
      ]
    },
    {
      "cell_type": "code",
      "execution_count": null,
      "metadata": {
        "colab": {
          "base_uri": "https://localhost:8080/"
        },
        "id": "Lu5XIOd_Y8m8",
        "outputId": "0f59e27d-8d54-4422-985c-29104edf24be"
      },
      "outputs": [
        {
          "name": "stderr",
          "output_type": "stream",
          "text": [
            "/usr/local/lib/python3.7/dist-packages/ipykernel_launcher.py:2: RuntimeWarning: invalid value encountered in true_divide\n",
            "  \n",
            "/usr/local/lib/python3.7/dist-packages/ipykernel_launcher.py:3: RuntimeWarning: divide by zero encountered in floor_divide\n",
            "  This is separate from the ipykernel package so we can avoid doing imports until\n"
          ]
        },
        {
          "data": {
            "text/plain": [
              "array([-9.22337204e+18])"
            ]
          },
          "execution_count": 34,
          "metadata": {},
          "output_type": "execute_result"
        }
      ],
      "source": [
        "# 28. What are the result of the following expressions? (★☆☆)\n",
        "np.array(0) / np.array(0)\n",
        "np.array(0) // np.array(0)\n",
        "np.array([np.nan]).astype(int).astype(float)"
      ]
    },
    {
      "cell_type": "code",
      "execution_count": null,
      "metadata": {
        "colab": {
          "base_uri": "https://localhost:8080/"
        },
        "id": "Iv1Fj8MLZGEE",
        "outputId": "997b50b3-91d5-4ff0-d55a-b26366ee2a5c"
      },
      "outputs": [
        {
          "data": {
            "text/plain": [
              "array([ 8.,  7., 10., -7., -9.,  9.,  2., -3.,  4., -8.])"
            ]
          },
          "execution_count": 35,
          "metadata": {},
          "output_type": "execute_result"
        }
      ],
      "source": [
        "# 29. How to round away from zero a float array ? (★☆☆)\n",
        "x = np.random.uniform(-10, +10, 10)\n",
        "np.copysign(np.ceil(np.abs(x)), x)\n"
      ]
    },
    {
      "cell_type": "code",
      "execution_count": null,
      "metadata": {
        "colab": {
          "base_uri": "https://localhost:8080/"
        },
        "id": "ab7G_ctTZHWO",
        "outputId": "780b202e-a301-4db6-c7f5-b8c3c3eb94e9"
      },
      "outputs": [
        {
          "data": {
            "text/plain": [
              "array([5, 6, 7, 8, 9])"
            ]
          },
          "execution_count": 36,
          "metadata": {},
          "output_type": "execute_result"
        }
      ],
      "source": [
        "# 30. How to find common values between two arrays? (★☆☆)\n",
        "x = np.arange(0, 10)\n",
        "y = np.arange(5, 15)\n",
        "np.intersect1d(x, y)"
      ]
    },
    {
      "cell_type": "code",
      "execution_count": null,
      "metadata": {
        "id": "wUEy7ziqZKtd"
      },
      "outputs": [],
      "source": [
        "# 31. How to ignore all numpy warnings (not recommended)? (★☆☆)\n",
        "# Suicide mode on\n",
        "defaults = np.seterr(all=\"ignore\")\n",
        "Z = np.ones(1) / 0\n",
        "\n",
        "# Back to sanity\n",
        "_ = np.seterr(**defaults)"
      ]
    },
    {
      "cell_type": "code",
      "execution_count": null,
      "metadata": {
        "colab": {
          "base_uri": "https://localhost:8080/"
        },
        "id": "ROq9wVVYZR7L",
        "outputId": "860ea712-b018-4738-c59a-c2256b27c46b"
      },
      "outputs": [
        {
          "name": "stdout",
          "output_type": "stream",
          "text": [
            "False\n"
          ]
        },
        {
          "name": "stderr",
          "output_type": "stream",
          "text": [
            "/usr/local/lib/python3.7/dist-packages/ipykernel_launcher.py:2: RuntimeWarning: invalid value encountered in sqrt\n",
            "  \n"
          ]
        }
      ],
      "source": [
        "# 32. Is the following expressions true? (★☆☆)\n",
        "print(np.sqrt(-1) == np.emath.sqrt(-1))  # False"
      ]
    },
    {
      "cell_type": "code",
      "execution_count": null,
      "metadata": {
        "colab": {
          "base_uri": "https://localhost:8080/"
        },
        "id": "rWwNnSQcZV10",
        "outputId": "7cc814f5-aec4-498b-90c4-1fb8f9bc7603"
      },
      "outputs": [
        {
          "name": "stdout",
          "output_type": "stream",
          "text": [
            "Today:  2022-11-23\n",
            "Yestraday:  2022-11-23\n",
            "Tomorrow:  2022-11-23\n"
          ]
        }
      ],
      "source": [
        "# 33. How to get the dates of yesterday, today and tomorrow? (★☆☆)\n",
        "today = np.datetime64('today', 'D')\n",
        "print(\"Today: \", today)\n",
        "  \n",
        "# for yesterday\n",
        "yesterday = np.datetime64('today', 'D')\n",
        "- np.timedelta64(1, 'D')\n",
        "  \n",
        "print(\"Yestraday: \", yesterday)\n",
        "  \n",
        "# for tomorrow\n",
        "tomorrow = np.datetime64('today', 'D')\n",
        "+ np.timedelta64(1, 'D')\n",
        "  \n",
        "print(\"Tomorrow: \", tomorrow)"
      ]
    },
    {
      "cell_type": "code",
      "execution_count": null,
      "metadata": {
        "colab": {
          "base_uri": "https://localhost:8080/"
        },
        "id": "zn0Fiz5BZV5U",
        "outputId": "dad0ea77-81db-41f0-bd36-9afb8e5fd233"
      },
      "outputs": [
        {
          "name": "stdout",
          "output_type": "stream",
          "text": [
            "['2016-07-01' '2016-07-02' '2016-07-03' '2016-07-04' '2016-07-05'\n",
            " '2016-07-06' '2016-07-07' '2016-07-08' '2016-07-09' '2016-07-10'\n",
            " '2016-07-11' '2016-07-12' '2016-07-13' '2016-07-14' '2016-07-15'\n",
            " '2016-07-16' '2016-07-17' '2016-07-18' '2016-07-19' '2016-07-20'\n",
            " '2016-07-21' '2016-07-22' '2016-07-23' '2016-07-24' '2016-07-25'\n",
            " '2016-07-26' '2016-07-27' '2016-07-28' '2016-07-29' '2016-07-30'\n",
            " '2016-07-31']\n"
          ]
        }
      ],
      "source": [
        "# 34. How to get all the dates corresponding to the month of July 2016? (★★☆)\n",
        "x = np.arange('2016-07', '2016-08', dtype='datetime64[D]')\n",
        "print(x)"
      ]
    },
    {
      "cell_type": "code",
      "execution_count": null,
      "metadata": {
        "colab": {
          "base_uri": "https://localhost:8080/"
        },
        "id": "pZa4PmygZV-j",
        "outputId": "e348339b-7271-476b-d11f-d49a212d2a74"
      },
      "outputs": [
        {
          "data": {
            "text/plain": [
              "array([-1.5, -1.5, -1.5])"
            ]
          },
          "execution_count": 44,
          "metadata": {},
          "output_type": "execute_result"
        }
      ],
      "source": [
        "# 35. How to compute ((A+B)*(-A/2)) in place (without copy)? (★★☆)\n",
        "A = np.ones(3) * 1\n",
        "B = np.ones(3) * 2\n",
        "C = np.ones(3) * 3\n",
        "np.add(A, B, out=B)\n",
        "np.divide(A, 2, out=A)\n",
        "np.negative(A, out=A)\n",
        "np.multiply(A, B, out=A)"
      ]
    },
    {
      "cell_type": "code",
      "execution_count": null,
      "metadata": {
        "colab": {
          "base_uri": "https://localhost:8080/"
        },
        "id": "KNMaJe0UZWBE",
        "outputId": "aba7357b-ae13-4aa9-c6aa-7d1dc9aa68fc"
      },
      "outputs": [
        {
          "data": {
            "text/plain": [
              "array([-3.,  5., -7., -5.,  3.,  4.,  0.,  3.,  9., -8.])"
            ]
          },
          "execution_count": 45,
          "metadata": {},
          "output_type": "execute_result"
        }
      ],
      "source": [
        "# 36. Extract the integer part of a random array using 5 different methods (★★☆)\n",
        "x = np.random.uniform(-10, +10, 10)\n",
        "x.astype(np.int32)\n",
        "np.trunc(x)"
      ]
    },
    {
      "cell_type": "code",
      "execution_count": null,
      "metadata": {
        "colab": {
          "base_uri": "https://localhost:8080/"
        },
        "id": "BE1bVAsLZWDV",
        "outputId": "c9c1bd05-9c79-4a00-d555-7d76043d45ad"
      },
      "outputs": [
        {
          "name": "stdout",
          "output_type": "stream",
          "text": [
            "[[0. 1. 2. 3. 4.]\n",
            " [0. 1. 2. 3. 4.]\n",
            " [0. 1. 2. 3. 4.]\n",
            " [0. 1. 2. 3. 4.]\n",
            " [0. 1. 2. 3. 4.]]\n"
          ]
        }
      ],
      "source": [
        "# 37. Create a 5x5 matrix with row values ranging from 0 to 4 (★★☆)\n",
        "x = np.zeros((5, 5))\n",
        "x += np.arange(5)\n",
        "print(x)"
      ]
    },
    {
      "cell_type": "code",
      "execution_count": null,
      "metadata": {
        "colab": {
          "base_uri": "https://localhost:8080/"
        },
        "id": "5VGRH3FMZWF1",
        "outputId": "2afe00f7-de77-4e79-c7de-5bb88b15a71d"
      },
      "outputs": [
        {
          "data": {
            "text/plain": [
              "array([0., 1., 2., 3., 4., 5., 6., 7., 8., 9.], dtype=float32)"
            ]
          },
          "execution_count": 48,
          "metadata": {},
          "output_type": "execute_result"
        }
      ],
      "source": [
        "# 38. Consider a generator function that generates 10 integers and use it to build an array (★☆☆)\n",
        "def generate_integers():\n",
        "    for i in range(10):\n",
        "        yield i\n",
        "np.fromiter(generate_integers(), dtype=np.float32, count=-1)\n"
      ]
    },
    {
      "cell_type": "code",
      "execution_count": null,
      "metadata": {
        "colab": {
          "base_uri": "https://localhost:8080/"
        },
        "id": "dzzu4nOqZWJW",
        "outputId": "a6ed19cb-1827-4c87-ae33-f5f4945e7914"
      },
      "outputs": [
        {
          "data": {
            "text/plain": [
              "array([0. , 1.1, 2.2, 3.3, 4.4, 5.5, 6.6, 7.7, 8.8, 9.9])"
            ]
          },
          "execution_count": 50,
          "metadata": {},
          "output_type": "execute_result"
        }
      ],
      "source": [
        "# 39. Create a vector of size 10 with values ranging from 0 to 1, both excluded (★★☆)\n",
        "np.linspace(start=0, stop=11, num=10, endpoint=False)"
      ]
    },
    {
      "cell_type": "code",
      "execution_count": null,
      "metadata": {
        "colab": {
          "base_uri": "https://localhost:8080/"
        },
        "id": "T06AJT7jaSfj",
        "outputId": "4eccc041-2db5-4785-f07a-ad823fb88f03"
      },
      "outputs": [
        {
          "name": "stdout",
          "output_type": "stream",
          "text": [
            "[0.02392405 0.05441597 0.14486998 0.18435972 0.39919631 0.53631181\n",
            " 0.58710137 0.60210088 0.79940244 0.85677584]\n"
          ]
        }
      ],
      "source": [
        "# 40. Create a random vector of size 10 and sort it (★★☆)\n",
        "x = np.random.random(size=10)\n",
        "x.sort()\n",
        "print(x)"
      ]
    },
    {
      "cell_type": "code",
      "execution_count": null,
      "metadata": {
        "colab": {
          "base_uri": "https://localhost:8080/"
        },
        "id": "AwnK-qd8aYy5",
        "outputId": "b1d0a31f-2a71-42a4-aa2f-2e7cb9efd555"
      },
      "outputs": [
        {
          "name": "stdout",
          "output_type": "stream",
          "text": [
            "6.185054779052734\n",
            "8.404970169067383\n"
          ]
        }
      ],
      "source": [
        " #41. How to sum a small array faster than np.sum? (★★☆)\n",
        "import time\n",
        "\n",
        "begin_time = time.time()\n",
        "x = np.arange(1000000)\n",
        "np.sum(x)\n",
        "end_time = time.time()\n",
        "print(str(1000*(end_time - begin_time)))\n",
        "\n",
        "begin_time2 = time.time()\n",
        "x = np.arange(1000000)\n",
        "np.add.reduce(x)\n",
        "end_time2 = time.time()\n",
        "print(str(1000*(end_time2 - begin_time2)))"
      ]
    },
    {
      "cell_type": "code",
      "execution_count": null,
      "metadata": {
        "colab": {
          "base_uri": "https://localhost:8080/"
        },
        "id": "-MHRQL-QaY1b",
        "outputId": "8dba42ad-2ff2-42e7-e709-0381301f0a35"
      },
      "outputs": [
        {
          "data": {
            "text/plain": [
              "True"
            ]
          },
          "execution_count": 54,
          "metadata": {},
          "output_type": "execute_result"
        }
      ],
      "source": [
        "# 42. Consider two random array A and B, check if they are equal (★★☆)\n",
        "A = np.arange(10)\n",
        "B = np.arange(10)\n",
        "np.array_equal(A, B)"
      ]
    },
    {
      "cell_type": "code",
      "execution_count": null,
      "metadata": {
        "colab": {
          "base_uri": "https://localhost:8080/",
          "height": 200
        },
        "id": "MSiof8ehaY31",
        "outputId": "b9c42f2c-725c-429c-dda1-c03f8a223a95"
      },
      "outputs": [
        {
          "ename": "ValueError",
          "evalue": "ignored",
          "output_type": "error",
          "traceback": [
            "\u001b[0;31m---------------------------------------------------------------------------\u001b[0m",
            "\u001b[0;31mValueError\u001b[0m                                Traceback (most recent call last)",
            "\u001b[0;32m<ipython-input-56-1902d588eddf>\u001b[0m in \u001b[0;36m<module>\u001b[0;34m\u001b[0m\n\u001b[1;32m      2\u001b[0m \u001b[0mx\u001b[0m \u001b[0;34m=\u001b[0m \u001b[0mnp\u001b[0m\u001b[0;34m.\u001b[0m\u001b[0mzeros\u001b[0m\u001b[0;34m(\u001b[0m\u001b[0;36m10\u001b[0m\u001b[0;34m)\u001b[0m\u001b[0;34m\u001b[0m\u001b[0;34m\u001b[0m\u001b[0m\n\u001b[1;32m      3\u001b[0m \u001b[0mx\u001b[0m\u001b[0;34m.\u001b[0m\u001b[0mflags\u001b[0m\u001b[0;34m.\u001b[0m\u001b[0mwriteable\u001b[0m \u001b[0;34m=\u001b[0m \u001b[0;32mFalse\u001b[0m\u001b[0;34m\u001b[0m\u001b[0;34m\u001b[0m\u001b[0m\n\u001b[0;32m----> 4\u001b[0;31m \u001b[0mx\u001b[0m\u001b[0;34m[\u001b[0m\u001b[0;36m1\u001b[0m\u001b[0;34m]\u001b[0m \u001b[0;34m=\u001b[0m \u001b[0;36m1\u001b[0m   \u001b[0;31m# ValueError: assignment destination is read-only\u001b[0m\u001b[0;34m\u001b[0m\u001b[0;34m\u001b[0m\u001b[0m\n\u001b[0m",
            "\u001b[0;31mValueError\u001b[0m: assignment destination is read-only"
          ]
        }
      ],
      "source": [
        " #43. Make an array immutable (read-only) (★★☆)\n",
        "x = np.zeros(10)\n",
        "x.flags.writeable = False\n",
        "x[1] = 1   # ValueError: assignment destination is read-only"
      ]
    },
    {
      "cell_type": "code",
      "execution_count": null,
      "metadata": {
        "colab": {
          "base_uri": "https://localhost:8080/"
        },
        "id": "hIXT2dqsa0of",
        "outputId": "2ef52420-12dc-4ef2-8dbe-46ca0d9977b1"
      },
      "outputs": [
        {
          "name": "stdout",
          "output_type": "stream",
          "text": [
            "[0.83465029 1.19458474 1.16385554 0.09182107 0.93379693 0.37344846\n",
            " 1.23376247 0.49395683 0.60028364 0.92147988]\n",
            "[0.86086722 0.75657596 0.67902896 0.32284366 0.76062342 0.83139017\n",
            " 0.66619657 1.29650312 1.20787928 0.77105275]\n"
          ]
        }
      ],
      "source": [
        "# 44. Consider a random 10x2 matrix representing cartesian coordinates, convert them to polar coordinates (★★☆)\n",
        "Z = np.random.random((10, 2))\n",
        "X, Y = Z[:, 0], Z[:, 1]\n",
        "R = np.sqrt(X ** 2 + Y ** 2)\n",
        "T = np.arctan2(Y, X)\n",
        "print(R)\n",
        "print(T)\n"
      ]
    },
    {
      "cell_type": "code",
      "execution_count": null,
      "metadata": {
        "colab": {
          "base_uri": "https://localhost:8080/"
        },
        "id": "8aHp0Rv7aY6E",
        "outputId": "06bc184e-fc33-4d30-aa2b-78c0290de20e"
      },
      "outputs": [
        {
          "name": "stdout",
          "output_type": "stream",
          "text": [
            "[0.         0.23069277 0.77608753 0.         0.44664191 0.28365092\n",
            " 0.27140319 0.13167547 0.57862439 0.80292021]\n"
          ]
        }
      ],
      "source": [
        "# 45. Create random vector of size 10 and replace the maximum value by 0 (★★☆)\n",
        "x = np.random.random(10)\n",
        "x[x == np.max(x)] = 0\n",
        "x[x.argmax()] = 0\n",
        "print(x)"
      ]
    },
    {
      "cell_type": "code",
      "execution_count": null,
      "metadata": {
        "colab": {
          "base_uri": "https://localhost:8080/"
        },
        "id": "BLw2vAtkaY8V",
        "outputId": "e94a7ceb-b8ca-453c-82ba-37cf0df20549"
      },
      "outputs": [
        {
          "name": "stdout",
          "output_type": "stream",
          "text": [
            "[[(0.  , 0.  ) (0.25, 0.  ) (0.5 , 0.  ) (0.75, 0.  ) (1.  , 0.  )]\n",
            " [(0.  , 0.25) (0.25, 0.25) (0.5 , 0.25) (0.75, 0.25) (1.  , 0.25)]\n",
            " [(0.  , 0.5 ) (0.25, 0.5 ) (0.5 , 0.5 ) (0.75, 0.5 ) (1.  , 0.5 )]\n",
            " [(0.  , 0.75) (0.25, 0.75) (0.5 , 0.75) (0.75, 0.75) (1.  , 0.75)]\n",
            " [(0.  , 1.  ) (0.25, 1.  ) (0.5 , 1.  ) (0.75, 1.  ) (1.  , 1.  )]]\n"
          ]
        }
      ],
      "source": [
        "# 46. Create a structured array with x and y coordinates covering the [0,1]x[0,1] area (★★☆)\n",
        "z = np.zeros((5, 5), [('x', float), ('y', float)])\n",
        "z['x'], z['y'] = np.meshgrid(np.linspace(0, 1, 5), np.linspace(0, 1, 5))\n",
        "print(z)"
      ]
    },
    {
      "cell_type": "code",
      "execution_count": null,
      "metadata": {
        "colab": {
          "base_uri": "https://localhost:8080/"
        },
        "id": "iQtbraq2aY-3",
        "outputId": "a3f368ab-92ba-4aa9-a5ca-e27d2b72ca92"
      },
      "outputs": [
        {
          "data": {
            "text/plain": [
              "array([[ 1.60057360e+04, -6.29045400e+07,  9.49623212e+06,\n",
              "         6.81631403e+05, -1.23204027e+05],\n",
              "       [-1.91753274e+06,  8.25142398e+04, -9.61777493e+02,\n",
              "         1.13869446e+08,  5.94705171e+01],\n",
              "       [ 2.06949745e+05, -8.78053127e+05, -1.46274167e+05,\n",
              "        -1.40221101e+05,  2.66586052e+05],\n",
              "       [-6.94427096e+06,  2.59124236e+05, -9.38972041e+06,\n",
              "         8.25216872e+00, -3.47879616e+06],\n",
              "       [ 2.92253665e+07, -4.37467580e+04, -1.88134204e+04,\n",
              "         1.37837031e+04,  3.18776718e+02]])"
            ]
          },
          "execution_count": 63,
          "metadata": {},
          "output_type": "execute_result"
        }
      ],
      "source": [
        "# 47. Given two arrays, X and Y, construct the Cauchy matrix C (Cij =1/(xi - yj))\n",
        "x = np.random.random((5, 5))\n",
        "y = np.random.random((5, 5))\n",
        "c = 1 / (x - y)\n",
        "c = 1 / np.subtract.outer(x, y)\n",
        "np.linalg.det(c)"
      ]
    },
    {
      "cell_type": "code",
      "execution_count": null,
      "metadata": {
        "colab": {
          "base_uri": "https://localhost:8080/"
        },
        "id": "mSj0PM0FaZBD",
        "outputId": "6af5c016-fd5b-450c-b8e7-db3b48eecab3"
      },
      "outputs": [
        {
          "name": "stdout",
          "output_type": "stream",
          "text": [
            "-128\n",
            "127\n",
            "-2147483648\n",
            "2147483647\n",
            "-9223372036854775808\n",
            "9223372036854775807\n",
            "-3.4028235e+38\n",
            "3.4028235e+38\n",
            "1.1920929e-07\n",
            "-1.7976931348623157e+308\n",
            "1.7976931348623157e+308\n",
            "2.220446049250313e-16\n"
          ]
        }
      ],
      "source": [
        "#48.Print the minimum and maximum representable value for each numpy scalar type\n",
        "for dtype in [np.int8, np.int32, np.int64]:\n",
        "   print(np.iinfo(dtype).min)\n",
        "   print(np.iinfo(dtype).max)\n",
        "for dtype in [np.float32, np.float64]:\n",
        "   print(np.finfo(dtype).min)\n",
        "   print(np.finfo(dtype).max)\n",
        "   print(np.finfo(dtype).eps) "
      ]
    },
    {
      "cell_type": "code",
      "execution_count": null,
      "metadata": {
        "colab": {
          "base_uri": "https://localhost:8080/",
          "height": 380
        },
        "id": "JyZbzApnaZDr",
        "outputId": "32eaa957-7364-4f4b-cced-b6d671775a03"
      },
      "outputs": [
        {
          "ename": "ValueError",
          "evalue": "ignored",
          "output_type": "error",
          "traceback": [
            "\u001b[0;31m---------------------------------------------------------------------------\u001b[0m",
            "\u001b[0;31mValueError\u001b[0m                                Traceback (most recent call last)",
            "\u001b[0;32m<ipython-input-67-f4d32702ca91>\u001b[0m in \u001b[0;36m<module>\u001b[0;34m\u001b[0m\n\u001b[1;32m      1\u001b[0m \u001b[0;31m#49. How to print all the values of an array? (★★☆)\u001b[0m\u001b[0;34m\u001b[0m\u001b[0;34m\u001b[0m\u001b[0;34m\u001b[0m\u001b[0m\n\u001b[0;32m----> 2\u001b[0;31m \u001b[0mnp\u001b[0m\u001b[0;34m.\u001b[0m\u001b[0mset_printoptions\u001b[0m\u001b[0;34m(\u001b[0m\u001b[0mthreshold\u001b[0m\u001b[0;34m=\u001b[0m\u001b[0mnp\u001b[0m\u001b[0;34m.\u001b[0m\u001b[0mnan\u001b[0m\u001b[0;34m)\u001b[0m\u001b[0;34m\u001b[0m\u001b[0;34m\u001b[0m\u001b[0m\n\u001b[0m\u001b[1;32m      3\u001b[0m \u001b[0mZ\u001b[0m \u001b[0;34m=\u001b[0m \u001b[0mnp\u001b[0m\u001b[0;34m.\u001b[0m\u001b[0mzeros\u001b[0m\u001b[0;34m(\u001b[0m\u001b[0;34m(\u001b[0m\u001b[0;36m16\u001b[0m\u001b[0;34m,\u001b[0m\u001b[0;36m16\u001b[0m\u001b[0;34m)\u001b[0m\u001b[0;34m)\u001b[0m\u001b[0;34m\u001b[0m\u001b[0;34m\u001b[0m\u001b[0m\n\u001b[1;32m      4\u001b[0m \u001b[0mprint\u001b[0m\u001b[0;34m(\u001b[0m\u001b[0mZ\u001b[0m\u001b[0;34m)\u001b[0m\u001b[0;34m\u001b[0m\u001b[0;34m\u001b[0m\u001b[0m\n",
            "\u001b[0;32m/usr/local/lib/python3.7/dist-packages/numpy/core/arrayprint.py\u001b[0m in \u001b[0;36mset_printoptions\u001b[0;34m(precision, threshold, edgeitems, linewidth, suppress, nanstr, infstr, formatter, sign, floatmode, legacy)\u001b[0m\n\u001b[1;32m    252\u001b[0m     opt = _make_options_dict(precision, threshold, edgeitems, linewidth,\n\u001b[1;32m    253\u001b[0m                              \u001b[0msuppress\u001b[0m\u001b[0;34m,\u001b[0m \u001b[0mnanstr\u001b[0m\u001b[0;34m,\u001b[0m \u001b[0minfstr\u001b[0m\u001b[0;34m,\u001b[0m \u001b[0msign\u001b[0m\u001b[0;34m,\u001b[0m \u001b[0mformatter\u001b[0m\u001b[0;34m,\u001b[0m\u001b[0;34m\u001b[0m\u001b[0;34m\u001b[0m\u001b[0m\n\u001b[0;32m--> 254\u001b[0;31m                              floatmode, legacy)\n\u001b[0m\u001b[1;32m    255\u001b[0m     \u001b[0;31m# formatter is always reset\u001b[0m\u001b[0;34m\u001b[0m\u001b[0;34m\u001b[0m\u001b[0;34m\u001b[0m\u001b[0m\n\u001b[1;32m    256\u001b[0m     \u001b[0mopt\u001b[0m\u001b[0;34m[\u001b[0m\u001b[0;34m'formatter'\u001b[0m\u001b[0;34m]\u001b[0m \u001b[0;34m=\u001b[0m \u001b[0mformatter\u001b[0m\u001b[0;34m\u001b[0m\u001b[0;34m\u001b[0m\u001b[0m\n",
            "\u001b[0;32m/usr/local/lib/python3.7/dist-packages/numpy/core/arrayprint.py\u001b[0m in \u001b[0;36m_make_options_dict\u001b[0;34m(precision, threshold, edgeitems, linewidth, suppress, nanstr, infstr, sign, formatter, floatmode, legacy)\u001b[0m\n\u001b[1;32m     86\u001b[0m             \u001b[0;32mraise\u001b[0m \u001b[0mTypeError\u001b[0m\u001b[0;34m(\u001b[0m\u001b[0;34m\"threshold must be numeric\"\u001b[0m\u001b[0;34m)\u001b[0m\u001b[0;34m\u001b[0m\u001b[0;34m\u001b[0m\u001b[0m\n\u001b[1;32m     87\u001b[0m         \u001b[0;32mif\u001b[0m \u001b[0mnp\u001b[0m\u001b[0;34m.\u001b[0m\u001b[0misnan\u001b[0m\u001b[0;34m(\u001b[0m\u001b[0mthreshold\u001b[0m\u001b[0;34m)\u001b[0m\u001b[0;34m:\u001b[0m\u001b[0;34m\u001b[0m\u001b[0;34m\u001b[0m\u001b[0m\n\u001b[0;32m---> 88\u001b[0;31m             raise ValueError(\"threshold must be non-NAN, try \"\n\u001b[0m\u001b[1;32m     89\u001b[0m                              \"sys.maxsize for untruncated representation\")\n\u001b[1;32m     90\u001b[0m \u001b[0;34m\u001b[0m\u001b[0m\n",
            "\u001b[0;31mValueError\u001b[0m: threshold must be non-NAN, try sys.maxsize for untruncated representation"
          ]
        }
      ],
      "source": [
        "#49. How to print all the values of an array? (★★☆)\n",
        "np.set_printoptions(threshold=np.nan)\n",
        "Z = np.zeros((16,16))\n",
        "print(Z)"
      ]
    },
    {
      "cell_type": "code",
      "execution_count": null,
      "metadata": {
        "colab": {
          "base_uri": "https://localhost:8080/"
        },
        "id": "RqoPreoVaZHE",
        "outputId": "93fa4063-969f-4de4-8712-7a89af337d56"
      },
      "outputs": [
        {
          "name": "stdout",
          "output_type": "stream",
          "text": [
            "57\n"
          ]
        }
      ],
      "source": [
        "# 50 How to find the closest value (to a given scalar) in a vector? (★★☆)\n",
        "Z = np.arange(100)\n",
        "v = np.random.uniform(0,100)\n",
        "index = (np.abs(Z-v)).argmin()\n",
        "print(Z[index])"
      ]
    },
    {
      "cell_type": "code",
      "execution_count": null,
      "metadata": {
        "colab": {
          "base_uri": "https://localhost:8080/"
        },
        "id": "3da1g2wec_h0",
        "outputId": "e69a25d1-3466-449a-b894-1445d757144e"
      },
      "outputs": [
        {
          "name": "stdout",
          "output_type": "stream",
          "text": [
            "[((0., 0.), (0., 0., 0.)) ((0., 0.), (0., 0., 0.))\n",
            " ((0., 0.), (0., 0., 0.)) ((0., 0.), (0., 0., 0.))\n",
            " ((0., 0.), (0., 0., 0.)) ((0., 0.), (0., 0., 0.))\n",
            " ((0., 0.), (0., 0., 0.)) ((0., 0.), (0., 0., 0.))\n",
            " ((0., 0.), (0., 0., 0.)) ((0., 0.), (0., 0., 0.))]\n"
          ]
        },
        {
          "name": "stderr",
          "output_type": "stream",
          "text": [
            "/usr/local/lib/python3.7/dist-packages/ipykernel_launcher.py:6: FutureWarning: Passing (type, 1) or '1type' as a synonym of type is deprecated; in a future version of numpy, it will be understood as (type, (1,)) / '(1,)type'.\n",
            "  \n"
          ]
        }
      ],
      "source": [
        "#51 Create a structured array representing a position (x,y) and a color (r,g,b) (★★☆)\n",
        "Z = np.zeros(10, [ ('position', [ ('x', float, 1),\n",
        "                                  ('y', float, 1)]),\n",
        "                   ('color',    [ ('r', float, 1),\n",
        "                                  ('g', float, 1),\n",
        "                                  ('b', float, 1)])])\n",
        "print(Z)"
      ]
    },
    {
      "cell_type": "code",
      "execution_count": null,
      "metadata": {
        "colab": {
          "base_uri": "https://localhost:8080/"
        },
        "id": "z7MZ1HQmc_kI",
        "outputId": "88a7406e-dd74-4884-a119-4d7f0a389b09"
      },
      "outputs": [
        {
          "name": "stdout",
          "output_type": "stream",
          "text": [
            "[[0.         0.79025772 0.90167508 0.49359852 0.71070945 0.85920451\n",
            "  0.83175248 0.44097399 0.88745122 1.22279051]\n",
            " [0.79025772 0.         0.19697883 0.30187602 0.69137112 0.22117059\n",
            "  0.0416209  0.40894519 0.32789758 0.66642715]\n",
            " [0.90167508 0.19697883 0.         0.41384224 0.62324639 0.06983676\n",
            "  0.18390396 0.47291314 0.16447019 0.47044913]\n",
            " [0.49359852 0.30187602 0.41384224 0.         0.54063923 0.38126055\n",
            "  0.3434154  0.13734739 0.43688749 0.80168201]\n",
            " [0.71070945 0.69137112 0.62324639 0.54063923 0.         0.55342053\n",
            "  0.71758984 0.42262334 0.48437821 0.64858959]\n",
            " [0.85920451 0.22117059 0.06983676 0.38126055 0.55342053 0.\n",
            "  0.22065856 0.42333621 0.10883047 0.45392712]\n",
            " [0.83175248 0.0416209  0.18390396 0.3434154  0.71758984 0.22065856\n",
            "  0.         0.4487359  0.32939168 0.65384257]\n",
            " [0.44097399 0.40894519 0.47291314 0.13734739 0.42262334 0.42333621\n",
            "  0.4487359  0.         0.44656179 0.79050896]\n",
            " [0.88745122 0.32789758 0.16447019 0.43688749 0.48437821 0.10883047\n",
            "  0.32939168 0.44656179 0.         0.3679401 ]\n",
            " [1.22279051 0.66642715 0.47044913 0.80168201 0.64858959 0.45392712\n",
            "  0.65384257 0.79050896 0.3679401  0.        ]]\n",
            "[[0.         0.97567407 0.8308214  0.83812356 0.81426447 0.49041424\n",
            "  0.45843664 0.41502188 0.71859727 0.14811597]\n",
            " [0.97567407 0.         0.14485385 0.18956465 0.17329948 0.71817142\n",
            "  0.98327905 0.6682104  0.25712629 0.9621941 ]\n",
            " [0.8308214  0.14485385 0.         0.12004852 0.06103751 0.59513141\n",
            "  0.85654413 0.53449644 0.11234262 0.81921855]\n",
            " [0.83812356 0.18956465 0.12004852 0.         0.17900211 0.5330073\n",
            "  0.79920631 0.59448448 0.16698416 0.80517766]\n",
            " [0.81426447 0.17329948 0.06103751 0.17900211 0.         0.6165723\n",
            "  0.87302334 0.49491878 0.10773016 0.81349823]\n",
            " [0.49041424 0.71817142 0.59513141 0.5330073  0.6165723  0.\n",
            "  0.26643061 0.57401028 0.51138907 0.37956096]\n",
            " [0.45843664 0.98327905 0.85654413 0.79920631 0.87302334 0.26643061\n",
            "  0.         0.71848666 0.76590215 0.31062765]\n",
            " [0.41502188 0.6682104  0.53449644 0.59448448 0.49491878 0.57401028\n",
            "  0.71848666 0.         0.43306782 0.49340757]\n",
            " [0.71859727 0.25712629 0.11234262 0.16698416 0.10773016 0.51138907\n",
            "  0.76590215 0.43306782 0.         0.71006213]\n",
            " [0.14811597 0.9621941  0.81921855 0.80517766 0.81349823 0.37956096\n",
            "  0.31062765 0.49340757 0.71006213 0.        ]]\n"
          ]
        }
      ],
      "source": [
        "#52. Consider a random vector with shape (100,2) representing coordinates, find point by point distances (★★☆)\n",
        "Z = np.random.random((10,2))\n",
        "X,Y = np.atleast_2d(Z[:,0], Z[:,1])\n",
        "D = np.sqrt( (X-X.T)**2 + (Y-Y.T)**2)\n",
        "print(D)\n",
        "\n",
        "# Much faster with scipy\n",
        "import scipy\n",
        "# Thanks Gavin Heverly-Coulson (#issue 1)\n",
        "import scipy.spatial\n",
        "\n",
        "Z = np.random.random((10,2))\n",
        "D = scipy.spatial.distance.cdist(Z,Z)\n",
        "print(D)"
      ]
    },
    {
      "cell_type": "code",
      "execution_count": null,
      "metadata": {
        "colab": {
          "base_uri": "https://localhost:8080/"
        },
        "id": "tvJjO-0Ic_nE",
        "outputId": "7ced9390-20e5-46d2-ace1-38c9f0ee3489"
      },
      "outputs": [
        {
          "name": "stdout",
          "output_type": "stream",
          "text": [
            "[0 1 2 3 4 5 6 7 8 9]\n"
          ]
        }
      ],
      "source": [
        "#53. How to convert a float (32 bits) array into an integer (32 bits) in place?\n",
        "Z = np.arange(10, dtype=np.float32)\n",
        "Z = Z.astype(np.int32, copy=False)\n",
        "print(Z)"
      ]
    },
    {
      "cell_type": "code",
      "execution_count": null,
      "metadata": {
        "colab": {
          "base_uri": "https://localhost:8080/"
        },
        "id": "DBJOZlgzc_pY",
        "outputId": "40949730-4da9-43de-e56f-7fab0ad9fc54"
      },
      "outputs": [
        {
          "name": "stdout",
          "output_type": "stream",
          "text": [
            "[[ 1  2  3  4  5]\n",
            " [ 6 -1 -1  7  8]\n",
            " [-1 -1  9 10 11]]\n"
          ]
        },
        {
          "name": "stderr",
          "output_type": "stream",
          "text": [
            "/usr/local/lib/python3.7/dist-packages/ipykernel_launcher.py:8: DeprecationWarning: `np.int` is a deprecated alias for the builtin `int`. To silence this warning, use `int` by itself. Doing this will not modify any behavior and is safe. When replacing `np.int`, you may wish to use e.g. `np.int64` or `np.int32` to specify the precision. If you wish to review your current use, check the release note link for additional information.\n",
            "Deprecated in NumPy 1.20; for more details and guidance: https://numpy.org/devdocs/release/1.20.0-notes.html#deprecations\n",
            "  \n"
          ]
        }
      ],
      "source": [
        "#54. How to read the following file? (★★☆)\n",
        "from io import StringIO\n",
        "\n",
        "# Fake file \n",
        "s = StringIO(\"\"\"1, 2, 3, 4, 5\\n\n",
        "                6,  ,  , 7, 8\\n\n",
        "                 ,  , 9,10,11\\n\"\"\")\n",
        "Z = np.genfromtxt(s, delimiter=\",\", dtype=np.int)\n",
        "print(Z)"
      ]
    },
    {
      "cell_type": "code",
      "execution_count": null,
      "metadata": {
        "colab": {
          "base_uri": "https://localhost:8080/"
        },
        "id": "dcs6hz5Zc_rt",
        "outputId": "c06188a9-da07-4b08-8e18-7f0f87bfc950"
      },
      "outputs": [
        {
          "name": "stdout",
          "output_type": "stream",
          "text": [
            "(0, 0) 0\n",
            "(0, 1) 1\n",
            "(0, 2) 2\n",
            "(1, 0) 3\n",
            "(1, 1) 4\n",
            "(1, 2) 5\n",
            "(2, 0) 6\n",
            "(2, 1) 7\n",
            "(2, 2) 8\n",
            "(0, 0) 0\n",
            "(0, 1) 1\n",
            "(0, 2) 2\n",
            "(1, 0) 3\n",
            "(1, 1) 4\n",
            "(1, 2) 5\n",
            "(2, 0) 6\n",
            "(2, 1) 7\n",
            "(2, 2) 8\n"
          ]
        }
      ],
      "source": [
        "#55. What is the equivalent of enumerate for numpy arrays? (★★☆)\n",
        "Z = np.arange(9).reshape(3,3)\n",
        "for index, value in np.ndenumerate(Z):\n",
        "    print(index, value)\n",
        "for index in np.ndindex(Z.shape):\n",
        "    print(index, Z[index])"
      ]
    },
    {
      "cell_type": "code",
      "execution_count": null,
      "metadata": {
        "colab": {
          "base_uri": "https://localhost:8080/"
        },
        "id": "x0w8VSONc_uS",
        "outputId": "37f59fa1-2fdf-4c07-c9c5-b6cd500903d4"
      },
      "outputs": [
        {
          "name": "stdout",
          "output_type": "stream",
          "text": [
            "[[0.36787944 0.44822088 0.51979489 0.57375342 0.60279818 0.60279818\n",
            "  0.57375342 0.51979489 0.44822088 0.36787944]\n",
            " [0.44822088 0.54610814 0.63331324 0.69905581 0.73444367 0.73444367\n",
            "  0.69905581 0.63331324 0.54610814 0.44822088]\n",
            " [0.51979489 0.63331324 0.73444367 0.81068432 0.85172308 0.85172308\n",
            "  0.81068432 0.73444367 0.63331324 0.51979489]\n",
            " [0.57375342 0.69905581 0.81068432 0.89483932 0.9401382  0.9401382\n",
            "  0.89483932 0.81068432 0.69905581 0.57375342]\n",
            " [0.60279818 0.73444367 0.85172308 0.9401382  0.98773022 0.98773022\n",
            "  0.9401382  0.85172308 0.73444367 0.60279818]\n",
            " [0.60279818 0.73444367 0.85172308 0.9401382  0.98773022 0.98773022\n",
            "  0.9401382  0.85172308 0.73444367 0.60279818]\n",
            " [0.57375342 0.69905581 0.81068432 0.89483932 0.9401382  0.9401382\n",
            "  0.89483932 0.81068432 0.69905581 0.57375342]\n",
            " [0.51979489 0.63331324 0.73444367 0.81068432 0.85172308 0.85172308\n",
            "  0.81068432 0.73444367 0.63331324 0.51979489]\n",
            " [0.44822088 0.54610814 0.63331324 0.69905581 0.73444367 0.73444367\n",
            "  0.69905581 0.63331324 0.54610814 0.44822088]\n",
            " [0.36787944 0.44822088 0.51979489 0.57375342 0.60279818 0.60279818\n",
            "  0.57375342 0.51979489 0.44822088 0.36787944]]\n"
          ]
        }
      ],
      "source": [
        "#56. Generate a generic 2D Gaussian-like array (★★☆)\n",
        "X, Y = np.meshgrid(np.linspace(-1,1,10), np.linspace(-1,1,10))\n",
        "D = np.sqrt(X*X+Y*Y)\n",
        "sigma, mu = 1.0, 0.0\n",
        "G = np.exp(-( (D-mu)**2 / ( 2.0 * sigma**2 ) ) )\n",
        "print(G)"
      ]
    },
    {
      "cell_type": "code",
      "execution_count": null,
      "metadata": {
        "colab": {
          "base_uri": "https://localhost:8080/"
        },
        "id": "6tHH5Rpwc_w4",
        "outputId": "342703b7-a18c-4a49-c13e-bf8b66fc1c64"
      },
      "outputs": [
        {
          "name": "stdout",
          "output_type": "stream",
          "text": [
            "[[0. 0. 0. 0. 0. 0. 0. 0. 0. 0.]\n",
            " [0. 0. 0. 0. 0. 0. 0. 0. 0. 0.]\n",
            " [0. 0. 0. 0. 0. 0. 0. 0. 1. 0.]\n",
            " [0. 0. 0. 0. 0. 0. 1. 0. 0. 0.]\n",
            " [0. 0. 0. 1. 0. 0. 0. 0. 0. 0.]\n",
            " [0. 0. 0. 0. 0. 0. 0. 0. 0. 0.]\n",
            " [0. 0. 0. 0. 0. 0. 0. 0. 0. 0.]\n",
            " [0. 0. 0. 0. 0. 0. 0. 0. 0. 0.]\n",
            " [0. 0. 0. 0. 0. 0. 0. 0. 0. 0.]\n",
            " [0. 0. 0. 0. 0. 0. 0. 0. 0. 0.]]\n"
          ]
        }
      ],
      "source": [
        "#57. How to randomly place p elements in a 2D array? (★★☆)\n",
        "\n",
        "n = 10\n",
        "p = 3\n",
        "Z = np.zeros((n,n))\n",
        "np.put(Z, np.random.choice(range(n*n), p, replace=False),1)\n",
        "print(Z)"
      ]
    },
    {
      "cell_type": "code",
      "execution_count": null,
      "metadata": {
        "colab": {
          "base_uri": "https://localhost:8080/"
        },
        "id": "xODUbFS3c_y-",
        "outputId": "9585c299-e03e-4d4b-e8e5-bc8e3aa29d8e"
      },
      "outputs": [
        {
          "name": "stdout",
          "output_type": "stream",
          "text": [
            "[[ 0.40761483 -0.33149945  0.02196865 -0.41649107 -0.1478097   0.02893823\n",
            "   0.51885444  0.07236445  0.07105961 -0.22499999]\n",
            " [-0.05782354  0.33356264  0.10523005 -0.22578726 -0.32010088 -0.29483608\n",
            "   0.33073158  0.01748078  0.3243484  -0.21280568]\n",
            " [ 0.02366955  0.16948846 -0.51408182  0.04295907  0.14811642  0.41734827\n",
            "  -0.09151031 -0.27144403 -0.07581525  0.15126964]\n",
            " [-0.03483535 -0.08071814 -0.01392362  0.06191373  0.27156191 -0.12002796\n",
            "  -0.27057235  0.39341136 -0.57733118  0.3705216 ]\n",
            " [ 0.26562541 -0.27884935 -0.33357629  0.36156027  0.16226711  0.33689208\n",
            "  -0.23342324  0.31642732 -0.28472055 -0.31220277]]\n"
          ]
        }
      ],
      "source": [
        "#58. Subtract the mean of each row of a matrix (★★☆)\n",
        "X = np.random.rand(5, 10)\n",
        "\n",
        "\n",
        "Y = X - X.mean(axis=1, keepdims=True)\n",
        "print(Y)"
      ]
    },
    {
      "cell_type": "code",
      "execution_count": null,
      "metadata": {
        "colab": {
          "base_uri": "https://localhost:8080/"
        },
        "id": "X53ztn2gc_1F",
        "outputId": "3bdfc1e5-f7a1-414f-8cff-e12b9ffe3372"
      },
      "outputs": [
        {
          "name": "stdout",
          "output_type": "stream",
          "text": [
            "[[7 0 4]\n",
            " [3 9 8]\n",
            " [9 3 6]]\n",
            "[[7 0 4]\n",
            " [9 3 6]\n",
            " [3 9 8]]\n"
          ]
        }
      ],
      "source": [
        "#59. How to sort an array by the nth column? (★★☆)\n",
        "Z = np.random.randint(0,10,(3,3))\n",
        "print(Z)\n",
        "print(Z[Z[:,1].argsort()])"
      ]
    },
    {
      "cell_type": "code",
      "execution_count": null,
      "metadata": {
        "colab": {
          "base_uri": "https://localhost:8080/"
        },
        "id": "o2RqH4f-c_3J",
        "outputId": "17a6a123-9111-4e1e-ae35-8ae32cd87176"
      },
      "outputs": [
        {
          "name": "stdout",
          "output_type": "stream",
          "text": [
            "False\n"
          ]
        }
      ],
      "source": [
        "#60. How to tell if a given 2D array has null columns?\n",
        "Z = np.random.randint(0,3,(3,10))\n",
        "print((~Z.any(axis=0)).any())"
      ]
    },
    {
      "cell_type": "code",
      "execution_count": null,
      "metadata": {
        "colab": {
          "base_uri": "https://localhost:8080/"
        },
        "id": "QTDhy9Ync_5O",
        "outputId": "3b75bad9-fc85-4de2-9c9e-2d6d50c85fd6"
      },
      "outputs": [
        {
          "name": "stdout",
          "output_type": "stream",
          "text": [
            "0.4618884238132126\n"
          ]
        }
      ],
      "source": [
        "#61. Find the nearest value from a given value in an array (★★☆)\n",
        "Z = np.random.uniform(0,1,10)\n",
        "z = 0.5\n",
        "m = Z.flat[np.abs(Z - z).argmin()]\n",
        "print(m)"
      ]
    },
    {
      "cell_type": "code",
      "execution_count": null,
      "metadata": {
        "colab": {
          "base_uri": "https://localhost:8080/"
        },
        "id": "LIn1VHopc_7v",
        "outputId": "2233f160-c791-4aa6-cb02-3cd9f23cd648"
      },
      "outputs": [
        {
          "name": "stdout",
          "output_type": "stream",
          "text": [
            "[[0 1 2]\n",
            " [1 2 3]\n",
            " [2 3 4]]\n"
          ]
        }
      ],
      "source": [
        "#62. Considering two arrays with shape (1,3) and (3,1), how to compute their sum using an iterator? (★★☆)\n",
        "A = np.arange(3).reshape(3,1)\n",
        "B = np.arange(3).reshape(1,3)\n",
        "it = np.nditer([A,B,None])\n",
        "for x,y,z in it: z[...] = x + y\n",
        "print(it.operands[2])"
      ]
    },
    {
      "cell_type": "code",
      "execution_count": null,
      "metadata": {
        "id": "cFVKJP47ePJM"
      },
      "outputs": [],
      "source": [
        "#63. Create an array class that has a name attribute (★★☆)\n",
        "class NamedArray(np.ndarray):\n",
        "    def __new__(cls, array, name=\"no name\"):\n",
        "        obj = np.asarray(array).view(cls)\n",
        "        obj.name = name\n",
        "        return obj\n",
        "    def __array_finalize__(self, obj):\n",
        "        if obj is None: return\n",
        "        self.info = getattr(obj, 'name', \"no name\")"
      ]
    },
    {
      "cell_type": "code",
      "execution_count": null,
      "metadata": {
        "colab": {
          "base_uri": "https://localhost:8080/"
        },
        "id": "pFBxAbz6ePLf",
        "outputId": "db05a22f-c54d-428b-a57b-7f04f32c98fb"
      },
      "outputs": [
        {
          "name": "stdout",
          "output_type": "stream",
          "text": [
            "[1. 2. 4. 2. 2. 4. 6. 3. 2. 4.]\n"
          ]
        }
      ],
      "source": [
        "#64. Consider a given vector, how to add 1 to each element indexed by a second vector (be careful with repeated indices)? \n",
        "Z = np.ones(10)\n",
        "I = np.random.randint(0,len(Z),20)\n",
        "Z += np.bincount(I, minlength=len(Z))\n",
        "print(Z)"
      ]
    },
    {
      "cell_type": "code",
      "execution_count": null,
      "metadata": {
        "colab": {
          "base_uri": "https://localhost:8080/"
        },
        "id": "hOL6KaplePOF",
        "outputId": "9b635b61-5fe2-4e06-cb6d-1d4010bbc5d5"
      },
      "outputs": [
        {
          "name": "stdout",
          "output_type": "stream",
          "text": [
            "[0. 7. 0. 6. 5. 0. 0. 0. 0. 3.]\n"
          ]
        }
      ],
      "source": [
        "#65. How to accumulate elements of a vector (X) to an array (F) based on an index list (I)? \n",
        "X = [1,2,3,4,5,6]\n",
        "I = [1,3,9,3,4,1]\n",
        "F = np.bincount(I,X)\n",
        "print(F)"
      ]
    },
    {
      "cell_type": "code",
      "execution_count": null,
      "metadata": {
        "colab": {
          "base_uri": "https://localhost:8080/"
        },
        "id": "aF5Rb1GxePQc",
        "outputId": "9ec17c00-066b-4d03-bac8-d940262d2d65"
      },
      "outputs": [
        {
          "name": "stdout",
          "output_type": "stream",
          "text": [
            "8\n"
          ]
        }
      ],
      "source": [
        "#66. Considering a (w,h,3) image of (dtype=ubyte), compute the number of unique colors (★★★)\n",
        "w,h = 16,16\n",
        "I = np.random.randint(0,2,(h,w,3)).astype(np.ubyte)\n",
        "F = I[...,0]*(256*256) + I[...,1]*256 +I[...,2]\n",
        "n = len(np.unique(F))\n",
        "print(n)"
      ]
    },
    {
      "cell_type": "code",
      "execution_count": null,
      "metadata": {
        "colab": {
          "base_uri": "https://localhost:8080/"
        },
        "id": "ePmIrlvZePTA",
        "outputId": "5b140717-ddde-499e-f1f8-263e3b693a15"
      },
      "outputs": [
        {
          "name": "stdout",
          "output_type": "stream",
          "text": [
            "[[44 47 36 68]\n",
            " [48 43 58 32]\n",
            " [48 58 63 51]]\n",
            "[[44 47 36 68]\n",
            " [48 43 58 32]\n",
            " [48 58 63 51]]\n"
          ]
        }
      ],
      "source": [
        "#67. Considering a four dimensions array, how to get sum over the last two axis at once? (★★★)\n",
        "A = np.random.randint(0,10,(3,4,3,4))\n",
        "sum = A.sum(axis=(-2,-1))\n",
        "print(sum)\n",
        "sum = A.reshape(A.shape[:-2] + (-1,)).sum(axis=-1)\n",
        "print(sum)"
      ]
    },
    {
      "cell_type": "code",
      "execution_count": null,
      "metadata": {
        "colab": {
          "base_uri": "https://localhost:8080/"
        },
        "id": "2fhof1ouePVZ",
        "outputId": "34b47e52-4da1-46ee-f10b-9bdebf1f9d9e"
      },
      "outputs": [
        {
          "name": "stdout",
          "output_type": "stream",
          "text": [
            "[0.41347166 0.4340333  0.50246364 0.50743584 0.39743589 0.43268291\n",
            " 0.47515207 0.36939763 0.55716187 0.45252549]\n",
            "0    0.413472\n",
            "1    0.434033\n",
            "2    0.502464\n",
            "3    0.507436\n",
            "4    0.397436\n",
            "5    0.432683\n",
            "6    0.475152\n",
            "7    0.369398\n",
            "8    0.557162\n",
            "9    0.452525\n",
            "dtype: float64\n"
          ]
        }
      ],
      "source": [
        "#68. Considering a one-dimensional vector D, how to compute means of subsets of D using a vector S of same size describing subset indices? \n",
        "D = np.random.uniform(0,1,100)\n",
        "S = np.random.randint(0,10,100)\n",
        "D_sums = np.bincount(S, weights=D)\n",
        "D_counts = np.bincount(S)\n",
        "D_means = D_sums / D_counts\n",
        "print(D_means)\n",
        "import pandas as pd\n",
        "print(pd.Series(D).groupby(S).mean())"
      ]
    },
    {
      "cell_type": "code",
      "execution_count": null,
      "metadata": {
        "colab": {
          "base_uri": "https://localhost:8080/"
        },
        "id": "Lh_heGTTePYA",
        "outputId": "6c27d48a-8597-4df7-ca22-3751bb01ea08"
      },
      "outputs": [
        {
          "data": {
            "text/plain": [
              "array([1.37583778, 1.38852276, 1.40339719, 0.98752047, 0.75101932])"
            ]
          },
          "execution_count": 89,
          "metadata": {},
          "output_type": "execute_result"
        }
      ],
      "source": [
        "#69. How to get the diagonal of a dot product?\n",
        "\n",
        "A = np.random.uniform(0,1,(5,5))\n",
        "B = np.random.uniform(0,1,(5,5))\n",
        "  \n",
        "np.diag(np.dot(A, B))\n",
        "\n",
        "np.sum(A * B.T, axis=1)\n",
        "\n",
        "np.einsum(\"ij,ji->i\", A, B)"
      ]
    },
    {
      "cell_type": "code",
      "execution_count": null,
      "metadata": {
        "colab": {
          "background_save": true
        },
        "id": "LjPY4GscePbN",
        "outputId": "7dc7869f-6653-4315-9213-12891517d112"
      },
      "outputs": [
        {
          "name": "stdout",
          "output_type": "stream",
          "text": [
            "[1. 0. 0. 0. 2. 0. 0. 0. 3. 0. 0. 0. 4. 0. 0. 0. 5.]\n"
          ]
        }
      ],
      "source": [
        "#70. Consider the vector [1, 2, 3, 4, 5], how to build a new vector with 3 consecutive zeros interleaved between each value? (★★★)\n",
        "Z = np.array([1,2,3,4,5])\n",
        "nz = 3\n",
        "Z0 = np.zeros(len(Z) + (len(Z)-1)*(nz))\n",
        "Z0[::nz+1] = Z\n",
        "print(Z0)"
      ]
    }
  ],
  "metadata": {
    "colab": {
      "provenance": [],
      "authorship_tag": "ABX9TyNGnSPuiSKmuenqD221o4Dm",
      "include_colab_link": true
    },
    "kernelspec": {
      "display_name": "Python 3",
      "name": "python3"
    },
    "language_info": {
      "name": "python"
    }
  },
  "nbformat": 4,
  "nbformat_minor": 0
}