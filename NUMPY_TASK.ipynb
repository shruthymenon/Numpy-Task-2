{
  "cells": [
    {
      "cell_type": "markdown",
      "metadata": {
        "id": "view-in-github",
        "colab_type": "text"
      },
      "source": [
        "<a href=\"https://colab.research.google.com/github/shruthymenon/Numpy-Task-2/blob/main/NUMPY_TASK.ipynb\" target=\"_parent\"><img src=\"https://colab.research.google.com/assets/colab-badge.svg\" alt=\"Open In Colab\"/></a>"
      ]
    },
    {
      "cell_type": "code",
      "execution_count": 2,
      "metadata": {
        "id": "TNhYmt3QQDEt"
      },
      "outputs": [],
      "source": [
        "#1. Import the numpy package under the name np\n",
        "import numpy as np"
      ]
    },
    {
      "cell_type": "code",
      "execution_count": 3,
      "metadata": {
        "colab": {
          "base_uri": "https://localhost:8080/",
          "height": 36
        },
        "id": "tklSoPVAQU_H",
        "outputId": "f46cfc69-9081-4088-ed9a-06b8e085eeb7"
      },
      "outputs": [
        {
          "output_type": "execute_result",
          "data": {
            "text/plain": [
              "'1.21.6'"
            ],
            "application/vnd.google.colaboratory.intrinsic+json": {
              "type": "string"
            }
          },
          "metadata": {},
          "execution_count": 3
        }
      ],
      "source": [
        "#2.Print the numpy version and the configuration\n",
        "np.__version__"
      ]
    },
    {
      "cell_type": "code",
      "execution_count": null,
      "metadata": {
        "colab": {
          "base_uri": "https://localhost:8080/"
        },
        "id": "m0bJfhmjQuHD",
        "outputId": "77093e43-d929-46fb-8ea5-79d6e9616092"
      },
      "outputs": [
        {
          "data": {
            "text/plain": [
              "array([0, 0, 0, 0, 0, 0, 0, 0, 0, 0])"
            ]
          },
          "execution_count": 14,
          "metadata": {},
          "output_type": "execute_result"
        }
      ],
      "source": [
        "#3.Create a null vector of size 10\n",
        "a=np.zeros(10,dtype='int' )\n",
        "a\n"
      ]
    },
    {
      "cell_type": "code",
      "execution_count": null,
      "metadata": {
        "colab": {
          "base_uri": "https://localhost:8080/"
        },
        "id": "PypcQ0XVRBWZ",
        "outputId": "d4f5f850-e423-48b8-975d-e928342cf909"
      },
      "outputs": [
        {
          "name": "stdout",
          "output_type": "stream",
          "text": [
            "10 8\n"
          ]
        }
      ],
      "source": [
        "#4.How to find the memory size of any array \n",
        "\n",
        "print(a.size,a.itemsize)#total no of elements #memory size of elements\n"
      ]
    },
    {
      "cell_type": "code",
      "execution_count": null,
      "metadata": {
        "colab": {
          "base_uri": "https://localhost:8080/"
        },
        "id": "6SnnR80QRPfm",
        "outputId": "067c816c-6e3e-435d-a55f-54b8b6ae64a0"
      },
      "outputs": [
        {
          "name": "stdout",
          "output_type": "stream",
          "text": [
            " info(object=None, maxwidth=76,\n",
            "      output=<ipykernel.iostream.OutStream object at 0x7f2099256690>,\n",
            "      toplevel='numpy')\n",
            "\n",
            "Get help information for a function, class, or module.\n",
            "\n",
            "Parameters\n",
            "----------\n",
            "object : object or str, optional\n",
            "    Input object or name to get information about. If `object` is a\n",
            "    numpy object, its docstring is given. If it is a string, available\n",
            "    modules are searched for matching objects.  If None, information\n",
            "    about `info` itself is returned.\n",
            "maxwidth : int, optional\n",
            "    Printing width.\n",
            "output : file like object, optional\n",
            "    File like object that the output is written to, default is\n",
            "    ``stdout``.  The object has to be opened in 'w' or 'a' mode.\n",
            "toplevel : str, optional\n",
            "    Start search at this level.\n",
            "\n",
            "See Also\n",
            "--------\n",
            "source, lookfor\n",
            "\n",
            "Notes\n",
            "-----\n",
            "When used interactively with an object, ``np.info(obj)`` is equivalent\n",
            "to ``help(obj)`` on the Python prompt or ``obj?`` on the IPython\n",
            "prompt.\n",
            "\n",
            "Examples\n",
            "--------\n",
            ">>> np.info(np.polyval) # doctest: +SKIP\n",
            "   polyval(p, x)\n",
            "     Evaluate the polynomial p at x.\n",
            "     ...\n",
            "\n",
            "When using a string for `object` it is possible to get multiple results.\n",
            "\n",
            ">>> np.info('fft') # doctest: +SKIP\n",
            "     *** Found in numpy ***\n",
            "Core FFT routines\n",
            "...\n",
            "     *** Found in numpy.fft ***\n",
            " fft(a, n=None, axis=-1)\n",
            "...\n",
            "     *** Repeat reference found in numpy.fft.fftpack ***\n",
            "     *** Total of 3 references found. ***\n"
          ]
        }
      ],
      "source": [
        "#5. How to get the documentation of the numpy add function from the command line? (★☆☆)\n",
        "np.info()"
      ]
    },
    {
      "cell_type": "code",
      "execution_count": null,
      "metadata": {
        "colab": {
          "base_uri": "https://localhost:8080/"
        },
        "id": "3X15r3d5RUtL",
        "outputId": "6acc7a02-dbbb-4dff-b1bf-1796e1723021"
      },
      "outputs": [
        {
          "name": "stdout",
          "output_type": "stream",
          "text": [
            "[0 0 0 0 1 0 0 0 0 0]\n"
          ]
        }
      ],
      "source": [
        "#6. Create a null vector of size 10 but the fifth value which is 1 (★☆☆)\n",
        "a[4]=1\n",
        "print(a)"
      ]
    },
    {
      "cell_type": "code",
      "execution_count": null,
      "metadata": {
        "colab": {
          "base_uri": "https://localhost:8080/"
        },
        "id": "pP8fr2fn3Ho7",
        "outputId": "b3871907-f25a-4ae6-b29a-44f03272c37f"
      },
      "outputs": [
        {
          "name": "stdout",
          "output_type": "stream",
          "text": [
            "[10 11 12 13 14 15 16 17 18 19 20 21 22 23 24 25 26 27 28 29 30 31 32 33\n",
            " 34 35 36 37 38 39 40 41 42 43 44 45 46 47 48]\n"
          ]
        }
      ],
      "source": [
        "#7. Create a vector with values ranging from 10 to 49 (★☆☆)\n",
        "b=np.arange(10,49)\n",
        "print(b)"
      ]
    },
    {
      "cell_type": "code",
      "execution_count": null,
      "metadata": {
        "colab": {
          "base_uri": "https://localhost:8080/"
        },
        "id": "TF9PiLtY3ViF",
        "outputId": "34cf1bbe-f7ee-4ce4-c279-e3ab21a34276"
      },
      "outputs": [
        {
          "name": "stdout",
          "output_type": "stream",
          "text": [
            "[48 47 46 45 44 43 42 41 40 39 38 37 36 35 34 33 32 31 30 29 28 27 26 25\n",
            " 24 23 22 21 20 19 18 17 16 15 14 13 12 11 10]\n"
          ]
        }
      ],
      "source": [
        "#8 Reverse a vector (first element becomes last) (★☆☆)\n",
        "print(b[::-1])\n"
      ]
    },
    {
      "cell_type": "code",
      "execution_count": null,
      "metadata": {
        "colab": {
          "base_uri": "https://localhost:8080/"
        },
        "id": "1Fsp6s9i3fV0",
        "outputId": "9baba1e4-a636-4f4d-a203-5936186ef045"
      },
      "outputs": [
        {
          "name": "stdout",
          "output_type": "stream",
          "text": [
            "[[0 1 2]\n",
            " [3 4 5]\n",
            " [6 7 8]]\n"
          ]
        }
      ],
      "source": [
        "#9. Create a 3x3 matrix with values ranging from 0 to 8 (★☆☆)\n",
        "arr=np.arange(0,9).reshape(3,3)\n",
        "print(arr)"
      ]
    },
    {
      "cell_type": "code",
      "execution_count": null,
      "metadata": {
        "colab": {
          "base_uri": "https://localhost:8080/"
        },
        "id": "PwH0si3DQ2mz",
        "outputId": "459f710f-b3c3-4631-cc82-21fb50161aec"
      },
      "outputs": [
        {
          "name": "stdout",
          "output_type": "stream",
          "text": [
            "0\n",
            "1\n",
            "4\n"
          ]
        }
      ],
      "source": [
        "#10.Find indices of non-zero elements from [1,2,0,0,4,0]\n",
        "a=[1,2,0,0,4,0]\n",
        "for i in range(6):\n",
        "  if a[i]!=0:\n",
        "    print(i)"
      ]
    },
    {
      "cell_type": "code",
      "execution_count": null,
      "metadata": {
        "colab": {
          "base_uri": "https://localhost:8080/"
        },
        "id": "QAnyMNmaR2zA",
        "outputId": "1033b596-cc68-4ba8-8f75-bf413c117b3c"
      },
      "outputs": [
        {
          "name": "stdout",
          "output_type": "stream",
          "text": [
            "[[1 0 0]\n",
            " [0 1 0]\n",
            " [0 0 1]]\n"
          ]
        }
      ],
      "source": [
        "#11.Create a 3x3 identity matrix \n",
        "a=np.eye(3,3,dtype=int)\n",
        "print(a)"
      ]
    },
    {
      "cell_type": "code",
      "execution_count": null,
      "metadata": {
        "colab": {
          "base_uri": "https://localhost:8080/"
        },
        "id": "6O44ldmPR26h",
        "outputId": "007698bb-d13b-4283-9356-9db11ea7d3b0"
      },
      "outputs": [
        {
          "name": "stdout",
          "output_type": "stream",
          "text": [
            "[[[25 71  2]\n",
            "  [53 29 24]\n",
            "  [83 18 44]]\n",
            "\n",
            " [[43 19 31]\n",
            "  [31 77 16]\n",
            "  [26 52 56]]\n",
            "\n",
            " [[16 10 39]\n",
            "  [48 63 89]\n",
            "  [34  2 67]]]\n"
          ]
        }
      ],
      "source": [
        "#12. Create a 3x3x3 array with random values\n",
        "a=np.random.randint(0,100,size=(3,3,3))\n",
        "print(a)"
      ]
    },
    {
      "cell_type": "code",
      "execution_count": null,
      "metadata": {
        "colab": {
          "base_uri": "https://localhost:8080/"
        },
        "id": "pdRjsfr5S-1b",
        "outputId": "466a50fa-cabb-48f8-9840-7d8055ecf4fc"
      },
      "outputs": [
        {
          "name": "stdout",
          "output_type": "stream",
          "text": [
            "[[0.68055732 0.34932115 0.72055618 0.60015099 0.45612887 0.09396673\n",
            "  0.08792159 0.40665425 0.89317968 0.08864326]\n",
            " [0.70556124 0.10415343 0.77493821 0.36505726 0.95874182 0.51956958\n",
            "  0.45596424 0.04628309 0.3023252  0.60905418]\n",
            " [0.82091772 0.70441783 0.8459032  0.09512494 0.29719704 0.19217964\n",
            "  0.22782834 0.54618979 0.28657282 0.60627814]\n",
            " [0.86188016 0.02570064 0.83833088 0.72425815 0.64090552 0.29074685\n",
            "  0.91922232 0.18788372 0.86948121 0.18176173]\n",
            " [0.7504528  0.96312466 0.32138575 0.55835211 0.58142201 0.39286009\n",
            "  0.11587764 0.28267463 0.79363703 0.2979257 ]\n",
            " [0.45476565 0.51296809 0.20496756 0.00270545 0.68095483 0.7645804\n",
            "  0.68432064 0.95035496 0.40426233 0.79205647]\n",
            " [0.45337578 0.37372135 0.29387134 0.84670335 0.13801314 0.94158006\n",
            "  0.54551409 0.62456065 0.57526497 0.08406823]\n",
            " [0.89858645 0.10872294 0.30928597 0.41281744 0.53862544 0.02071037\n",
            "  0.03575563 0.71206325 0.40015716 0.84232461]\n",
            " [0.08809693 0.49868273 0.79253233 0.88617268 0.81929175 0.98799053\n",
            "  0.92881116 0.03728275 0.30717544 0.5329079 ]\n",
            " [0.80688263 0.498283   0.18714006 0.54156816 0.74629835 0.09157006\n",
            "  0.89503581 0.76713875 0.75289811 0.21939787]]\n",
            "0.002705451946707904\n",
            "0.9879905312134096\n"
          ]
        }
      ],
      "source": [
        "#13. Create a 10x10 array with random values and find the minimum and maximum values\n",
        "a=np.random.rand(10,10)\n",
        "print(a)\n",
        "print(np.min(a))\n",
        "print(np.max(a))"
      ]
    },
    {
      "cell_type": "code",
      "execution_count": null,
      "metadata": {
        "colab": {
          "base_uri": "https://localhost:8080/"
        },
        "id": "qY0y7j_KTZ94",
        "outputId": "9921370f-6806-427c-e73f-c131dcd2398f"
      },
      "outputs": [
        {
          "name": "stdout",
          "output_type": "stream",
          "text": [
            "[78 50 81  6 66  1 76 49 70 62 62 61 23 99 37 13 63 35 18 73 51  0  2 22\n",
            " 86 11 22 79 99  2]\n",
            "46.56666666666667\n"
          ]
        }
      ],
      "source": [
        "#14.Create a random vector of size 30 and find the mean value \n",
        "a=np.random.randint(0,100,size=(30))\n",
        "print(a)\n",
        "print(np.mean(a))"
      ]
    },
    {
      "cell_type": "code",
      "execution_count": null,
      "metadata": {
        "colab": {
          "base_uri": "https://localhost:8080/"
        },
        "id": "pE8wxlzdUCUJ",
        "outputId": "fb1ce4a5-a6cb-4113-cada-94db7ad86040"
      },
      "outputs": [
        {
          "name": "stdout",
          "output_type": "stream",
          "text": [
            "[[1 1 1 1 1 1]\n",
            " [1 1 1 1 1 1]\n",
            " [1 1 1 1 1 1]\n",
            " [1 1 1 1 1 1]\n",
            " [1 1 1 1 1 1]\n",
            " [1 1 1 1 1 1]]\n",
            "[[0 0 0 0]\n",
            " [0 0 0 0]\n",
            " [0 0 0 0]\n",
            " [0 0 0 0]]\n",
            "[[1 1 1 1 1 1]\n",
            " [1 0 0 0 0 1]\n",
            " [1 0 0 0 0 1]\n",
            " [1 0 0 0 0 1]\n",
            " [1 0 0 0 0 1]\n",
            " [1 1 1 1 1 1]]\n"
          ]
        }
      ],
      "source": [
        "#15. Create a 2d array with 1 on the border and 0 inside\n",
        "a=np.ones([6,6],dtype=int)\n",
        "print(a)\n",
        "b=np.zeros([4,4],dtype=int)\n",
        "print(b)\n",
        "a[1:-1,1:-1]=b\n",
        "print(a)"
      ]
    },
    {
      "cell_type": "code",
      "execution_count": null,
      "metadata": {
        "colab": {
          "base_uri": "https://localhost:8080/"
        },
        "id": "e3O8C5HgVKYH",
        "outputId": "dc743663-f9ae-4ab7-b4fd-c399daa2426f"
      },
      "outputs": [
        {
          "name": "stdout",
          "output_type": "stream",
          "text": [
            "[[ 70  15 189 137 151 177]\n",
            " [166 152  76  90 110  11]\n",
            " [ 73 105  46 195   3 169]\n",
            " [145 143 103 114  27  27]\n",
            " [ 86 199  28  79  79 124]\n",
            " [171 199   9   1  11  74]]\n",
            "[[  0   0   0   0   0   0]\n",
            " [  0 152  76  90 110   0]\n",
            " [  0 105  46 195   3   0]\n",
            " [  0 143 103 114  27   0]\n",
            " [  0 199  28  79  79   0]\n",
            " [  0   0   0   0   0   0]]\n"
          ]
        }
      ],
      "source": [
        "#16. How to add a border (filled with 0's) around an existing array? \n",
        "import numpy as np\n",
        "a= np.random.randint(1,200,size=(6,6),dtype='int32')\n",
        "print(a)\n",
        "b=np.zeros((4,4))\n",
        "a[:,0]= 0; a[0,:]=0;a[-1,:]=0;a[:,-1]=0\n",
        "print(a)"
      ]
    },
    {
      "cell_type": "code",
      "execution_count": null,
      "metadata": {
        "colab": {
          "base_uri": "https://localhost:8080/"
        },
        "id": "8qKG13o9Vl5S",
        "outputId": "0a37658f-6f53-4b31-a4cb-62550d25e6c5"
      },
      "outputs": [
        {
          "data": {
            "text/plain": [
              "False"
            ]
          },
          "execution_count": 21,
          "metadata": {},
          "output_type": "execute_result"
        }
      ],
      "source": [
        "#17. What is the result of the following expression?\n",
        "#(hint: NaN = not a number, inf = infinity)\n",
        "import numpy as np\n",
        "0 * np.nan\n",
        "np.nan == np.nan\n",
        "np.inf > np.nan\n",
        "np.nan - np.nan\n",
        "np.nan in set([np.nan])\n",
        "0.3 == 3 * 0.1"
      ]
    },
    {
      "cell_type": "code",
      "execution_count": null,
      "metadata": {
        "colab": {
          "base_uri": "https://localhost:8080/"
        },
        "id": "EuXY_LuQV5tO",
        "outputId": "6ff528ae-5e24-426a-e8ed-11f277199502"
      },
      "outputs": [
        {
          "name": "stdout",
          "output_type": "stream",
          "text": [
            "[[0. 0. 0. 0. 0.]\n",
            " [0. 0. 0. 0. 0.]\n",
            " [0. 0. 0. 0. 0.]\n",
            " [0. 0. 0. 0. 0.]\n",
            " [0. 0. 0. 0. 0.]]\n",
            "[[0. 0. 0. 0. 0.]\n",
            " [1. 0. 0. 0. 0.]\n",
            " [0. 2. 0. 0. 0.]\n",
            " [0. 0. 3. 0. 0.]\n",
            " [0. 0. 0. 4. 0.]]\n"
          ]
        }
      ],
      "source": [
        "#18.Create a 5x5 matrix with values 1,2,3,4 just below the diagonal \n",
        "import numpy as np\n",
        "a= np.zeros((5,5) )\n",
        "print(a)\n",
        "j=1;k=1\n",
        "for i in range(1,5):\n",
        "  a[i,j-1] = k  \n",
        "  j=j+1;k+=1\n",
        "print(a)"
      ]
    },
    {
      "cell_type": "code",
      "execution_count": null,
      "metadata": {
        "colab": {
          "base_uri": "https://localhost:8080/"
        },
        "id": "e86jQjQPWKeq",
        "outputId": "8e03b82e-df1c-4572-dc81-a66a7209b7ab"
      },
      "outputs": [
        {
          "name": "stdout",
          "output_type": "stream",
          "text": [
            "Checkerboard pattern:\n",
            "[[0 1 0 1 0 1 0 1]\n",
            " [1 0 1 0 1 0 1 0]\n",
            " [0 1 0 1 0 1 0 1]\n",
            " [1 0 1 0 1 0 1 0]\n",
            " [0 1 0 1 0 1 0 1]\n",
            " [1 0 1 0 1 0 1 0]\n",
            " [0 1 0 1 0 1 0 1]\n",
            " [1 0 1 0 1 0 1 0]]\n"
          ]
        }
      ],
      "source": [
        "#19 Create a 8x8 matrix and fill it with a checkerboard pattern\n",
        "import numpy as np\n",
        "a=np.zeros((8,8))\n",
        "import numpy as np\n",
        "x = np.ones((3,3))\n",
        "print(\"Checkerboard pattern:\")\n",
        "x = np.zeros((8,8),dtype=int)\n",
        "x[1::2,::2] = 1\n",
        "x[::2,1::2] = 1\n",
        "print(x)"
      ]
    },
    {
      "cell_type": "code",
      "execution_count": null,
      "metadata": {
        "colab": {
          "base_uri": "https://localhost:8080/"
        },
        "id": "NRHe-YUrWern",
        "outputId": "8adde773-b3f9-47ae-c71d-2e7244d940a6"
      },
      "outputs": [
        {
          "name": "stdout",
          "output_type": "stream",
          "text": [
            "5 6 0\n"
          ]
        }
      ],
      "source": [
        "#20.Consider a (6,7,8) shape array, what is the index (x,y,z) of the 100th element?\n",
        "import numpy as np\n",
        "a=np.ones((6,7,8))\n",
        "m=0\n",
        "for i in range(6):\n",
        "  for j in range (7):\n",
        "    for k in range(8):\n",
        "      \n",
        "      if(m==100):\n",
        "       break\n",
        "      m=m+1\n",
        "print(i,j,k)"
      ]
    },
    {
      "cell_type": "code",
      "execution_count": null,
      "metadata": {
        "colab": {
          "base_uri": "https://localhost:8080/"
        },
        "id": "OAa0M4MQWqm4",
        "outputId": "eb8478a0-1fec-4366-bcb8-9c77ff56b67c"
      },
      "outputs": [
        {
          "name": "stdout",
          "output_type": "stream",
          "text": [
            "[[[[[[[[0 1 0 1 0 1 0 1]\n",
            "       [0 1 0 1 0 1 0 1]\n",
            "       [0 1 0 1 0 1 0 1]\n",
            "       [0 1 0 1 0 1 0 1]\n",
            "       [0 1 0 1 0 1 0 1]\n",
            "       [0 1 0 1 0 1 0 1]\n",
            "       [0 1 0 1 0 1 0 1]\n",
            "       [0 1 0 1 0 1 0 1]]]]]]]]\n"
          ]
        }
      ],
      "source": [
        "#21.Create a checkerboard 8x8 matrix using the tile function\n",
        "import numpy as np\n",
        "A = np.array([[[[[[[[0,1],[0,1],[0,1],[0,1],[0,1],[0,1],[0,1],[0,1]]]]]]]])\n",
        "x = np.tile(A,reps=4)\n",
        "print(x)"
      ]
    },
    {
      "cell_type": "code",
      "execution_count": null,
      "metadata": {
        "colab": {
          "base_uri": "https://localhost:8080/"
        },
        "id": "qq7ajYQ-W6lR",
        "outputId": "7df66486-a7dc-48c5-8ce3-999a8b49760a"
      },
      "outputs": [
        {
          "name": "stdout",
          "output_type": "stream",
          "text": [
            "[[0.43042404 0.50507407 0.36347196 0.49910119 0.487247  ]\n",
            " [0.79752548 0.94031071 0.45485252 0.90436461 0.79006394]\n",
            " [0.56950445 0.88790466 0.11063609 0.09044992 0.14063367]\n",
            " [0.61368756 0.57738413 0.89225384 0.27846316 0.68639694]\n",
            " [0.94043441 0.57195446 0.60613172 0.75258775 0.3179559 ]]\n",
            "[[0.39997685 0.48780202 0.32120826 0.48077498 0.46682862]\n",
            " [0.83186879 0.99985447 0.42871677 0.95756417 0.82309034]\n",
            " [0.56360384 0.93819917 0.02374886 0.         0.05904078]\n",
            " [0.61558492 0.57287422 0.94331594 0.22119608 0.70112693]\n",
            " [1.         0.56648627 0.60669554 0.7789999  0.26765898]]\n"
          ]
        }
      ],
      "source": [
        "#22. Normalize a 5x5 random matrix\n",
        "import numpy as np\n",
        "a = np.random.rand(5,5)\n",
        "print(a)\n",
        "min=np.min(a);max=np.max(a)\n",
        "a=(a-min)/(max-min)\n",
        "print(a)"
      ]
    },
    {
      "cell_type": "code",
      "execution_count": null,
      "metadata": {
        "id": "ecUdePauXKw2"
      },
      "outputs": [],
      "source": [
        "#23.Create a custom dtype that describes a color as four unsigned bytes (RGBA)\n",
        "color = np.dtype([(\"r\", np.ubyte),\n",
        "                  (\"g\", np.ubyte),\n",
        "                  (\"b\", np.ubyte),\n",
        "                  (\"a\", np.ubyte)])"
      ]
    },
    {
      "cell_type": "code",
      "execution_count": null,
      "metadata": {
        "colab": {
          "base_uri": "https://localhost:8080/"
        },
        "id": "d3B1zJlsXq2o",
        "outputId": "332a7106-88c5-4874-aa33-0b0ab35cc731"
      },
      "outputs": [
        {
          "name": "stdout",
          "output_type": "stream",
          "text": [
            "[[3. 3.]\n",
            " [3. 3.]\n",
            " [3. 3.]\n",
            " [3. 3.]\n",
            " [3. 3.]]\n"
          ]
        }
      ],
      "source": [
        "#25.Multiply a 5x3 matrix by a 3x2 matrix (real matrix product) (★☆☆)\n",
        "Z = np.dot(np.ones((5,3)), np.ones((3,2)))\n",
        "print(Z)"
      ]
    },
    {
      "cell_type": "code",
      "execution_count": null,
      "metadata": {
        "colab": {
          "base_uri": "https://localhost:8080/"
        },
        "id": "-jwmk3wPX1LU",
        "outputId": "d0ab7ccc-649c-436e-d291-a9eda61dff43"
      },
      "outputs": [
        {
          "name": "stdout",
          "output_type": "stream",
          "text": [
            "[ 0  1  2  3 -4 -5 -6 -7  8  9 10]\n"
          ]
        }
      ],
      "source": [
        "#25. Given a 1D array, negate all elements which are between 3 and 8, in place.\n",
        "Z = np.arange(11)\n",
        "Z[(3 < Z) & (Z < 8)] *= -1\n",
        "print(Z)"
      ]
    },
    {
      "cell_type": "code",
      "execution_count": null,
      "metadata": {
        "colab": {
          "base_uri": "https://localhost:8080/"
        },
        "id": "UpF_4DOXX_1e",
        "outputId": "3ba0e70b-2185-4101-a67a-0b297ad70bf4"
      },
      "outputs": [
        {
          "name": "stdout",
          "output_type": "stream",
          "text": [
            "9\n",
            "10\n"
          ]
        }
      ],
      "source": [
        "#26. What is the output of the following script?\n",
        "print(sum(range(5),-1))\n",
        "from numpy import *\n",
        "print(sum(range(5),-1))"
      ]
    },
    {
      "cell_type": "code",
      "execution_count": null,
      "metadata": {
        "colab": {
          "base_uri": "https://localhost:8080/",
          "height": 200
        },
        "id": "yYG68miPYQty",
        "outputId": "5deb056c-ad96-4f38-e968-6100c2169527"
      },
      "outputs": [
        {
          "ename": "ValueError",
          "evalue": "ignored",
          "output_type": "error",
          "traceback": [
            "\u001b[0;31m---------------------------------------------------------------------------\u001b[0m",
            "\u001b[0;31mValueError\u001b[0m                                Traceback (most recent call last)",
            "\u001b[0;32m<ipython-input-33-295e78ee1c10>\u001b[0m in \u001b[0;36m<module>\u001b[0;34m\u001b[0m\n\u001b[1;32m      6\u001b[0m \u001b[0;36m1j\u001b[0m \u001b[0;34m*\u001b[0m \u001b[0mZ\u001b[0m       \u001b[0;31m# = [0 + 0.j, 0 + 1.j, 0 + 2.j]\u001b[0m\u001b[0;34m\u001b[0m\u001b[0;34m\u001b[0m\u001b[0m\n\u001b[1;32m      7\u001b[0m \u001b[0mZ\u001b[0m \u001b[0;34m/\u001b[0m \u001b[0;36m1\u001b[0m \u001b[0;34m/\u001b[0m \u001b[0;36m1\u001b[0m    \u001b[0;31m# = [0, 1, 2]\u001b[0m\u001b[0;34m\u001b[0m\u001b[0;34m\u001b[0m\u001b[0m\n\u001b[0;32m----> 8\u001b[0;31m \u001b[0mZ\u001b[0m \u001b[0;34m<\u001b[0m \u001b[0mZ\u001b[0m \u001b[0;34m>\u001b[0m \u001b[0mZ\u001b[0m    \u001b[0;31m# ValueError\u001b[0m\u001b[0;34m\u001b[0m\u001b[0;34m\u001b[0m\u001b[0m\n\u001b[0m",
            "\u001b[0;31mValueError\u001b[0m: The truth value of an array with more than one element is ambiguous. Use a.any() or a.all()"
          ]
        }
      ],
      "source": [
        "#27. Consider an integer vector Z, which of these expressions are legal? \n",
        "Z = np.arange(3)\n",
        "Z ** Z       # = [0^0, 1^1, 2^2] = [1, 1, 4]\n",
        "2 << Z >> 2  # = [0, 1, 2]\n",
        "Z < - Z      # = [False, False, False]\n",
        "1j * Z       # = [0 + 0.j, 0 + 1.j, 0 + 2.j]\n",
        "Z / 1 / 1    # = [0, 1, 2]\n",
        "Z < Z > Z    # ValueError"
      ]
    },
    {
      "cell_type": "code",
      "execution_count": null,
      "metadata": {
        "colab": {
          "base_uri": "https://localhost:8080/"
        },
        "id": "Lu5XIOd_Y8m8",
        "outputId": "0f59e27d-8d54-4422-985c-29104edf24be"
      },
      "outputs": [
        {
          "name": "stderr",
          "output_type": "stream",
          "text": [
            "/usr/local/lib/python3.7/dist-packages/ipykernel_launcher.py:2: RuntimeWarning: invalid value encountered in true_divide\n",
            "  \n",
            "/usr/local/lib/python3.7/dist-packages/ipykernel_launcher.py:3: RuntimeWarning: divide by zero encountered in floor_divide\n",
            "  This is separate from the ipykernel package so we can avoid doing imports until\n"
          ]
        },
        {
          "data": {
            "text/plain": [
              "array([-9.22337204e+18])"
            ]
          },
          "execution_count": 34,
          "metadata": {},
          "output_type": "execute_result"
        }
      ],
      "source": [
        "# 28. What are the result of the following expressions? (★☆☆)\n",
        "np.array(0) / np.array(0)\n",
        "np.array(0) // np.array(0)\n",
        "np.array([np.nan]).astype(int).astype(float)"
      ]
    },
    {
      "cell_type": "code",
      "execution_count": null,
      "metadata": {
        "colab": {
          "base_uri": "https://localhost:8080/"
        },
        "id": "Iv1Fj8MLZGEE",
        "outputId": "997b50b3-91d5-4ff0-d55a-b26366ee2a5c"
      },
      "outputs": [
        {
          "data": {
            "text/plain": [
              "array([ 8.,  7., 10., -7., -9.,  9.,  2., -3.,  4., -8.])"
            ]
          },
          "execution_count": 35,
          "metadata": {},
          "output_type": "execute_result"
        }
      ],
      "source": [
        "# 29. How to round away from zero a float array ? (★☆☆)\n",
        "x = np.random.uniform(-10, +10, 10)\n",
        "np.copysign(np.ceil(np.abs(x)), x)\n"
      ]
    },
    {
      "cell_type": "code",
      "execution_count": null,
      "metadata": {
        "colab": {
          "base_uri": "https://localhost:8080/"
        },
        "id": "ab7G_ctTZHWO",
        "outputId": "780b202e-a301-4db6-c7f5-b8c3c3eb94e9"
      },
      "outputs": [
        {
          "data": {
            "text/plain": [
              "array([5, 6, 7, 8, 9])"
            ]
          },
          "execution_count": 36,
          "metadata": {},
          "output_type": "execute_result"
        }
      ],
      "source": [
        "# 30. How to find common values between two arrays? (★☆☆)\n",
        "x = np.arange(0, 10)\n",
        "y = np.arange(5, 15)\n",
        "np.intersect1d(x, y)"
      ]
    },
    {
      "cell_type": "code",
      "execution_count": null,
      "metadata": {
        "id": "wUEy7ziqZKtd"
      },
      "outputs": [],
      "source": [
        "# 31. How to ignore all numpy warnings (not recommended)? (★☆☆)\n",
        "# Suicide mode on\n",
        "defaults = np.seterr(all=\"ignore\")\n",
        "Z = np.ones(1) / 0\n",
        "\n",
        "# Back to sanity\n",
        "_ = np.seterr(**defaults)"
      ]
    },
    {
      "cell_type": "code",
      "execution_count": null,
      "metadata": {
        "colab": {
          "base_uri": "https://localhost:8080/"
        },
        "id": "ROq9wVVYZR7L",
        "outputId": "860ea712-b018-4738-c59a-c2256b27c46b"
      },
      "outputs": [
        {
          "name": "stdout",
          "output_type": "stream",
          "text": [
            "False\n"
          ]
        },
        {
          "name": "stderr",
          "output_type": "stream",
          "text": [
            "/usr/local/lib/python3.7/dist-packages/ipykernel_launcher.py:2: RuntimeWarning: invalid value encountered in sqrt\n",
            "  \n"
          ]
        }
      ],
      "source": [
        "# 32. Is the following expressions true? (★☆☆)\n",
        "print(np.sqrt(-1) == np.emath.sqrt(-1))  # False"
      ]
    },
    {
      "cell_type": "code",
      "execution_count": null,
      "metadata": {
        "colab": {
          "base_uri": "https://localhost:8080/"
        },
        "id": "rWwNnSQcZV10",
        "outputId": "7cc814f5-aec4-498b-90c4-1fb8f9bc7603"
      },
      "outputs": [
        {
          "name": "stdout",
          "output_type": "stream",
          "text": [
            "Today:  2022-11-23\n",
            "Yestraday:  2022-11-23\n",
            "Tomorrow:  2022-11-23\n"
          ]
        }
      ],
      "source": [
        "# 33. How to get the dates of yesterday, today and tomorrow? (★☆☆)\n",
        "today = np.datetime64('today', 'D')\n",
        "print(\"Today: \", today)\n",
        "  \n",
        "# for yesterday\n",
        "yesterday = np.datetime64('today', 'D')\n",
        "- np.timedelta64(1, 'D')\n",
        "  \n",
        "print(\"Yestraday: \", yesterday)\n",
        "  \n",
        "# for tomorrow\n",
        "tomorrow = np.datetime64('today', 'D')\n",
        "+ np.timedelta64(1, 'D')\n",
        "  \n",
        "print(\"Tomorrow: \", tomorrow)"
      ]
    },
    {
      "cell_type": "code",
      "execution_count": null,
      "metadata": {
        "colab": {
          "base_uri": "https://localhost:8080/"
        },
        "id": "zn0Fiz5BZV5U",
        "outputId": "dad0ea77-81db-41f0-bd36-9afb8e5fd233"
      },
      "outputs": [
        {
          "name": "stdout",
          "output_type": "stream",
          "text": [
            "['2016-07-01' '2016-07-02' '2016-07-03' '2016-07-04' '2016-07-05'\n",
            " '2016-07-06' '2016-07-07' '2016-07-08' '2016-07-09' '2016-07-10'\n",
            " '2016-07-11' '2016-07-12' '2016-07-13' '2016-07-14' '2016-07-15'\n",
            " '2016-07-16' '2016-07-17' '2016-07-18' '2016-07-19' '2016-07-20'\n",
            " '2016-07-21' '2016-07-22' '2016-07-23' '2016-07-24' '2016-07-25'\n",
            " '2016-07-26' '2016-07-27' '2016-07-28' '2016-07-29' '2016-07-30'\n",
            " '2016-07-31']\n"
          ]
        }
      ],
      "source": [
        "# 34. How to get all the dates corresponding to the month of July 2016? (★★☆)\n",
        "x = np.arange('2016-07', '2016-08', dtype='datetime64[D]')\n",
        "print(x)"
      ]
    },
    {
      "cell_type": "code",
      "execution_count": null,
      "metadata": {
        "colab": {
          "base_uri": "https://localhost:8080/"
        },
        "id": "pZa4PmygZV-j",
        "outputId": "e348339b-7271-476b-d11f-d49a212d2a74"
      },
      "outputs": [
        {
          "data": {
            "text/plain": [
              "array([-1.5, -1.5, -1.5])"
            ]
          },
          "execution_count": 44,
          "metadata": {},
          "output_type": "execute_result"
        }
      ],
      "source": [
        "# 35. How to compute ((A+B)*(-A/2)) in place (without copy)? (★★☆)\n",
        "A = np.ones(3) * 1\n",
        "B = np.ones(3) * 2\n",
        "C = np.ones(3) * 3\n",
        "np.add(A, B, out=B)\n",
        "np.divide(A, 2, out=A)\n",
        "np.negative(A, out=A)\n",
        "np.multiply(A, B, out=A)"
      ]
    },
    {
      "cell_type": "code",
      "execution_count": null,
      "metadata": {
        "colab": {
          "base_uri": "https://localhost:8080/"
        },
        "id": "KNMaJe0UZWBE",
        "outputId": "aba7357b-ae13-4aa9-c6aa-7d1dc9aa68fc"
      },
      "outputs": [
        {
          "data": {
            "text/plain": [
              "array([-3.,  5., -7., -5.,  3.,  4.,  0.,  3.,  9., -8.])"
            ]
          },
          "execution_count": 45,
          "metadata": {},
          "output_type": "execute_result"
        }
      ],
      "source": [
        "# 36. Extract the integer part of a random array using 5 different methods (★★☆)\n",
        "x = np.random.uniform(-10, +10, 10)\n",
        "x.astype(np.int32)\n",
        "np.trunc(x)"
      ]
    },
    {
      "cell_type": "code",
      "execution_count": null,
      "metadata": {
        "colab": {
          "base_uri": "https://localhost:8080/"
        },
        "id": "BE1bVAsLZWDV",
        "outputId": "c9c1bd05-9c79-4a00-d555-7d76043d45ad"
      },
      "outputs": [
        {
          "name": "stdout",
          "output_type": "stream",
          "text": [
            "[[0. 1. 2. 3. 4.]\n",
            " [0. 1. 2. 3. 4.]\n",
            " [0. 1. 2. 3. 4.]\n",
            " [0. 1. 2. 3. 4.]\n",
            " [0. 1. 2. 3. 4.]]\n"
          ]
        }
      ],
      "source": [
        "# 37. Create a 5x5 matrix with row values ranging from 0 to 4 (★★☆)\n",
        "x = np.zeros((5, 5))\n",
        "x += np.arange(5)\n",
        "print(x)"
      ]
    },
    {
      "cell_type": "code",
      "execution_count": null,
      "metadata": {
        "colab": {
          "base_uri": "https://localhost:8080/"
        },
        "id": "5VGRH3FMZWF1",
        "outputId": "2afe00f7-de77-4e79-c7de-5bb88b15a71d"
      },
      "outputs": [
        {
          "data": {
            "text/plain": [
              "array([0., 1., 2., 3., 4., 5., 6., 7., 8., 9.], dtype=float32)"
            ]
          },
          "execution_count": 48,
          "metadata": {},
          "output_type": "execute_result"
        }
      ],
      "source": [
        "# 38. Consider a generator function that generates 10 integers and use it to build an array (★☆☆)\n",
        "def generate_integers():\n",
        "    for i in range(10):\n",
        "        yield i\n",
        "np.fromiter(generate_integers(), dtype=np.float32, count=-1)\n"
      ]
    },
    {
      "cell_type": "code",
      "execution_count": null,
      "metadata": {
        "colab": {
          "base_uri": "https://localhost:8080/"
        },
        "id": "dzzu4nOqZWJW",
        "outputId": "a6ed19cb-1827-4c87-ae33-f5f4945e7914"
      },
      "outputs": [
        {
          "data": {
            "text/plain": [
              "array([0. , 1.1, 2.2, 3.3, 4.4, 5.5, 6.6, 7.7, 8.8, 9.9])"
            ]
          },
          "execution_count": 50,
          "metadata": {},
          "output_type": "execute_result"
        }
      ],
      "source": [
        "# 39. Create a vector of size 10 with values ranging from 0 to 1, both excluded (★★☆)\n",
        "np.linspace(start=0, stop=11, num=10, endpoint=False)"
      ]
    },
    {
      "cell_type": "code",
      "execution_count": null,
      "metadata": {
        "colab": {
          "base_uri": "https://localhost:8080/"
        },
        "id": "T06AJT7jaSfj",
        "outputId": "4eccc041-2db5-4785-f07a-ad823fb88f03"
      },
      "outputs": [
        {
          "name": "stdout",
          "output_type": "stream",
          "text": [
            "[0.02392405 0.05441597 0.14486998 0.18435972 0.39919631 0.53631181\n",
            " 0.58710137 0.60210088 0.79940244 0.85677584]\n"
          ]
        }
      ],
      "source": [
        "# 40. Create a random vector of size 10 and sort it (★★☆)\n",
        "x = np.random.random(size=10)\n",
        "x.sort()\n",
        "print(x)"
      ]
    },
    {
      "cell_type": "code",
      "execution_count": null,
      "metadata": {
        "colab": {
          "base_uri": "https://localhost:8080/"
        },
        "id": "AwnK-qd8aYy5",
        "outputId": "b1d0a31f-2a71-42a4-aa2f-2e7cb9efd555"
      },
      "outputs": [
        {
          "name": "stdout",
          "output_type": "stream",
          "text": [
            "6.185054779052734\n",
            "8.404970169067383\n"
          ]
        }
      ],
      "source": [
        " #41. How to sum a small array faster than np.sum? (★★☆)\n",
        "import time\n",
        "\n",
        "begin_time = time.time()\n",
        "x = np.arange(1000000)\n",
        "np.sum(x)\n",
        "end_time = time.time()\n",
        "print(str(1000*(end_time - begin_time)))\n",
        "\n",
        "begin_time2 = time.time()\n",
        "x = np.arange(1000000)\n",
        "np.add.reduce(x)\n",
        "end_time2 = time.time()\n",
        "print(str(1000*(end_time2 - begin_time2)))"
      ]
    },
    {
      "cell_type": "code",
      "execution_count": null,
      "metadata": {
        "colab": {
          "base_uri": "https://localhost:8080/"
        },
        "id": "-MHRQL-QaY1b",
        "outputId": "8dba42ad-2ff2-42e7-e709-0381301f0a35"
      },
      "outputs": [
        {
          "data": {
            "text/plain": [
              "True"
            ]
          },
          "execution_count": 54,
          "metadata": {},
          "output_type": "execute_result"
        }
      ],
      "source": [
        "# 42. Consider two random array A and B, check if they are equal (★★☆)\n",
        "A = np.arange(10)\n",
        "B = np.arange(10)\n",
        "np.array_equal(A, B)"
      ]
    },
    {
      "cell_type": "code",
      "execution_count": null,
      "metadata": {
        "colab": {
          "base_uri": "https://localhost:8080/",
          "height": 200
        },
        "id": "MSiof8ehaY31",
        "outputId": "b9c42f2c-725c-429c-dda1-c03f8a223a95"
      },
      "outputs": [
        {
          "ename": "ValueError",
          "evalue": "ignored",
          "output_type": "error",
          "traceback": [
            "\u001b[0;31m---------------------------------------------------------------------------\u001b[0m",
            "\u001b[0;31mValueError\u001b[0m                                Traceback (most recent call last)",
            "\u001b[0;32m<ipython-input-56-1902d588eddf>\u001b[0m in \u001b[0;36m<module>\u001b[0;34m\u001b[0m\n\u001b[1;32m      2\u001b[0m \u001b[0mx\u001b[0m \u001b[0;34m=\u001b[0m \u001b[0mnp\u001b[0m\u001b[0;34m.\u001b[0m\u001b[0mzeros\u001b[0m\u001b[0;34m(\u001b[0m\u001b[0;36m10\u001b[0m\u001b[0;34m)\u001b[0m\u001b[0;34m\u001b[0m\u001b[0;34m\u001b[0m\u001b[0m\n\u001b[1;32m      3\u001b[0m \u001b[0mx\u001b[0m\u001b[0;34m.\u001b[0m\u001b[0mflags\u001b[0m\u001b[0;34m.\u001b[0m\u001b[0mwriteable\u001b[0m \u001b[0;34m=\u001b[0m \u001b[0;32mFalse\u001b[0m\u001b[0;34m\u001b[0m\u001b[0;34m\u001b[0m\u001b[0m\n\u001b[0;32m----> 4\u001b[0;31m \u001b[0mx\u001b[0m\u001b[0;34m[\u001b[0m\u001b[0;36m1\u001b[0m\u001b[0;34m]\u001b[0m \u001b[0;34m=\u001b[0m \u001b[0;36m1\u001b[0m   \u001b[0;31m# ValueError: assignment destination is read-only\u001b[0m\u001b[0;34m\u001b[0m\u001b[0;34m\u001b[0m\u001b[0m\n\u001b[0m",
            "\u001b[0;31mValueError\u001b[0m: assignment destination is read-only"
          ]
        }
      ],
      "source": [
        " #43. Make an array immutable (read-only) (★★☆)\n",
        "x = np.zeros(10)\n",
        "x.flags.writeable = False\n",
        "x[1] = 1   # ValueError: assignment destination is read-only"
      ]
    },
    {
      "cell_type": "code",
      "execution_count": null,
      "metadata": {
        "colab": {
          "base_uri": "https://localhost:8080/"
        },
        "id": "hIXT2dqsa0of",
        "outputId": "2ef52420-12dc-4ef2-8dbe-46ca0d9977b1"
      },
      "outputs": [
        {
          "name": "stdout",
          "output_type": "stream",
          "text": [
            "[0.83465029 1.19458474 1.16385554 0.09182107 0.93379693 0.37344846\n",
            " 1.23376247 0.49395683 0.60028364 0.92147988]\n",
            "[0.86086722 0.75657596 0.67902896 0.32284366 0.76062342 0.83139017\n",
            " 0.66619657 1.29650312 1.20787928 0.77105275]\n"
          ]
        }
      ],
      "source": [
        "# 44. Consider a random 10x2 matrix representing cartesian coordinates, convert them to polar coordinates (★★☆)\n",
        "Z = np.random.random((10, 2))\n",
        "X, Y = Z[:, 0], Z[:, 1]\n",
        "R = np.sqrt(X ** 2 + Y ** 2)\n",
        "T = np.arctan2(Y, X)\n",
        "print(R)\n",
        "print(T)\n"
      ]
    },
    {
      "cell_type": "code",
      "execution_count": null,
      "metadata": {
        "colab": {
          "base_uri": "https://localhost:8080/"
        },
        "id": "8aHp0Rv7aY6E",
        "outputId": "06bc184e-fc33-4d30-aa2b-78c0290de20e"
      },
      "outputs": [
        {
          "name": "stdout",
          "output_type": "stream",
          "text": [
            "[0.         0.23069277 0.77608753 0.         0.44664191 0.28365092\n",
            " 0.27140319 0.13167547 0.57862439 0.80292021]\n"
          ]
        }
      ],
      "source": [
        "# 45. Create random vector of size 10 and replace the maximum value by 0 (★★☆)\n",
        "x = np.random.random(10)\n",
        "x[x == np.max(x)] = 0\n",
        "x[x.argmax()] = 0\n",
        "print(x)"
      ]
    },
    {
      "cell_type": "code",
      "execution_count": null,
      "metadata": {
        "colab": {
          "base_uri": "https://localhost:8080/"
        },
        "id": "BLw2vAtkaY8V",
        "outputId": "e94a7ceb-b8ca-453c-82ba-37cf0df20549"
      },
      "outputs": [
        {
          "name": "stdout",
          "output_type": "stream",
          "text": [
            "[[(0.  , 0.  ) (0.25, 0.  ) (0.5 , 0.  ) (0.75, 0.  ) (1.  , 0.  )]\n",
            " [(0.  , 0.25) (0.25, 0.25) (0.5 , 0.25) (0.75, 0.25) (1.  , 0.25)]\n",
            " [(0.  , 0.5 ) (0.25, 0.5 ) (0.5 , 0.5 ) (0.75, 0.5 ) (1.  , 0.5 )]\n",
            " [(0.  , 0.75) (0.25, 0.75) (0.5 , 0.75) (0.75, 0.75) (1.  , 0.75)]\n",
            " [(0.  , 1.  ) (0.25, 1.  ) (0.5 , 1.  ) (0.75, 1.  ) (1.  , 1.  )]]\n"
          ]
        }
      ],
      "source": [
        "# 46. Create a structured array with x and y coordinates covering the [0,1]x[0,1] area (★★☆)\n",
        "z = np.zeros((5, 5), [('x', float), ('y', float)])\n",
        "z['x'], z['y'] = np.meshgrid(np.linspace(0, 1, 5), np.linspace(0, 1, 5))\n",
        "print(z)"
      ]
    },
    {
      "cell_type": "code",
      "execution_count": null,
      "metadata": {
        "colab": {
          "base_uri": "https://localhost:8080/"
        },
        "id": "iQtbraq2aY-3",
        "outputId": "a3f368ab-92ba-4aa9-a5ca-e27d2b72ca92"
      },
      "outputs": [
        {
          "data": {
            "text/plain": [
              "array([[ 1.60057360e+04, -6.29045400e+07,  9.49623212e+06,\n",
              "         6.81631403e+05, -1.23204027e+05],\n",
              "       [-1.91753274e+06,  8.25142398e+04, -9.61777493e+02,\n",
              "         1.13869446e+08,  5.94705171e+01],\n",
              "       [ 2.06949745e+05, -8.78053127e+05, -1.46274167e+05,\n",
              "        -1.40221101e+05,  2.66586052e+05],\n",
              "       [-6.94427096e+06,  2.59124236e+05, -9.38972041e+06,\n",
              "         8.25216872e+00, -3.47879616e+06],\n",
              "       [ 2.92253665e+07, -4.37467580e+04, -1.88134204e+04,\n",
              "         1.37837031e+04,  3.18776718e+02]])"
            ]
          },
          "execution_count": 63,
          "metadata": {},
          "output_type": "execute_result"
        }
      ],
      "source": [
        "# 47. Given two arrays, X and Y, construct the Cauchy matrix C (Cij =1/(xi - yj))\n",
        "x = np.random.random((5, 5))\n",
        "y = np.random.random((5, 5))\n",
        "c = 1 / (x - y)\n",
        "c = 1 / np.subtract.outer(x, y)\n",
        "np.linalg.det(c)"
      ]
    },
    {
      "cell_type": "code",
      "execution_count": null,
      "metadata": {
        "colab": {
          "base_uri": "https://localhost:8080/"
        },
        "id": "mSj0PM0FaZBD",
        "outputId": "6af5c016-fd5b-450c-b8e7-db3b48eecab3"
      },
      "outputs": [
        {
          "name": "stdout",
          "output_type": "stream",
          "text": [
            "-128\n",
            "127\n",
            "-2147483648\n",
            "2147483647\n",
            "-9223372036854775808\n",
            "9223372036854775807\n",
            "-3.4028235e+38\n",
            "3.4028235e+38\n",
            "1.1920929e-07\n",
            "-1.7976931348623157e+308\n",
            "1.7976931348623157e+308\n",
            "2.220446049250313e-16\n"
          ]
        }
      ],
      "source": [
        "#48.Print the minimum and maximum representable value for each numpy scalar type\n",
        "for dtype in [np.int8, np.int32, np.int64]:\n",
        "   print(np.iinfo(dtype).min)\n",
        "   print(np.iinfo(dtype).max)\n",
        "for dtype in [np.float32, np.float64]:\n",
        "   print(np.finfo(dtype).min)\n",
        "   print(np.finfo(dtype).max)\n",
        "   print(np.finfo(dtype).eps) "
      ]
    },
    {
      "cell_type": "code",
      "execution_count": null,
      "metadata": {
        "colab": {
          "base_uri": "https://localhost:8080/",
          "height": 380
        },
        "id": "JyZbzApnaZDr",
        "outputId": "32eaa957-7364-4f4b-cced-b6d671775a03"
      },
      "outputs": [
        {
          "ename": "ValueError",
          "evalue": "ignored",
          "output_type": "error",
          "traceback": [
            "\u001b[0;31m---------------------------------------------------------------------------\u001b[0m",
            "\u001b[0;31mValueError\u001b[0m                                Traceback (most recent call last)",
            "\u001b[0;32m<ipython-input-67-f4d32702ca91>\u001b[0m in \u001b[0;36m<module>\u001b[0;34m\u001b[0m\n\u001b[1;32m      1\u001b[0m \u001b[0;31m#49. How to print all the values of an array? (★★☆)\u001b[0m\u001b[0;34m\u001b[0m\u001b[0;34m\u001b[0m\u001b[0;34m\u001b[0m\u001b[0m\n\u001b[0;32m----> 2\u001b[0;31m \u001b[0mnp\u001b[0m\u001b[0;34m.\u001b[0m\u001b[0mset_printoptions\u001b[0m\u001b[0;34m(\u001b[0m\u001b[0mthreshold\u001b[0m\u001b[0;34m=\u001b[0m\u001b[0mnp\u001b[0m\u001b[0;34m.\u001b[0m\u001b[0mnan\u001b[0m\u001b[0;34m)\u001b[0m\u001b[0;34m\u001b[0m\u001b[0;34m\u001b[0m\u001b[0m\n\u001b[0m\u001b[1;32m      3\u001b[0m \u001b[0mZ\u001b[0m \u001b[0;34m=\u001b[0m \u001b[0mnp\u001b[0m\u001b[0;34m.\u001b[0m\u001b[0mzeros\u001b[0m\u001b[0;34m(\u001b[0m\u001b[0;34m(\u001b[0m\u001b[0;36m16\u001b[0m\u001b[0;34m,\u001b[0m\u001b[0;36m16\u001b[0m\u001b[0;34m)\u001b[0m\u001b[0;34m)\u001b[0m\u001b[0;34m\u001b[0m\u001b[0;34m\u001b[0m\u001b[0m\n\u001b[1;32m      4\u001b[0m \u001b[0mprint\u001b[0m\u001b[0;34m(\u001b[0m\u001b[0mZ\u001b[0m\u001b[0;34m)\u001b[0m\u001b[0;34m\u001b[0m\u001b[0;34m\u001b[0m\u001b[0m\n",
            "\u001b[0;32m/usr/local/lib/python3.7/dist-packages/numpy/core/arrayprint.py\u001b[0m in \u001b[0;36mset_printoptions\u001b[0;34m(precision, threshold, edgeitems, linewidth, suppress, nanstr, infstr, formatter, sign, floatmode, legacy)\u001b[0m\n\u001b[1;32m    252\u001b[0m     opt = _make_options_dict(precision, threshold, edgeitems, linewidth,\n\u001b[1;32m    253\u001b[0m                              \u001b[0msuppress\u001b[0m\u001b[0;34m,\u001b[0m \u001b[0mnanstr\u001b[0m\u001b[0;34m,\u001b[0m \u001b[0minfstr\u001b[0m\u001b[0;34m,\u001b[0m \u001b[0msign\u001b[0m\u001b[0;34m,\u001b[0m \u001b[0mformatter\u001b[0m\u001b[0;34m,\u001b[0m\u001b[0;34m\u001b[0m\u001b[0;34m\u001b[0m\u001b[0m\n\u001b[0;32m--> 254\u001b[0;31m                              floatmode, legacy)\n\u001b[0m\u001b[1;32m    255\u001b[0m     \u001b[0;31m# formatter is always reset\u001b[0m\u001b[0;34m\u001b[0m\u001b[0;34m\u001b[0m\u001b[0;34m\u001b[0m\u001b[0m\n\u001b[1;32m    256\u001b[0m     \u001b[0mopt\u001b[0m\u001b[0;34m[\u001b[0m\u001b[0;34m'formatter'\u001b[0m\u001b[0;34m]\u001b[0m \u001b[0;34m=\u001b[0m \u001b[0mformatter\u001b[0m\u001b[0;34m\u001b[0m\u001b[0;34m\u001b[0m\u001b[0m\n",
            "\u001b[0;32m/usr/local/lib/python3.7/dist-packages/numpy/core/arrayprint.py\u001b[0m in \u001b[0;36m_make_options_dict\u001b[0;34m(precision, threshold, edgeitems, linewidth, suppress, nanstr, infstr, sign, formatter, floatmode, legacy)\u001b[0m\n\u001b[1;32m     86\u001b[0m             \u001b[0;32mraise\u001b[0m \u001b[0mTypeError\u001b[0m\u001b[0;34m(\u001b[0m\u001b[0;34m\"threshold must be numeric\"\u001b[0m\u001b[0;34m)\u001b[0m\u001b[0;34m\u001b[0m\u001b[0;34m\u001b[0m\u001b[0m\n\u001b[1;32m     87\u001b[0m         \u001b[0;32mif\u001b[0m \u001b[0mnp\u001b[0m\u001b[0;34m.\u001b[0m\u001b[0misnan\u001b[0m\u001b[0;34m(\u001b[0m\u001b[0mthreshold\u001b[0m\u001b[0;34m)\u001b[0m\u001b[0;34m:\u001b[0m\u001b[0;34m\u001b[0m\u001b[0;34m\u001b[0m\u001b[0m\n\u001b[0;32m---> 88\u001b[0;31m             raise ValueError(\"threshold must be non-NAN, try \"\n\u001b[0m\u001b[1;32m     89\u001b[0m                              \"sys.maxsize for untruncated representation\")\n\u001b[1;32m     90\u001b[0m \u001b[0;34m\u001b[0m\u001b[0m\n",
            "\u001b[0;31mValueError\u001b[0m: threshold must be non-NAN, try sys.maxsize for untruncated representation"
          ]
        }
      ],
      "source": [
        "#49. How to print all the values of an array? (★★☆)\n",
        "np.set_printoptions(threshold=np.nan)\n",
        "Z = np.zeros((16,16))\n",
        "print(Z)"
      ]
    },
    {
      "cell_type": "code",
      "execution_count": null,
      "metadata": {
        "colab": {
          "base_uri": "https://localhost:8080/"
        },
        "id": "RqoPreoVaZHE",
        "outputId": "93fa4063-969f-4de4-8712-7a89af337d56"
      },
      "outputs": [
        {
          "name": "stdout",
          "output_type": "stream",
          "text": [
            "57\n"
          ]
        }
      ],
      "source": [
        "# 50 How to find the closest value (to a given scalar) in a vector? (★★☆)\n",
        "Z = np.arange(100)\n",
        "v = np.random.uniform(0,100)\n",
        "index = (np.abs(Z-v)).argmin()\n",
        "print(Z[index])"
      ]
    },
    {
      "cell_type": "code",
      "execution_count": null,
      "metadata": {
        "colab": {
          "base_uri": "https://localhost:8080/"
        },
        "id": "3da1g2wec_h0",
        "outputId": "e69a25d1-3466-449a-b894-1445d757144e"
      },
      "outputs": [
        {
          "name": "stdout",
          "output_type": "stream",
          "text": [
            "[((0., 0.), (0., 0., 0.)) ((0., 0.), (0., 0., 0.))\n",
            " ((0., 0.), (0., 0., 0.)) ((0., 0.), (0., 0., 0.))\n",
            " ((0., 0.), (0., 0., 0.)) ((0., 0.), (0., 0., 0.))\n",
            " ((0., 0.), (0., 0., 0.)) ((0., 0.), (0., 0., 0.))\n",
            " ((0., 0.), (0., 0., 0.)) ((0., 0.), (0., 0., 0.))]\n"
          ]
        },
        {
          "name": "stderr",
          "output_type": "stream",
          "text": [
            "/usr/local/lib/python3.7/dist-packages/ipykernel_launcher.py:6: FutureWarning: Passing (type, 1) or '1type' as a synonym of type is deprecated; in a future version of numpy, it will be understood as (type, (1,)) / '(1,)type'.\n",
            "  \n"
          ]
        }
      ],
      "source": [
        "#51 Create a structured array representing a position (x,y) and a color (r,g,b) (★★☆)\n",
        "Z = np.zeros(10, [ ('position', [ ('x', float, 1),\n",
        "                                  ('y', float, 1)]),\n",
        "                   ('color',    [ ('r', float, 1),\n",
        "                                  ('g', float, 1),\n",
        "                                  ('b', float, 1)])])\n",
        "print(Z)"
      ]
    },
    {
      "cell_type": "code",
      "execution_count": null,
      "metadata": {
        "colab": {
          "base_uri": "https://localhost:8080/"
        },
        "id": "z7MZ1HQmc_kI",
        "outputId": "88a7406e-dd74-4884-a119-4d7f0a389b09"
      },
      "outputs": [
        {
          "name": "stdout",
          "output_type": "stream",
          "text": [
            "[[0.         0.79025772 0.90167508 0.49359852 0.71070945 0.85920451\n",
            "  0.83175248 0.44097399 0.88745122 1.22279051]\n",
            " [0.79025772 0.         0.19697883 0.30187602 0.69137112 0.22117059\n",
            "  0.0416209  0.40894519 0.32789758 0.66642715]\n",
            " [0.90167508 0.19697883 0.         0.41384224 0.62324639 0.06983676\n",
            "  0.18390396 0.47291314 0.16447019 0.47044913]\n",
            " [0.49359852 0.30187602 0.41384224 0.         0.54063923 0.38126055\n",
            "  0.3434154  0.13734739 0.43688749 0.80168201]\n",
            " [0.71070945 0.69137112 0.62324639 0.54063923 0.         0.55342053\n",
            "  0.71758984 0.42262334 0.48437821 0.64858959]\n",
            " [0.85920451 0.22117059 0.06983676 0.38126055 0.55342053 0.\n",
            "  0.22065856 0.42333621 0.10883047 0.45392712]\n",
            " [0.83175248 0.0416209  0.18390396 0.3434154  0.71758984 0.22065856\n",
            "  0.         0.4487359  0.32939168 0.65384257]\n",
            " [0.44097399 0.40894519 0.47291314 0.13734739 0.42262334 0.42333621\n",
            "  0.4487359  0.         0.44656179 0.79050896]\n",
            " [0.88745122 0.32789758 0.16447019 0.43688749 0.48437821 0.10883047\n",
            "  0.32939168 0.44656179 0.         0.3679401 ]\n",
            " [1.22279051 0.66642715 0.47044913 0.80168201 0.64858959 0.45392712\n",
            "  0.65384257 0.79050896 0.3679401  0.        ]]\n",
            "[[0.         0.97567407 0.8308214  0.83812356 0.81426447 0.49041424\n",
            "  0.45843664 0.41502188 0.71859727 0.14811597]\n",
            " [0.97567407 0.         0.14485385 0.18956465 0.17329948 0.71817142\n",
            "  0.98327905 0.6682104  0.25712629 0.9621941 ]\n",
            " [0.8308214  0.14485385 0.         0.12004852 0.06103751 0.59513141\n",
            "  0.85654413 0.53449644 0.11234262 0.81921855]\n",
            " [0.83812356 0.18956465 0.12004852 0.         0.17900211 0.5330073\n",
            "  0.79920631 0.59448448 0.16698416 0.80517766]\n",
            " [0.81426447 0.17329948 0.06103751 0.17900211 0.         0.6165723\n",
            "  0.87302334 0.49491878 0.10773016 0.81349823]\n",
            " [0.49041424 0.71817142 0.59513141 0.5330073  0.6165723  0.\n",
            "  0.26643061 0.57401028 0.51138907 0.37956096]\n",
            " [0.45843664 0.98327905 0.85654413 0.79920631 0.87302334 0.26643061\n",
            "  0.         0.71848666 0.76590215 0.31062765]\n",
            " [0.41502188 0.6682104  0.53449644 0.59448448 0.49491878 0.57401028\n",
            "  0.71848666 0.         0.43306782 0.49340757]\n",
            " [0.71859727 0.25712629 0.11234262 0.16698416 0.10773016 0.51138907\n",
            "  0.76590215 0.43306782 0.         0.71006213]\n",
            " [0.14811597 0.9621941  0.81921855 0.80517766 0.81349823 0.37956096\n",
            "  0.31062765 0.49340757 0.71006213 0.        ]]\n"
          ]
        }
      ],
      "source": [
        "#52. Consider a random vector with shape (100,2) representing coordinates, find point by point distances (★★☆)\n",
        "Z = np.random.random((10,2))\n",
        "X,Y = np.atleast_2d(Z[:,0], Z[:,1])\n",
        "D = np.sqrt( (X-X.T)**2 + (Y-Y.T)**2)\n",
        "print(D)\n",
        "\n",
        "# Much faster with scipy\n",
        "import scipy\n",
        "# Thanks Gavin Heverly-Coulson (#issue 1)\n",
        "import scipy.spatial\n",
        "\n",
        "Z = np.random.random((10,2))\n",
        "D = scipy.spatial.distance.cdist(Z,Z)\n",
        "print(D)"
      ]
    },
    {
      "cell_type": "code",
      "execution_count": null,
      "metadata": {
        "colab": {
          "base_uri": "https://localhost:8080/"
        },
        "id": "tvJjO-0Ic_nE",
        "outputId": "7ced9390-20e5-46d2-ace1-38c9f0ee3489"
      },
      "outputs": [
        {
          "name": "stdout",
          "output_type": "stream",
          "text": [
            "[0 1 2 3 4 5 6 7 8 9]\n"
          ]
        }
      ],
      "source": [
        "#53. How to convert a float (32 bits) array into an integer (32 bits) in place?\n",
        "Z = np.arange(10, dtype=np.float32)\n",
        "Z = Z.astype(np.int32, copy=False)\n",
        "print(Z)"
      ]
    },
    {
      "cell_type": "code",
      "execution_count": null,
      "metadata": {
        "colab": {
          "base_uri": "https://localhost:8080/"
        },
        "id": "DBJOZlgzc_pY",
        "outputId": "40949730-4da9-43de-e56f-7fab0ad9fc54"
      },
      "outputs": [
        {
          "name": "stdout",
          "output_type": "stream",
          "text": [
            "[[ 1  2  3  4  5]\n",
            " [ 6 -1 -1  7  8]\n",
            " [-1 -1  9 10 11]]\n"
          ]
        },
        {
          "name": "stderr",
          "output_type": "stream",
          "text": [
            "/usr/local/lib/python3.7/dist-packages/ipykernel_launcher.py:8: DeprecationWarning: `np.int` is a deprecated alias for the builtin `int`. To silence this warning, use `int` by itself. Doing this will not modify any behavior and is safe. When replacing `np.int`, you may wish to use e.g. `np.int64` or `np.int32` to specify the precision. If you wish to review your current use, check the release note link for additional information.\n",
            "Deprecated in NumPy 1.20; for more details and guidance: https://numpy.org/devdocs/release/1.20.0-notes.html#deprecations\n",
            "  \n"
          ]
        }
      ],
      "source": [
        "#54. How to read the following file? (★★☆)\n",
        "from io import StringIO\n",
        "\n",
        "# Fake file \n",
        "s = StringIO(\"\"\"1, 2, 3, 4, 5\\n\n",
        "                6,  ,  , 7, 8\\n\n",
        "                 ,  , 9,10,11\\n\"\"\")\n",
        "Z = np.genfromtxt(s, delimiter=\",\", dtype=np.int)\n",
        "print(Z)"
      ]
    },
    {
      "cell_type": "code",
      "execution_count": null,
      "metadata": {
        "colab": {
          "base_uri": "https://localhost:8080/"
        },
        "id": "dcs6hz5Zc_rt",
        "outputId": "c06188a9-da07-4b08-8e18-7f0f87bfc950"
      },
      "outputs": [
        {
          "name": "stdout",
          "output_type": "stream",
          "text": [
            "(0, 0) 0\n",
            "(0, 1) 1\n",
            "(0, 2) 2\n",
            "(1, 0) 3\n",
            "(1, 1) 4\n",
            "(1, 2) 5\n",
            "(2, 0) 6\n",
            "(2, 1) 7\n",
            "(2, 2) 8\n",
            "(0, 0) 0\n",
            "(0, 1) 1\n",
            "(0, 2) 2\n",
            "(1, 0) 3\n",
            "(1, 1) 4\n",
            "(1, 2) 5\n",
            "(2, 0) 6\n",
            "(2, 1) 7\n",
            "(2, 2) 8\n"
          ]
        }
      ],
      "source": [
        "#55. What is the equivalent of enumerate for numpy arrays? (★★☆)\n",
        "Z = np.arange(9).reshape(3,3)\n",
        "for index, value in np.ndenumerate(Z):\n",
        "    print(index, value)\n",
        "for index in np.ndindex(Z.shape):\n",
        "    print(index, Z[index])"
      ]
    },
    {
      "cell_type": "code",
      "execution_count": null,
      "metadata": {
        "colab": {
          "base_uri": "https://localhost:8080/"
        },
        "id": "x0w8VSONc_uS",
        "outputId": "37f59fa1-2fdf-4c07-c9c5-b6cd500903d4"
      },
      "outputs": [
        {
          "name": "stdout",
          "output_type": "stream",
          "text": [
            "[[0.36787944 0.44822088 0.51979489 0.57375342 0.60279818 0.60279818\n",
            "  0.57375342 0.51979489 0.44822088 0.36787944]\n",
            " [0.44822088 0.54610814 0.63331324 0.69905581 0.73444367 0.73444367\n",
            "  0.69905581 0.63331324 0.54610814 0.44822088]\n",
            " [0.51979489 0.63331324 0.73444367 0.81068432 0.85172308 0.85172308\n",
            "  0.81068432 0.73444367 0.63331324 0.51979489]\n",
            " [0.57375342 0.69905581 0.81068432 0.89483932 0.9401382  0.9401382\n",
            "  0.89483932 0.81068432 0.69905581 0.57375342]\n",
            " [0.60279818 0.73444367 0.85172308 0.9401382  0.98773022 0.98773022\n",
            "  0.9401382  0.85172308 0.73444367 0.60279818]\n",
            " [0.60279818 0.73444367 0.85172308 0.9401382  0.98773022 0.98773022\n",
            "  0.9401382  0.85172308 0.73444367 0.60279818]\n",
            " [0.57375342 0.69905581 0.81068432 0.89483932 0.9401382  0.9401382\n",
            "  0.89483932 0.81068432 0.69905581 0.57375342]\n",
            " [0.51979489 0.63331324 0.73444367 0.81068432 0.85172308 0.85172308\n",
            "  0.81068432 0.73444367 0.63331324 0.51979489]\n",
            " [0.44822088 0.54610814 0.63331324 0.69905581 0.73444367 0.73444367\n",
            "  0.69905581 0.63331324 0.54610814 0.44822088]\n",
            " [0.36787944 0.44822088 0.51979489 0.57375342 0.60279818 0.60279818\n",
            "  0.57375342 0.51979489 0.44822088 0.36787944]]\n"
          ]
        }
      ],
      "source": [
        "#56. Generate a generic 2D Gaussian-like array (★★☆)\n",
        "X, Y = np.meshgrid(np.linspace(-1,1,10), np.linspace(-1,1,10))\n",
        "D = np.sqrt(X*X+Y*Y)\n",
        "sigma, mu = 1.0, 0.0\n",
        "G = np.exp(-( (D-mu)**2 / ( 2.0 * sigma**2 ) ) )\n",
        "print(G)"
      ]
    },
    {
      "cell_type": "code",
      "execution_count": null,
      "metadata": {
        "colab": {
          "base_uri": "https://localhost:8080/"
        },
        "id": "6tHH5Rpwc_w4",
        "outputId": "342703b7-a18c-4a49-c13e-bf8b66fc1c64"
      },
      "outputs": [
        {
          "name": "stdout",
          "output_type": "stream",
          "text": [
            "[[0. 0. 0. 0. 0. 0. 0. 0. 0. 0.]\n",
            " [0. 0. 0. 0. 0. 0. 0. 0. 0. 0.]\n",
            " [0. 0. 0. 0. 0. 0. 0. 0. 1. 0.]\n",
            " [0. 0. 0. 0. 0. 0. 1. 0. 0. 0.]\n",
            " [0. 0. 0. 1. 0. 0. 0. 0. 0. 0.]\n",
            " [0. 0. 0. 0. 0. 0. 0. 0. 0. 0.]\n",
            " [0. 0. 0. 0. 0. 0. 0. 0. 0. 0.]\n",
            " [0. 0. 0. 0. 0. 0. 0. 0. 0. 0.]\n",
            " [0. 0. 0. 0. 0. 0. 0. 0. 0. 0.]\n",
            " [0. 0. 0. 0. 0. 0. 0. 0. 0. 0.]]\n"
          ]
        }
      ],
      "source": [
        "#57. How to randomly place p elements in a 2D array? (★★☆)\n",
        "\n",
        "n = 10\n",
        "p = 3\n",
        "Z = np.zeros((n,n))\n",
        "np.put(Z, np.random.choice(range(n*n), p, replace=False),1)\n",
        "print(Z)"
      ]
    },
    {
      "cell_type": "code",
      "execution_count": null,
      "metadata": {
        "colab": {
          "base_uri": "https://localhost:8080/"
        },
        "id": "xODUbFS3c_y-",
        "outputId": "9585c299-e03e-4d4b-e8e5-bc8e3aa29d8e"
      },
      "outputs": [
        {
          "name": "stdout",
          "output_type": "stream",
          "text": [
            "[[ 0.40761483 -0.33149945  0.02196865 -0.41649107 -0.1478097   0.02893823\n",
            "   0.51885444  0.07236445  0.07105961 -0.22499999]\n",
            " [-0.05782354  0.33356264  0.10523005 -0.22578726 -0.32010088 -0.29483608\n",
            "   0.33073158  0.01748078  0.3243484  -0.21280568]\n",
            " [ 0.02366955  0.16948846 -0.51408182  0.04295907  0.14811642  0.41734827\n",
            "  -0.09151031 -0.27144403 -0.07581525  0.15126964]\n",
            " [-0.03483535 -0.08071814 -0.01392362  0.06191373  0.27156191 -0.12002796\n",
            "  -0.27057235  0.39341136 -0.57733118  0.3705216 ]\n",
            " [ 0.26562541 -0.27884935 -0.33357629  0.36156027  0.16226711  0.33689208\n",
            "  -0.23342324  0.31642732 -0.28472055 -0.31220277]]\n"
          ]
        }
      ],
      "source": [
        "#58. Subtract the mean of each row of a matrix (★★☆)\n",
        "X = np.random.rand(5, 10)\n",
        "\n",
        "\n",
        "Y = X - X.mean(axis=1, keepdims=True)\n",
        "print(Y)"
      ]
    },
    {
      "cell_type": "code",
      "execution_count": null,
      "metadata": {
        "colab": {
          "base_uri": "https://localhost:8080/"
        },
        "id": "X53ztn2gc_1F",
        "outputId": "3bdfc1e5-f7a1-414f-8cff-e12b9ffe3372"
      },
      "outputs": [
        {
          "name": "stdout",
          "output_type": "stream",
          "text": [
            "[[7 0 4]\n",
            " [3 9 8]\n",
            " [9 3 6]]\n",
            "[[7 0 4]\n",
            " [9 3 6]\n",
            " [3 9 8]]\n"
          ]
        }
      ],
      "source": [
        "#59. How to sort an array by the nth column? (★★☆)\n",
        "Z = np.random.randint(0,10,(3,3))\n",
        "print(Z)\n",
        "print(Z[Z[:,1].argsort()])"
      ]
    },
    {
      "cell_type": "code",
      "execution_count": null,
      "metadata": {
        "colab": {
          "base_uri": "https://localhost:8080/"
        },
        "id": "o2RqH4f-c_3J",
        "outputId": "17a6a123-9111-4e1e-ae35-8ae32cd87176"
      },
      "outputs": [
        {
          "name": "stdout",
          "output_type": "stream",
          "text": [
            "False\n"
          ]
        }
      ],
      "source": [
        "#60. How to tell if a given 2D array has null columns?\n",
        "Z = np.random.randint(0,3,(3,10))\n",
        "print((~Z.any(axis=0)).any())"
      ]
    },
    {
      "cell_type": "code",
      "execution_count": null,
      "metadata": {
        "colab": {
          "base_uri": "https://localhost:8080/"
        },
        "id": "QTDhy9Ync_5O",
        "outputId": "3b75bad9-fc85-4de2-9c9e-2d6d50c85fd6"
      },
      "outputs": [
        {
          "name": "stdout",
          "output_type": "stream",
          "text": [
            "0.4618884238132126\n"
          ]
        }
      ],
      "source": [
        "#61. Find the nearest value from a given value in an array (★★☆)\n",
        "Z = np.random.uniform(0,1,10)\n",
        "z = 0.5\n",
        "m = Z.flat[np.abs(Z - z).argmin()]\n",
        "print(m)"
      ]
    },
    {
      "cell_type": "code",
      "execution_count": null,
      "metadata": {
        "colab": {
          "base_uri": "https://localhost:8080/"
        },
        "id": "LIn1VHopc_7v",
        "outputId": "2233f160-c791-4aa6-cb02-3cd9f23cd648"
      },
      "outputs": [
        {
          "name": "stdout",
          "output_type": "stream",
          "text": [
            "[[0 1 2]\n",
            " [1 2 3]\n",
            " [2 3 4]]\n"
          ]
        }
      ],
      "source": [
        "#62. Considering two arrays with shape (1,3) and (3,1), how to compute their sum using an iterator? (★★☆)\n",
        "A = np.arange(3).reshape(3,1)\n",
        "B = np.arange(3).reshape(1,3)\n",
        "it = np.nditer([A,B,None])\n",
        "for x,y,z in it: z[...] = x + y\n",
        "print(it.operands[2])"
      ]
    },
    {
      "cell_type": "code",
      "execution_count": null,
      "metadata": {
        "id": "cFVKJP47ePJM"
      },
      "outputs": [],
      "source": [
        "#63. Create an array class that has a name attribute (★★☆)\n",
        "class NamedArray(np.ndarray):\n",
        "    def __new__(cls, array, name=\"no name\"):\n",
        "        obj = np.asarray(array).view(cls)\n",
        "        obj.name = name\n",
        "        return obj\n",
        "    def __array_finalize__(self, obj):\n",
        "        if obj is None: return\n",
        "        self.info = getattr(obj, 'name', \"no name\")"
      ]
    },
    {
      "cell_type": "code",
      "execution_count": null,
      "metadata": {
        "colab": {
          "base_uri": "https://localhost:8080/"
        },
        "id": "pFBxAbz6ePLf",
        "outputId": "db05a22f-c54d-428b-a57b-7f04f32c98fb"
      },
      "outputs": [
        {
          "name": "stdout",
          "output_type": "stream",
          "text": [
            "[1. 2. 4. 2. 2. 4. 6. 3. 2. 4.]\n"
          ]
        }
      ],
      "source": [
        "#64. Consider a given vector, how to add 1 to each element indexed by a second vector (be careful with repeated indices)? \n",
        "Z = np.ones(10)\n",
        "I = np.random.randint(0,len(Z),20)\n",
        "Z += np.bincount(I, minlength=len(Z))\n",
        "print(Z)"
      ]
    },
    {
      "cell_type": "code",
      "execution_count": null,
      "metadata": {
        "colab": {
          "base_uri": "https://localhost:8080/"
        },
        "id": "hOL6KaplePOF",
        "outputId": "9b635b61-5fe2-4e06-cb6d-1d4010bbc5d5"
      },
      "outputs": [
        {
          "name": "stdout",
          "output_type": "stream",
          "text": [
            "[0. 7. 0. 6. 5. 0. 0. 0. 0. 3.]\n"
          ]
        }
      ],
      "source": [
        "#65. How to accumulate elements of a vector (X) to an array (F) based on an index list (I)? \n",
        "X = [1,2,3,4,5,6]\n",
        "I = [1,3,9,3,4,1]\n",
        "F = np.bincount(I,X)\n",
        "print(F)"
      ]
    },
    {
      "cell_type": "code",
      "execution_count": null,
      "metadata": {
        "colab": {
          "base_uri": "https://localhost:8080/"
        },
        "id": "aF5Rb1GxePQc",
        "outputId": "9ec17c00-066b-4d03-bac8-d940262d2d65"
      },
      "outputs": [
        {
          "name": "stdout",
          "output_type": "stream",
          "text": [
            "8\n"
          ]
        }
      ],
      "source": [
        "#66. Considering a (w,h,3) image of (dtype=ubyte), compute the number of unique colors (★★★)\n",
        "w,h = 16,16\n",
        "I = np.random.randint(0,2,(h,w,3)).astype(np.ubyte)\n",
        "F = I[...,0]*(256*256) + I[...,1]*256 +I[...,2]\n",
        "n = len(np.unique(F))\n",
        "print(n)"
      ]
    },
    {
      "cell_type": "code",
      "execution_count": null,
      "metadata": {
        "colab": {
          "base_uri": "https://localhost:8080/"
        },
        "id": "ePmIrlvZePTA",
        "outputId": "5b140717-ddde-499e-f1f8-263e3b693a15"
      },
      "outputs": [
        {
          "name": "stdout",
          "output_type": "stream",
          "text": [
            "[[44 47 36 68]\n",
            " [48 43 58 32]\n",
            " [48 58 63 51]]\n",
            "[[44 47 36 68]\n",
            " [48 43 58 32]\n",
            " [48 58 63 51]]\n"
          ]
        }
      ],
      "source": [
        "#67. Considering a four dimensions array, how to get sum over the last two axis at once? (★★★)\n",
        "A = np.random.randint(0,10,(3,4,3,4))\n",
        "sum = A.sum(axis=(-2,-1))\n",
        "print(sum)\n",
        "sum = A.reshape(A.shape[:-2] + (-1,)).sum(axis=-1)\n",
        "print(sum)"
      ]
    },
    {
      "cell_type": "code",
      "execution_count": null,
      "metadata": {
        "colab": {
          "base_uri": "https://localhost:8080/"
        },
        "id": "2fhof1ouePVZ",
        "outputId": "34b47e52-4da1-46ee-f10b-9bdebf1f9d9e"
      },
      "outputs": [
        {
          "name": "stdout",
          "output_type": "stream",
          "text": [
            "[0.41347166 0.4340333  0.50246364 0.50743584 0.39743589 0.43268291\n",
            " 0.47515207 0.36939763 0.55716187 0.45252549]\n",
            "0    0.413472\n",
            "1    0.434033\n",
            "2    0.502464\n",
            "3    0.507436\n",
            "4    0.397436\n",
            "5    0.432683\n",
            "6    0.475152\n",
            "7    0.369398\n",
            "8    0.557162\n",
            "9    0.452525\n",
            "dtype: float64\n"
          ]
        }
      ],
      "source": [
        "#68. Considering a one-dimensional vector D, how to compute means of subsets of D using a vector S of same size describing subset indices? \n",
        "D = np.random.uniform(0,1,100)\n",
        "S = np.random.randint(0,10,100)\n",
        "D_sums = np.bincount(S, weights=D)\n",
        "D_counts = np.bincount(S)\n",
        "D_means = D_sums / D_counts\n",
        "print(D_means)\n",
        "import pandas as pd\n",
        "print(pd.Series(D).groupby(S).mean())"
      ]
    },
    {
      "cell_type": "code",
      "execution_count": null,
      "metadata": {
        "colab": {
          "base_uri": "https://localhost:8080/"
        },
        "id": "Lh_heGTTePYA",
        "outputId": "6c27d48a-8597-4df7-ca22-3751bb01ea08"
      },
      "outputs": [
        {
          "data": {
            "text/plain": [
              "array([1.37583778, 1.38852276, 1.40339719, 0.98752047, 0.75101932])"
            ]
          },
          "execution_count": 89,
          "metadata": {},
          "output_type": "execute_result"
        }
      ],
      "source": [
        "#69. How to get the diagonal of a dot product?\n",
        "\n",
        "A = np.random.uniform(0,1,(5,5))\n",
        "B = np.random.uniform(0,1,(5,5))\n",
        "  \n",
        "np.diag(np.dot(A, B))\n",
        "\n",
        "np.sum(A * B.T, axis=1)\n",
        "\n",
        "np.einsum(\"ij,ji->i\", A, B)"
      ]
    },
    {
      "cell_type": "code",
      "execution_count": null,
      "metadata": {
        "colab": {
          "background_save": true
        },
        "id": "LjPY4GscePbN",
        "outputId": "7dc7869f-6653-4315-9213-12891517d112"
      },
      "outputs": [
        {
          "name": "stdout",
          "output_type": "stream",
          "text": [
            "[1. 0. 0. 0. 2. 0. 0. 0. 3. 0. 0. 0. 4. 0. 0. 0. 5.]\n"
          ]
        }
      ],
      "source": [
        "#70. Consider the vector [1, 2, 3, 4, 5], how to build a new vector with 3 consecutive zeros interleaved between each value? (★★★)\n",
        "Z = np.array([1,2,3,4,5])\n",
        "nz = 3\n",
        "Z0 = np.zeros(len(Z) + (len(Z)-1)*(nz))\n",
        "Z0[::nz+1] = Z\n",
        "print(Z0)"
      ]
    },
    {
      "cell_type": "code",
      "source": [
        "#71. Consider an array of dimension (5,5,3), how to mulitply it by an array with dimensions (5,5)? (★★★)\n",
        "A = np.ones((5,5,3))\n",
        "B = 2*np.ones((5,5))\n",
        "print(A * B[:,:,None])"
      ],
      "metadata": {
        "colab": {
          "base_uri": "https://localhost:8080/"
        },
        "id": "ngeb3S2uLtGC",
        "outputId": "31c253a2-1d71-4dba-cd70-812173872e54"
      },
      "execution_count": 4,
      "outputs": [
        {
          "output_type": "stream",
          "name": "stdout",
          "text": [
            "[[[2. 2. 2.]\n",
            "  [2. 2. 2.]\n",
            "  [2. 2. 2.]\n",
            "  [2. 2. 2.]\n",
            "  [2. 2. 2.]]\n",
            "\n",
            " [[2. 2. 2.]\n",
            "  [2. 2. 2.]\n",
            "  [2. 2. 2.]\n",
            "  [2. 2. 2.]\n",
            "  [2. 2. 2.]]\n",
            "\n",
            " [[2. 2. 2.]\n",
            "  [2. 2. 2.]\n",
            "  [2. 2. 2.]\n",
            "  [2. 2. 2.]\n",
            "  [2. 2. 2.]]\n",
            "\n",
            " [[2. 2. 2.]\n",
            "  [2. 2. 2.]\n",
            "  [2. 2. 2.]\n",
            "  [2. 2. 2.]\n",
            "  [2. 2. 2.]]\n",
            "\n",
            " [[2. 2. 2.]\n",
            "  [2. 2. 2.]\n",
            "  [2. 2. 2.]\n",
            "  [2. 2. 2.]\n",
            "  [2. 2. 2.]]]\n"
          ]
        }
      ]
    },
    {
      "cell_type": "code",
      "source": [
        "#72. How to swap two rows of an array? (★★★)\n",
        "\n",
        "A = np.arange(25).reshape(5,5)\n",
        "A[[0,1]] = A[[1,0]]\n",
        "print(A)"
      ],
      "metadata": {
        "colab": {
          "base_uri": "https://localhost:8080/"
        },
        "id": "sEUeDRfLL0qL",
        "outputId": "d1b0ed09-50b6-4103-8d6f-4fd0ff0ce3a7"
      },
      "execution_count": 5,
      "outputs": [
        {
          "output_type": "stream",
          "name": "stdout",
          "text": [
            "[[ 5  6  7  8  9]\n",
            " [ 0  1  2  3  4]\n",
            " [10 11 12 13 14]\n",
            " [15 16 17 18 19]\n",
            " [20 21 22 23 24]]\n"
          ]
        }
      ]
    },
    {
      "cell_type": "code",
      "source": [
        "#73. Consider a set of 10 triplets describing 10 triangles (with shared vertices), find the set of unique line segments composing all the triangles (★★★)\n",
        "\n",
        "\n",
        "faces = np.random.randint(0,100,(10,3))\n",
        "F = np.roll(faces.repeat(2,axis=1),-1,axis=1)\n",
        "F = F.reshape(len(F)*3,2)\n",
        "F = np.sort(F,axis=1)\n",
        "G = F.view( dtype=[('p0',F.dtype),('p1',F.dtype)] )\n",
        "G = np.unique(G)\n",
        "print(G)"
      ],
      "metadata": {
        "colab": {
          "base_uri": "https://localhost:8080/"
        },
        "id": "XsQ-miOFL8fE",
        "outputId": "365a4354-d4a8-45a4-e9af-c6b41745383c"
      },
      "execution_count": 6,
      "outputs": [
        {
          "output_type": "stream",
          "name": "stdout",
          "text": [
            "[( 1,  3) ( 1, 43) ( 1, 59) ( 1, 63) ( 2, 73) ( 2, 99) ( 3, 43) (13, 37)\n",
            " (13, 51) (37, 51) (41, 50) (41, 97) (49, 56) (49, 92) (50, 97) (52, 83)\n",
            " (52, 95) (53, 78) (53, 90) (56, 92) (59, 63) (68, 95) (68, 97) (70, 91)\n",
            " (70, 95) (73, 99) (78, 90) (83, 95) (91, 95) (95, 97)]\n"
          ]
        }
      ]
    },
    {
      "cell_type": "code",
      "source": [
        "#74. Given an array C that is a bincount, how to produce an array A such that np.bincount(A) == C? (★★★)\n",
        "\n",
        "\n",
        "C = np.bincount([1,1,2,3,4,4,6])\n",
        "A = np.repeat(np.arange(len(C)), C)\n",
        "print(A)"
      ],
      "metadata": {
        "colab": {
          "base_uri": "https://localhost:8080/"
        },
        "id": "OWilNy-iMDhe",
        "outputId": "092cba42-eb11-4bcd-fcce-8b595af3c40d"
      },
      "execution_count": 7,
      "outputs": [
        {
          "output_type": "stream",
          "name": "stdout",
          "text": [
            "[1 1 2 3 4 4 6]\n"
          ]
        }
      ]
    },
    {
      "cell_type": "code",
      "source": [
        "#75 How to compute averages using a sliding window over an array? (★★★)\n",
        "\n",
        "\n",
        "def moving_average(a, n=3) :\n",
        "    ret = np.cumsum(a, dtype=float)\n",
        "    ret[n:] = ret[n:] - ret[:-n]\n",
        "    return ret[n - 1:] / n\n",
        "Z = np.arange(20)\n",
        "print(moving_average(Z, n=3))"
      ],
      "metadata": {
        "colab": {
          "base_uri": "https://localhost:8080/"
        },
        "id": "jiyCyg3yMKQ-",
        "outputId": "8a37bec2-fad7-464f-9cac-1aa6d07f7688"
      },
      "execution_count": 8,
      "outputs": [
        {
          "output_type": "stream",
          "name": "stdout",
          "text": [
            "[ 1.  2.  3.  4.  5.  6.  7.  8.  9. 10. 11. 12. 13. 14. 15. 16. 17. 18.]\n"
          ]
        }
      ]
    },
    {
      "cell_type": "code",
      "source": [
        "#76. Consider a one-dimensional array Z, build a two-dimensional array whose first row is (Z[0],Z[1],Z[2]) and each subsequent row is shifted by 1 (last row should be (Z[-3],Z[-2],Z[-1]) (★★★)\n",
        "from numpy.lib import stride_tricks\n",
        "\n",
        "def rolling(a, window):\n",
        "    shape = (a.size - window + 1, window)\n",
        "    strides = (a.itemsize, a.itemsize)\n",
        "    return stride_tricks.as_strided(a, shape=shape, strides=strides)\n",
        "Z = rolling(np.arange(10), 3)\n",
        "print(Z)"
      ],
      "metadata": {
        "colab": {
          "base_uri": "https://localhost:8080/"
        },
        "id": "8oNRWyUWMQ-w",
        "outputId": "f16343d0-08f1-4055-f68a-d0f690e89719"
      },
      "execution_count": 9,
      "outputs": [
        {
          "output_type": "stream",
          "name": "stdout",
          "text": [
            "[[0 1 2]\n",
            " [1 2 3]\n",
            " [2 3 4]\n",
            " [3 4 5]\n",
            " [4 5 6]\n",
            " [5 6 7]\n",
            " [6 7 8]\n",
            " [7 8 9]]\n"
          ]
        }
      ]
    },
    {
      "cell_type": "code",
      "source": [
        "#77. How to negate a boolean, or to change the sign of a float inplace? (★★★)\n",
        "\n",
        "Z = np.random.randint(0,2,100)\n",
        "np.logical_not(Z, out=Z)\n",
        "\n",
        "Z = np.random.uniform(-1.0,1.0,100)\n",
        "np.negative(Z, out=Z)"
      ],
      "metadata": {
        "colab": {
          "base_uri": "https://localhost:8080/"
        },
        "id": "3hr7QqjLMZlK",
        "outputId": "ac1119aa-cac1-4cb0-835c-c00f8b16f0fd"
      },
      "execution_count": 10,
      "outputs": [
        {
          "output_type": "execute_result",
          "data": {
            "text/plain": [
              "array([-0.1619832 ,  0.64189756, -0.45293207, -0.33276533, -0.07466654,\n",
              "       -0.98805939,  0.16133436, -0.24329881, -0.5255179 , -0.63710686,\n",
              "       -0.58911778,  0.94291521, -0.86651181,  0.55539874, -0.27698005,\n",
              "       -0.29353678, -0.38909563,  0.39516346, -0.57054647,  0.44842055,\n",
              "        0.14491932, -0.93806969,  0.49517478,  0.04569727,  0.31837508,\n",
              "       -0.05614323, -0.23596984,  0.86711671,  0.6032142 , -0.87163867,\n",
              "       -0.89936131,  0.82753608,  0.38890327,  0.09704317,  0.00796865,\n",
              "       -0.69244727,  0.52581814,  0.79271403, -0.8126071 ,  0.38733429,\n",
              "       -0.44764848,  0.47689372, -0.92210761,  0.55904724, -0.03116621,\n",
              "        0.61606535,  0.7457453 ,  0.19417421,  0.42452176,  0.09038732,\n",
              "        0.54291327,  0.49099746,  0.42360592,  0.90863489,  0.96023406,\n",
              "        0.80557977, -0.86531607,  0.07604674,  0.80686098, -0.4267149 ,\n",
              "       -0.96807052, -0.39492136,  0.24910302, -0.3655365 , -0.29675558,\n",
              "       -0.91593643,  0.79759777,  0.3257414 ,  0.92518736, -0.95974517,\n",
              "        0.9942202 , -0.9868596 ,  0.84381188, -0.72451726,  0.16261447,\n",
              "        0.8412277 ,  0.67102983,  0.53651399, -0.65619431, -0.43288795,\n",
              "       -0.51665757,  0.46814255,  0.0801773 , -0.40396173, -0.03152239,\n",
              "        0.53717406, -0.2923554 , -0.85746134, -0.67941772,  0.0407245 ,\n",
              "        0.33020309,  0.10545911,  0.77989184, -0.63736576, -0.19424205,\n",
              "       -0.13343543, -0.93387089,  0.41906579,  0.42324816,  0.46994801])"
            ]
          },
          "metadata": {},
          "execution_count": 10
        }
      ]
    },
    {
      "cell_type": "code",
      "source": [
        "#78 Consider 2 sets of points P0,P1 describing lines (2d) and a point p, how to compute distance from p to each line i (P0[i],P1[i])? (★★★)\n",
        "def distance(P0, P1, p):\n",
        "    T = P1 - P0\n",
        "    L = (T**2).sum(axis=1)\n",
        "    U = -((P0[:,0]-p[...,0])*T[:,0] + (P0[:,1]-p[...,1])*T[:,1]) / L\n",
        "    U = U.reshape(len(U),1)\n",
        "    D = P0 + U*T - p\n",
        "    return np.sqrt((D**2).sum(axis=1))\n",
        "\n",
        "P0 = np.random.uniform(-10,10,(10,2))\n",
        "P1 = np.random.uniform(-10,10,(10,2))\n",
        "p  = np.random.uniform(-10,10,( 1,2))\n",
        "print(distance(P0, P1, p))"
      ],
      "metadata": {
        "colab": {
          "base_uri": "https://localhost:8080/"
        },
        "id": "JfNQiOblMfXC",
        "outputId": "7b4df962-b0ca-4613-d580-82956e223f83"
      },
      "execution_count": 11,
      "outputs": [
        {
          "output_type": "stream",
          "name": "stdout",
          "text": [
            "[ 1.10569368 14.49992665 15.76449763  6.43994046 16.81907452 15.46129921\n",
            " 14.15253195 12.11192035 16.53051405  2.34221041]\n"
          ]
        }
      ]
    },
    {
      "cell_type": "code",
      "source": [
        "#79.Consider 2 sets of points P0,P1 describing lines (2d) and a set of points P, how to compute distance from each point j (P[j]) to each line i (P0[i],P1[i])? (★★★)\n",
        "\n",
        "\n",
        "# based on distance function from previous question\n",
        "P0 = np.random.uniform(-10, 10, (10,2))\n",
        "P1 = np.random.uniform(-10,10,(10,2))\n",
        "p = np.random.uniform(-10, 10, (10,2))\n",
        "print(np.array([distance(P0,P1,p_i) for p_i in p]))"
      ],
      "metadata": {
        "colab": {
          "base_uri": "https://localhost:8080/"
        },
        "id": "XrfQAQhBMlQo",
        "outputId": "7fef0cca-ff1d-43af-b940-61f900ed3b17"
      },
      "execution_count": 12,
      "outputs": [
        {
          "output_type": "stream",
          "name": "stdout",
          "text": [
            "[[ 6.53251006  1.04436245  5.63143596  5.61313056  3.16348098  5.84797687\n",
            "   4.84300821  7.46270675  7.0879518  15.4325784 ]\n",
            " [ 7.37786687  3.77314852  6.18879847  3.07988801  4.54517249  3.94903098\n",
            "   2.11596483  4.68863218  6.13763331 13.32154147]\n",
            " [ 6.52429512 13.32994289  4.30371369  3.54146778  5.74201663  4.93380779\n",
            "   5.93493803  3.95522702  0.46663195  4.05219838]\n",
            " [ 5.69923992  0.64202226  4.9742799   7.36208475  2.01277891  6.83959668\n",
            "   6.65054258  9.26440625  7.40826242 16.58430576]\n",
            " [ 3.4573111   5.16316241  2.09542308  4.35693476  1.09409935  0.4351298\n",
            "   2.43777357  4.49795083  1.91628946 10.10604663]\n",
            " [ 9.27198803 16.07277835  6.77332242  7.20767752  8.94318832  5.73170254\n",
            "   9.42233271  7.27679668  0.20835282  2.86382985]\n",
            " [ 6.91401715  6.2961398   8.45984095  9.63195756  8.57086625  6.62872456\n",
            "   5.52166828  6.35845777  7.68777565  3.9557054 ]\n",
            " [ 1.57137236 17.29139359  1.10439513  3.57238268  1.84648915 11.30759782\n",
            "   7.46374681  6.24619582  7.15442292  2.05220164]\n",
            " [ 3.43660209 12.43838042  1.29323923  1.05484368  2.60591503  5.95885057\n",
            "   3.93843042  2.25901694  2.57095773  3.35907285]\n",
            " [ 3.85286901 15.53259487  6.37230313  0.93950865  3.70333199 12.93940195\n",
            "   3.78743849  3.08741229 10.73285381  3.09152252]]\n"
          ]
        }
      ]
    },
    {
      "cell_type": "code",
      "source": [
        "#80. Consider an arbitrary array, write a function that extract a subpart with a fixed shape and centered on a given element (pad with a fill value when necessary) (★★★)\n",
        "\n",
        "Z = np.random.randint(0,10,(10,10))\n",
        "shape = (5,5)\n",
        "fill  = 0\n",
        "position = (1,1)\n",
        "\n",
        "R = np.ones(shape, dtype=Z.dtype)*fill\n",
        "P  = np.array(list(position)).astype(int)\n",
        "Rs = np.array(list(R.shape)).astype(int)\n",
        "Zs = np.array(list(Z.shape)).astype(int)\n",
        "\n",
        "R_start = np.zeros((len(shape),)).astype(int)\n",
        "R_stop  = np.array(list(shape)).astype(int)\n",
        "Z_start = (P-Rs//2)\n",
        "Z_stop  = (P+Rs//2)+Rs%2\n",
        "\n",
        "R_start = (R_start - np.minimum(Z_start,0)).tolist()\n",
        "Z_start = (np.maximum(Z_start,0)).tolist()\n",
        "R_stop = np.maximum(R_start, (R_stop - np.maximum(Z_stop-Zs,0))).tolist()\n",
        "Z_stop = (np.minimum(Z_stop,Zs)).tolist()\n",
        "\n",
        "r = [slice(start,stop) for start,stop in zip(R_start,R_stop)]\n",
        "z = [slice(start,stop) for start,stop in zip(Z_start,Z_stop)]\n",
        "R[r] = Z[z]\n",
        "print(Z)\n",
        "print(R)"
      ],
      "metadata": {
        "colab": {
          "base_uri": "https://localhost:8080/"
        },
        "id": "5kV556VRMrbK",
        "outputId": "594996ed-067a-4618-883e-93e3fad65d3c"
      },
      "execution_count": 13,
      "outputs": [
        {
          "output_type": "stream",
          "name": "stdout",
          "text": [
            "[[8 3 1 4 9 5 1 6 2 2]\n",
            " [5 4 9 5 2 1 6 8 3 8]\n",
            " [3 3 7 7 7 3 6 1 6 8]\n",
            " [3 7 3 2 1 4 8 9 4 2]\n",
            " [2 1 1 5 8 2 5 2 4 4]\n",
            " [7 0 6 3 7 9 0 4 7 7]\n",
            " [0 2 5 7 9 9 6 0 7 3]\n",
            " [5 4 8 6 3 6 0 6 4 9]\n",
            " [0 6 3 8 6 6 1 4 2 9]\n",
            " [4 5 6 0 0 2 6 3 9 0]]\n",
            "[[0 0 0 0 0]\n",
            " [0 8 3 1 4]\n",
            " [0 5 4 9 5]\n",
            " [0 3 3 7 7]\n",
            " [0 3 7 3 2]]\n"
          ]
        },
        {
          "output_type": "stream",
          "name": "stderr",
          "text": [
            "/usr/local/lib/python3.7/dist-packages/ipykernel_launcher.py:25: FutureWarning: Using a non-tuple sequence for multidimensional indexing is deprecated; use `arr[tuple(seq)]` instead of `arr[seq]`. In the future this will be interpreted as an array index, `arr[np.array(seq)]`, which will result either in an error or a different result.\n"
          ]
        }
      ]
    },
    {
      "cell_type": "code",
      "source": [
        "#81. Consider an array Z = [1,2,3,4,5,6,7,8,9,10,11,12,13,14], how to generate an array R = [[1,2,3,4], [2,3,4,5], [3,4,5,6], ..., [11,12,13,14]]? (★★★)\n",
        "\n",
        "\n",
        "Z = np.arange(1,15,dtype=np.uint32)\n",
        "R = stride_tricks.as_strided(Z,(11,4),(4,4))\n",
        "print(R)"
      ],
      "metadata": {
        "colab": {
          "base_uri": "https://localhost:8080/"
        },
        "id": "fl0H9QLGM6NA",
        "outputId": "cfda7d75-36fd-45f7-d8c4-7b9fcfec19ac"
      },
      "execution_count": 14,
      "outputs": [
        {
          "output_type": "stream",
          "name": "stdout",
          "text": [
            "[[ 1  2  3  4]\n",
            " [ 2  3  4  5]\n",
            " [ 3  4  5  6]\n",
            " [ 4  5  6  7]\n",
            " [ 5  6  7  8]\n",
            " [ 6  7  8  9]\n",
            " [ 7  8  9 10]\n",
            " [ 8  9 10 11]\n",
            " [ 9 10 11 12]\n",
            " [10 11 12 13]\n",
            " [11 12 13 14]]\n"
          ]
        }
      ]
    },
    {
      "cell_type": "code",
      "source": [
        "#82. Compute a matrix rank (★★★)\n",
        "\n",
        "Z = np.random.uniform(0,1,(10,10))\n",
        "U, S, V = np.linalg.svd(Z) # Singular Value Decomposition\n",
        "rank = np.sum(S > 1e-10)\n",
        "print(rank)"
      ],
      "metadata": {
        "colab": {
          "base_uri": "https://localhost:8080/"
        },
        "id": "3sYWGfJDM_iI",
        "outputId": "327a2fe0-ab98-423d-85f9-b8d42721dfd7"
      },
      "execution_count": 15,
      "outputs": [
        {
          "output_type": "stream",
          "name": "stdout",
          "text": [
            "10\n"
          ]
        }
      ]
    },
    {
      "cell_type": "code",
      "source": [
        "#83.How to find the most frequent value in an array?\n",
        "Z = np.random.randint(0,10,50)\n",
        "print(np.bincount(Z).argmax())"
      ],
      "metadata": {
        "colab": {
          "base_uri": "https://localhost:8080/"
        },
        "id": "ItQ_ov5cNG5g",
        "outputId": "7fb6264e-43f7-471e-a96d-70a43f4260e9"
      },
      "execution_count": 16,
      "outputs": [
        {
          "output_type": "stream",
          "name": "stdout",
          "text": [
            "1\n"
          ]
        }
      ]
    },
    {
      "cell_type": "code",
      "source": [
        "#84. Extract all the contiguous 3x3 blocks from a random 10x10 matrix (★★★)\n",
        "\n",
        "\n",
        "Z = np.random.randint(0,5,(10,10))\n",
        "n = 3\n",
        "i = 1 + (Z.shape[0]-3)\n",
        "j = 1 + (Z.shape[1]-3)\n",
        "C = stride_tricks.as_strided(Z, shape=(i, j, n, n), strides=Z.strides + Z.strides)\n",
        "print(C)"
      ],
      "metadata": {
        "colab": {
          "base_uri": "https://localhost:8080/"
        },
        "id": "J41uhddtNLik",
        "outputId": "a5c49756-18fb-4412-fc1f-52f2a0696687"
      },
      "execution_count": 17,
      "outputs": [
        {
          "output_type": "stream",
          "name": "stdout",
          "text": [
            "[[[[4 1 2]\n",
            "   [2 4 3]\n",
            "   [2 2 3]]\n",
            "\n",
            "  [[1 2 0]\n",
            "   [4 3 0]\n",
            "   [2 3 0]]\n",
            "\n",
            "  [[2 0 0]\n",
            "   [3 0 2]\n",
            "   [3 0 3]]\n",
            "\n",
            "  [[0 0 4]\n",
            "   [0 2 0]\n",
            "   [0 3 3]]\n",
            "\n",
            "  [[0 4 1]\n",
            "   [2 0 1]\n",
            "   [3 3 0]]\n",
            "\n",
            "  [[4 1 4]\n",
            "   [0 1 1]\n",
            "   [3 0 4]]\n",
            "\n",
            "  [[1 4 2]\n",
            "   [1 1 2]\n",
            "   [0 4 0]]\n",
            "\n",
            "  [[4 2 4]\n",
            "   [1 2 3]\n",
            "   [4 0 2]]]\n",
            "\n",
            "\n",
            " [[[2 4 3]\n",
            "   [2 2 3]\n",
            "   [4 2 4]]\n",
            "\n",
            "  [[4 3 0]\n",
            "   [2 3 0]\n",
            "   [2 4 0]]\n",
            "\n",
            "  [[3 0 2]\n",
            "   [3 0 3]\n",
            "   [4 0 1]]\n",
            "\n",
            "  [[0 2 0]\n",
            "   [0 3 3]\n",
            "   [0 1 3]]\n",
            "\n",
            "  [[2 0 1]\n",
            "   [3 3 0]\n",
            "   [1 3 4]]\n",
            "\n",
            "  [[0 1 1]\n",
            "   [3 0 4]\n",
            "   [3 4 2]]\n",
            "\n",
            "  [[1 1 2]\n",
            "   [0 4 0]\n",
            "   [4 2 2]]\n",
            "\n",
            "  [[1 2 3]\n",
            "   [4 0 2]\n",
            "   [2 2 2]]]\n",
            "\n",
            "\n",
            " [[[2 2 3]\n",
            "   [4 2 4]\n",
            "   [1 1 1]]\n",
            "\n",
            "  [[2 3 0]\n",
            "   [2 4 0]\n",
            "   [1 1 4]]\n",
            "\n",
            "  [[3 0 3]\n",
            "   [4 0 1]\n",
            "   [1 4 3]]\n",
            "\n",
            "  [[0 3 3]\n",
            "   [0 1 3]\n",
            "   [4 3 1]]\n",
            "\n",
            "  [[3 3 0]\n",
            "   [1 3 4]\n",
            "   [3 1 2]]\n",
            "\n",
            "  [[3 0 4]\n",
            "   [3 4 2]\n",
            "   [1 2 1]]\n",
            "\n",
            "  [[0 4 0]\n",
            "   [4 2 2]\n",
            "   [2 1 2]]\n",
            "\n",
            "  [[4 0 2]\n",
            "   [2 2 2]\n",
            "   [1 2 2]]]\n",
            "\n",
            "\n",
            " [[[4 2 4]\n",
            "   [1 1 1]\n",
            "   [4 2 1]]\n",
            "\n",
            "  [[2 4 0]\n",
            "   [1 1 4]\n",
            "   [2 1 3]]\n",
            "\n",
            "  [[4 0 1]\n",
            "   [1 4 3]\n",
            "   [1 3 2]]\n",
            "\n",
            "  [[0 1 3]\n",
            "   [4 3 1]\n",
            "   [3 2 0]]\n",
            "\n",
            "  [[1 3 4]\n",
            "   [3 1 2]\n",
            "   [2 0 2]]\n",
            "\n",
            "  [[3 4 2]\n",
            "   [1 2 1]\n",
            "   [0 2 2]]\n",
            "\n",
            "  [[4 2 2]\n",
            "   [2 1 2]\n",
            "   [2 2 2]]\n",
            "\n",
            "  [[2 2 2]\n",
            "   [1 2 2]\n",
            "   [2 2 2]]]\n",
            "\n",
            "\n",
            " [[[1 1 1]\n",
            "   [4 2 1]\n",
            "   [3 2 1]]\n",
            "\n",
            "  [[1 1 4]\n",
            "   [2 1 3]\n",
            "   [2 1 4]]\n",
            "\n",
            "  [[1 4 3]\n",
            "   [1 3 2]\n",
            "   [1 4 1]]\n",
            "\n",
            "  [[4 3 1]\n",
            "   [3 2 0]\n",
            "   [4 1 1]]\n",
            "\n",
            "  [[3 1 2]\n",
            "   [2 0 2]\n",
            "   [1 1 2]]\n",
            "\n",
            "  [[1 2 1]\n",
            "   [0 2 2]\n",
            "   [1 2 0]]\n",
            "\n",
            "  [[2 1 2]\n",
            "   [2 2 2]\n",
            "   [2 0 3]]\n",
            "\n",
            "  [[1 2 2]\n",
            "   [2 2 2]\n",
            "   [0 3 2]]]\n",
            "\n",
            "\n",
            " [[[4 2 1]\n",
            "   [3 2 1]\n",
            "   [0 4 1]]\n",
            "\n",
            "  [[2 1 3]\n",
            "   [2 1 4]\n",
            "   [4 1 3]]\n",
            "\n",
            "  [[1 3 2]\n",
            "   [1 4 1]\n",
            "   [1 3 2]]\n",
            "\n",
            "  [[3 2 0]\n",
            "   [4 1 1]\n",
            "   [3 2 3]]\n",
            "\n",
            "  [[2 0 2]\n",
            "   [1 1 2]\n",
            "   [2 3 0]]\n",
            "\n",
            "  [[0 2 2]\n",
            "   [1 2 0]\n",
            "   [3 0 3]]\n",
            "\n",
            "  [[2 2 2]\n",
            "   [2 0 3]\n",
            "   [0 3 3]]\n",
            "\n",
            "  [[2 2 2]\n",
            "   [0 3 2]\n",
            "   [3 3 3]]]\n",
            "\n",
            "\n",
            " [[[3 2 1]\n",
            "   [0 4 1]\n",
            "   [2 0 2]]\n",
            "\n",
            "  [[2 1 4]\n",
            "   [4 1 3]\n",
            "   [0 2 3]]\n",
            "\n",
            "  [[1 4 1]\n",
            "   [1 3 2]\n",
            "   [2 3 0]]\n",
            "\n",
            "  [[4 1 1]\n",
            "   [3 2 3]\n",
            "   [3 0 3]]\n",
            "\n",
            "  [[1 1 2]\n",
            "   [2 3 0]\n",
            "   [0 3 3]]\n",
            "\n",
            "  [[1 2 0]\n",
            "   [3 0 3]\n",
            "   [3 3 3]]\n",
            "\n",
            "  [[2 0 3]\n",
            "   [0 3 3]\n",
            "   [3 3 2]]\n",
            "\n",
            "  [[0 3 2]\n",
            "   [3 3 3]\n",
            "   [3 2 4]]]\n",
            "\n",
            "\n",
            " [[[0 4 1]\n",
            "   [2 0 2]\n",
            "   [1 4 2]]\n",
            "\n",
            "  [[4 1 3]\n",
            "   [0 2 3]\n",
            "   [4 2 0]]\n",
            "\n",
            "  [[1 3 2]\n",
            "   [2 3 0]\n",
            "   [2 0 2]]\n",
            "\n",
            "  [[3 2 3]\n",
            "   [3 0 3]\n",
            "   [0 2 1]]\n",
            "\n",
            "  [[2 3 0]\n",
            "   [0 3 3]\n",
            "   [2 1 0]]\n",
            "\n",
            "  [[3 0 3]\n",
            "   [3 3 3]\n",
            "   [1 0 2]]\n",
            "\n",
            "  [[0 3 3]\n",
            "   [3 3 2]\n",
            "   [0 2 2]]\n",
            "\n",
            "  [[3 3 3]\n",
            "   [3 2 4]\n",
            "   [2 2 1]]]]\n"
          ]
        }
      ]
    },
    {
      "cell_type": "code",
      "source": [
        "#85.Create a 2D array subclass such that Z[i,j] == Z[j,i] (★★★)\n",
        "\n",
        "\n",
        "class Symetric(np.ndarray):\n",
        "    def __setitem__(self, index, value):\n",
        "        i,j = index\n",
        "        super(Symetric, self).__setitem__((i,j), value)\n",
        "        super(Symetric, self).__setitem__((j,i), value)\n",
        "\n",
        "def symetric(Z):\n",
        "    return np.asarray(Z + Z.T - np.diag(Z.diagonal())).view(Symetric)\n",
        "\n",
        "S = symetric(np.random.randint(0,10,(5,5)))\n",
        "S[2,3] = 42\n",
        "print(S)"
      ],
      "metadata": {
        "colab": {
          "base_uri": "https://localhost:8080/"
        },
        "id": "2ryFekDRNTGv",
        "outputId": "b464860f-9de5-4101-9f0d-c6e0c25c7201"
      },
      "execution_count": 18,
      "outputs": [
        {
          "output_type": "stream",
          "name": "stdout",
          "text": [
            "[[ 0  8 14 10  7]\n",
            " [ 8  6 15  6 11]\n",
            " [14 15  1 42  6]\n",
            " [10  6 42  2 12]\n",
            " [ 7 11  6 12  3]]\n"
          ]
        }
      ]
    },
    {
      "cell_type": "code",
      "source": [
        "#86. Consider a set of p matrices wich shape (n,n) and a set of p vectors with shape (n,1). How to compute the sum of of the p matrix products at once? (result has shape (n,1)) (★★★)\n",
        "\n",
        "\n",
        "p, n = 10, 20\n",
        "M = np.ones((p,n,n))\n",
        "V = np.ones((p,n,1))\n",
        "S = np.tensordot(M, V, axes=[[0, 2], [0, 1]])\n",
        "print(S)"
      ],
      "metadata": {
        "colab": {
          "base_uri": "https://localhost:8080/"
        },
        "id": "fnw_2x-ENfrM",
        "outputId": "d533d4cc-cc7b-4be7-d600-709a2cd51347"
      },
      "execution_count": 19,
      "outputs": [
        {
          "output_type": "stream",
          "name": "stdout",
          "text": [
            "[[200.]\n",
            " [200.]\n",
            " [200.]\n",
            " [200.]\n",
            " [200.]\n",
            " [200.]\n",
            " [200.]\n",
            " [200.]\n",
            " [200.]\n",
            " [200.]\n",
            " [200.]\n",
            " [200.]\n",
            " [200.]\n",
            " [200.]\n",
            " [200.]\n",
            " [200.]\n",
            " [200.]\n",
            " [200.]\n",
            " [200.]\n",
            " [200.]]\n"
          ]
        }
      ]
    },
    {
      "cell_type": "code",
      "source": [
        "#87. Consider a 16x16 array, how to get the block-sum (block size is 4x4)? (★★★)\n",
        "\n",
        "Z = np.ones((16,16))\n",
        "k = 4\n",
        "S = np.add.reduceat(np.add.reduceat(Z, np.arange(0, Z.shape[0], k), axis=0),\n",
        "                                       np.arange(0, Z.shape[1], k), axis=1)\n",
        "print(S)"
      ],
      "metadata": {
        "colab": {
          "base_uri": "https://localhost:8080/"
        },
        "id": "52qLee7bNm22",
        "outputId": "4f542379-05e8-4120-bb1e-04fe8e1630c6"
      },
      "execution_count": 20,
      "outputs": [
        {
          "output_type": "stream",
          "name": "stdout",
          "text": [
            "[[16. 16. 16. 16.]\n",
            " [16. 16. 16. 16.]\n",
            " [16. 16. 16. 16.]\n",
            " [16. 16. 16. 16.]]\n"
          ]
        }
      ]
    },
    {
      "cell_type": "code",
      "source": [
        "#88. How to implement the Game of Life using numpy arrays? (★★★)\n",
        "\n",
        "def iterate(Z):\n",
        "    # Count neighbours\n",
        "    N = (Z[0:-2,0:-2] + Z[0:-2,1:-1] + Z[0:-2,2:] +\n",
        "         Z[1:-1,0:-2]                + Z[1:-1,2:] +\n",
        "         Z[2:  ,0:-2] + Z[2:  ,1:-1] + Z[2:  ,2:])\n",
        "\n",
        "    # Apply rules\n",
        "    birth = (N==3) & (Z[1:-1,1:-1]==0)\n",
        "    survive = ((N==2) | (N==3)) & (Z[1:-1,1:-1]==1)\n",
        "    Z[...] = 0\n",
        "    Z[1:-1,1:-1][birth | survive] = 1\n",
        "    return Z\n",
        "\n",
        "Z = np.random.randint(0,2,(50,50))\n",
        "for i in range(100): Z = iterate(Z)\n",
        "print(Z)"
      ],
      "metadata": {
        "colab": {
          "base_uri": "https://localhost:8080/"
        },
        "id": "nao-BxMjNtOb",
        "outputId": "4f715429-11e1-4c63-c50c-1673561b84f8"
      },
      "execution_count": 21,
      "outputs": [
        {
          "output_type": "stream",
          "name": "stdout",
          "text": [
            "[[0 0 0 ... 0 0 0]\n",
            " [0 0 0 ... 0 0 0]\n",
            " [0 0 0 ... 0 0 0]\n",
            " ...\n",
            " [0 0 0 ... 0 0 0]\n",
            " [0 0 0 ... 0 0 0]\n",
            " [0 0 0 ... 0 0 0]]\n"
          ]
        }
      ]
    },
    {
      "cell_type": "code",
      "source": [
        "#89.89. How to get the n largest values of an array (★★★)\n",
        "Z = np.arange(10000)\n",
        "np.random.shuffle(Z)\n",
        "n = 5\n",
        "\n",
        "# Slow\n",
        "print (Z[np.argsort(Z)[-n:]])\n",
        "\n",
        "# Fast\n",
        "print (Z[np.argpartition(-Z,n)[:n]])"
      ],
      "metadata": {
        "colab": {
          "base_uri": "https://localhost:8080/"
        },
        "id": "hI5gma85Nzzi",
        "outputId": "eb11b341-6997-4c3f-a71d-f925ea6714dc"
      },
      "execution_count": 22,
      "outputs": [
        {
          "output_type": "stream",
          "name": "stdout",
          "text": [
            "[9995 9996 9997 9998 9999]\n",
            "[9999 9998 9997 9996 9995]\n"
          ]
        }
      ]
    },
    {
      "cell_type": "code",
      "source": [
        "#90.Given an arbitrary number of vectors, build the cartesian product (every combinations of every item) (★★★)\n",
        "\n",
        "def cartesian(arrays):\n",
        "    arrays = [np.asarray(a) for a in arrays]\n",
        "    shape = (len(x) for x in arrays)\n",
        "\n",
        "    ix = np.indices(shape, dtype=int)\n",
        "    ix = ix.reshape(len(arrays), -1).T\n",
        "\n",
        "    for n, arr in enumerate(arrays):\n",
        "        ix[:, n] = arrays[n][ix[:, n]]\n",
        "\n",
        "    return ix\n",
        "\n",
        "print (cartesian(([1, 2, 3], [4, 5], [6, 7])))"
      ],
      "metadata": {
        "colab": {
          "base_uri": "https://localhost:8080/"
        },
        "id": "k7tAaEprN49e",
        "outputId": "0ec72061-2b63-4a67-a7fe-c5213beab172"
      },
      "execution_count": 23,
      "outputs": [
        {
          "output_type": "stream",
          "name": "stdout",
          "text": [
            "[[1 4 6]\n",
            " [1 4 7]\n",
            " [1 5 6]\n",
            " [1 5 7]\n",
            " [2 4 6]\n",
            " [2 4 7]\n",
            " [2 5 6]\n",
            " [2 5 7]\n",
            " [3 4 6]\n",
            " [3 4 7]\n",
            " [3 5 6]\n",
            " [3 5 7]]\n"
          ]
        }
      ]
    },
    {
      "cell_type": "code",
      "source": [
        "#91.How to create a record array from a regular array? (★★★)\n",
        "Z = np.array([(\"Hello\", 2.5, 3),\n",
        "              (\"World\", 3.6, 2)])\n",
        "R = np.core.records.fromarrays(Z.T, \n",
        "                               names='col1, col2, col3',\n",
        "                               formats = 'S8, f8, i8')\n",
        "print(R)"
      ],
      "metadata": {
        "colab": {
          "base_uri": "https://localhost:8080/"
        },
        "id": "wgF_czw3OCRc",
        "outputId": "5bd1d31e-7fa6-4093-e10d-eaafedd8cb80"
      },
      "execution_count": 24,
      "outputs": [
        {
          "output_type": "stream",
          "name": "stdout",
          "text": [
            "[(b'Hello', 2.5, 3) (b'World', 3.6, 2)]\n"
          ]
        }
      ]
    },
    {
      "cell_type": "code",
      "source": [
        "#92.Consider a large vector Z, compute Z to the power of 3 using 3 different methods (★★★)\n",
        "\n",
        "x = np.random.rand(5e7)\n",
        "\n",
        "%timeit np.power(x,3)\n",
        "%timeit x*x*x\n",
        "%timeit np.einsum('i,i,i->i',x,x,x)"
      ],
      "metadata": {
        "colab": {
          "base_uri": "https://localhost:8080/",
          "height": 339
        },
        "id": "GhUfi0ErOJPn",
        "outputId": "5549b182-3dee-4493-dd27-ca939d5b0723"
      },
      "execution_count": 25,
      "outputs": [
        {
          "output_type": "error",
          "ename": "TypeError",
          "evalue": "ignored",
          "traceback": [
            "\u001b[0;31m---------------------------------------------------------------------------\u001b[0m",
            "\u001b[0;31mTypeError\u001b[0m                                 Traceback (most recent call last)",
            "\u001b[0;32m<ipython-input-25-e4eac17b4adc>\u001b[0m in \u001b[0;36m<module>\u001b[0;34m\u001b[0m\n\u001b[1;32m      1\u001b[0m \u001b[0;31m#92.Consider a large vector Z, compute Z to the power of 3 using 3 different methods (★★★)\u001b[0m\u001b[0;34m\u001b[0m\u001b[0;34m\u001b[0m\u001b[0;34m\u001b[0m\u001b[0m\n\u001b[1;32m      2\u001b[0m \u001b[0;34m\u001b[0m\u001b[0m\n\u001b[0;32m----> 3\u001b[0;31m \u001b[0mx\u001b[0m \u001b[0;34m=\u001b[0m \u001b[0mnp\u001b[0m\u001b[0;34m.\u001b[0m\u001b[0mrandom\u001b[0m\u001b[0;34m.\u001b[0m\u001b[0mrand\u001b[0m\u001b[0;34m(\u001b[0m\u001b[0;36m5e7\u001b[0m\u001b[0;34m)\u001b[0m\u001b[0;34m\u001b[0m\u001b[0;34m\u001b[0m\u001b[0m\n\u001b[0m\u001b[1;32m      4\u001b[0m \u001b[0;34m\u001b[0m\u001b[0m\n\u001b[1;32m      5\u001b[0m \u001b[0mget_ipython\u001b[0m\u001b[0;34m(\u001b[0m\u001b[0;34m)\u001b[0m\u001b[0;34m.\u001b[0m\u001b[0mrun_line_magic\u001b[0m\u001b[0;34m(\u001b[0m\u001b[0;34m'timeit'\u001b[0m\u001b[0;34m,\u001b[0m \u001b[0;34m'np.power(x,3)'\u001b[0m\u001b[0;34m)\u001b[0m\u001b[0;34m\u001b[0m\u001b[0;34m\u001b[0m\u001b[0m\n",
            "\u001b[0;32mmtrand.pyx\u001b[0m in \u001b[0;36mnumpy.random.mtrand.RandomState.rand\u001b[0;34m()\u001b[0m\n",
            "\u001b[0;32mmtrand.pyx\u001b[0m in \u001b[0;36mnumpy.random.mtrand.RandomState.random_sample\u001b[0;34m()\u001b[0m\n",
            "\u001b[0;32m_common.pyx\u001b[0m in \u001b[0;36mnumpy.random._common.double_fill\u001b[0;34m()\u001b[0m\n",
            "\u001b[0;31mTypeError\u001b[0m: 'float' object cannot be interpreted as an integer"
          ]
        }
      ]
    },
    {
      "cell_type": "code",
      "source": [
        "#93.Consider two arrays A and B of shape (8,3) and (2,2). How to find rows of A that contain elements of each row of B regardless of the order of the elements in B? (★★★)\n",
        "\n",
        "A = np.random.randint(0,5,(8,3))\n",
        "B = np.random.randint(0,5,(2,2))\n",
        "\n",
        "C = (A[..., np.newaxis, np.newaxis] == B)\n",
        "rows = np.where(C.any((3,1)).all(1))[0]\n",
        "print(rows)"
      ],
      "metadata": {
        "colab": {
          "base_uri": "https://localhost:8080/"
        },
        "id": "4PjYq0DaOTx3",
        "outputId": "d1dbe87b-761b-4a95-f24d-8c9c2dfe4ed5"
      },
      "execution_count": 26,
      "outputs": [
        {
          "output_type": "stream",
          "name": "stdout",
          "text": [
            "[7]\n"
          ]
        }
      ]
    },
    {
      "cell_type": "code",
      "source": [
        "#94. Considering a 10x3 matrix, extract rows with unequal values (e.g. [2,2,3]) (★★★)\n",
        "\n",
        "Z = np.random.randint(0,5,(10,3))\n",
        "print(Z)\n",
        "# solution for arrays of all dtypes (including string arrays and record arrays)\n",
        "E = np.all(Z[:,1:] == Z[:,:-1], axis=1)\n",
        "U = Z[~E]\n",
        "print(U)\n",
        "# soluiton for numerical arrays only, will work for any number of columns in Z\n",
        "U = Z[Z.max(axis=1) != Z.min(axis=1),:]\n",
        "print(U)"
      ],
      "metadata": {
        "colab": {
          "base_uri": "https://localhost:8080/"
        },
        "id": "XWcnLRTgOZFZ",
        "outputId": "42c7a764-5a27-4500-8dd2-1a34239972af"
      },
      "execution_count": 27,
      "outputs": [
        {
          "output_type": "stream",
          "name": "stdout",
          "text": [
            "[[1 2 1]\n",
            " [1 2 4]\n",
            " [0 4 2]\n",
            " [2 1 1]\n",
            " [2 1 2]\n",
            " [4 1 3]\n",
            " [1 4 4]\n",
            " [4 2 3]\n",
            " [2 3 0]\n",
            " [4 4 0]]\n",
            "[[1 2 1]\n",
            " [1 2 4]\n",
            " [0 4 2]\n",
            " [2 1 1]\n",
            " [2 1 2]\n",
            " [4 1 3]\n",
            " [1 4 4]\n",
            " [4 2 3]\n",
            " [2 3 0]\n",
            " [4 4 0]]\n",
            "[[1 2 1]\n",
            " [1 2 4]\n",
            " [0 4 2]\n",
            " [2 1 1]\n",
            " [2 1 2]\n",
            " [4 1 3]\n",
            " [1 4 4]\n",
            " [4 2 3]\n",
            " [2 3 0]\n",
            " [4 4 0]]\n"
          ]
        }
      ]
    },
    {
      "cell_type": "code",
      "source": [
        "#95. Convert a vector of ints into a matrix binary representation (★★★)\n",
        "\n",
        "I = np.array([0, 1, 2, 3, 15, 16, 32, 64, 128])\n",
        "B = ((I.reshape(-1,1) & (2**np.arange(8))) != 0).astype(int)\n",
        "print(B[:,::-1])\n",
        "\n",
        "# Author: Daniel T. McDonald\n",
        "\n",
        "I = np.array([0, 1, 2, 3, 15, 16, 32, 64, 128], dtype=np.uint8)\n",
        "print(np.unpackbits(I[:, np.newaxis], axis=1))"
      ],
      "metadata": {
        "colab": {
          "base_uri": "https://localhost:8080/"
        },
        "id": "wqrYj225OgD8",
        "outputId": "dd263bdd-cdb4-4c9a-d9d5-ca108e422acf"
      },
      "execution_count": 28,
      "outputs": [
        {
          "output_type": "stream",
          "name": "stdout",
          "text": [
            "[[0 0 0 0 0 0 0 0]\n",
            " [0 0 0 0 0 0 0 1]\n",
            " [0 0 0 0 0 0 1 0]\n",
            " [0 0 0 0 0 0 1 1]\n",
            " [0 0 0 0 1 1 1 1]\n",
            " [0 0 0 1 0 0 0 0]\n",
            " [0 0 1 0 0 0 0 0]\n",
            " [0 1 0 0 0 0 0 0]\n",
            " [1 0 0 0 0 0 0 0]]\n",
            "[[0 0 0 0 0 0 0 0]\n",
            " [0 0 0 0 0 0 0 1]\n",
            " [0 0 0 0 0 0 1 0]\n",
            " [0 0 0 0 0 0 1 1]\n",
            " [0 0 0 0 1 1 1 1]\n",
            " [0 0 0 1 0 0 0 0]\n",
            " [0 0 1 0 0 0 0 0]\n",
            " [0 1 0 0 0 0 0 0]\n",
            " [1 0 0 0 0 0 0 0]]\n"
          ]
        }
      ]
    },
    {
      "cell_type": "code",
      "source": [
        "#96.Given a two dimensional array, how to extract unique rows? (★★★)\n",
        "\n",
        "\n",
        "Z = np.random.randint(0,2,(6,3))\n",
        "T = np.ascontiguousarray(Z).view(np.dtype((np.void, Z.dtype.itemsize * Z.shape[1])))\n",
        "_, idx = np.unique(T, return_index=True)\n",
        "uZ = Z[idx]\n",
        "print(uZ)\n",
        "\n",
        "# Author: Andreas Kouzelis\n",
        "# NumPy >= 1.13\n",
        "uZ = np.unique(Z, axis=0)\n",
        "print(uZ)"
      ],
      "metadata": {
        "colab": {
          "base_uri": "https://localhost:8080/"
        },
        "id": "uDO1NJ3iOk_v",
        "outputId": "71626962-a6ee-4738-d579-e299b5790134"
      },
      "execution_count": 29,
      "outputs": [
        {
          "output_type": "stream",
          "name": "stdout",
          "text": [
            "[[0 0 0]\n",
            " [0 1 0]\n",
            " [1 0 1]\n",
            " [1 1 1]]\n",
            "[[0 0 0]\n",
            " [0 1 0]\n",
            " [1 0 1]\n",
            " [1 1 1]]\n"
          ]
        }
      ]
    },
    {
      "cell_type": "code",
      "source": [
        "#97. Considering 2 vectors A & B, write the einsum equivalent of inner, outer, sum, and mul function (★★★)\n",
        "\n",
        "A = np.random.uniform(0,1,10)\n",
        "B = np.random.uniform(0,1,10)\n",
        "\n",
        "np.einsum('i->', A)       # np.sum(A)\n",
        "np.einsum('i,i->i', A, B) # A * B\n",
        "np.einsum('i,i', A, B)    # np.inner(A, B)\n",
        "np.einsum('i,j->ij', A, B)    # np.outer(A, B)"
      ],
      "metadata": {
        "colab": {
          "base_uri": "https://localhost:8080/"
        },
        "id": "8GbDDb2fOrLP",
        "outputId": "93023a83-30b9-4eac-db60-583a2748c331"
      },
      "execution_count": 30,
      "outputs": [
        {
          "output_type": "execute_result",
          "data": {
            "text/plain": [
              "array([[1.77637080e-03, 3.27354387e-03, 7.33593948e-03, 2.34557320e-03,\n",
              "        4.40587991e-03, 3.07329306e-03, 7.72273306e-04, 4.22806467e-03,\n",
              "        4.14223963e-03, 6.98004603e-03],\n",
              "       [1.49825684e-01, 2.76102799e-01, 6.18740271e-01, 1.97834319e-01,\n",
              "        3.71608209e-01, 2.59212904e-01, 6.51363872e-02, 3.56610614e-01,\n",
              "        3.49371812e-01, 5.88722900e-01],\n",
              "       [4.82580319e-02, 8.89311989e-02, 1.99292852e-01, 6.37213505e-02,\n",
              "        1.19692968e-01, 8.34910566e-02, 2.09800735e-02, 1.14862325e-01,\n",
              "        1.12530747e-01, 1.89624421e-01],\n",
              "       [1.16232310e-01, 2.14196026e-01, 4.80008562e-01, 1.53476623e-01,\n",
              "        2.88287558e-01, 2.01093123e-01, 5.05317416e-02, 2.76652670e-01,\n",
              "        2.71036926e-01, 4.56721577e-01],\n",
              "       [1.36343696e-02, 2.51257829e-02, 5.63063244e-02, 1.80032299e-02,\n",
              "        3.38169234e-02, 2.35887764e-02, 5.92751226e-03, 3.24521190e-02,\n",
              "        3.17933768e-02, 5.35746971e-02],\n",
              "       [5.18168054e-03, 9.54894025e-03, 2.13989641e-02, 6.84204616e-03,\n",
              "        1.28519689e-02, 8.96480785e-03, 2.25272425e-03, 1.23332812e-02,\n",
              "        1.20829292e-02, 2.03608215e-02],\n",
              "       [2.12911785e-01, 3.92359563e-01, 8.79269111e-01, 2.81135097e-01,\n",
              "        5.28078799e-01, 3.68357954e-01, 9.25629314e-02, 5.06766267e-01,\n",
              "        4.96479472e-01, 8.36612526e-01],\n",
              "       [3.71533708e-02, 6.84672307e-02, 1.53433551e-01, 4.90584234e-02,\n",
              "        9.21504059e-02, 6.42789201e-02, 1.61523464e-02, 8.84313426e-02,\n",
              "        8.66362840e-02, 1.45989924e-01],\n",
              "       [8.26497529e-02, 1.52309187e-01, 3.41321523e-01, 1.09133209e-01,\n",
              "        2.04993736e-01, 1.42992056e-01, 3.59317987e-02, 1.96720472e-01,\n",
              "        1.92727263e-01, 3.24762758e-01],\n",
              "       [1.93358455e-01, 3.56326160e-01, 7.98519050e-01, 2.55316294e-01,\n",
              "        4.79581252e-01, 3.34528803e-01, 8.40621638e-02, 4.60226014e-01,\n",
              "        4.50883935e-01, 7.59779948e-01]])"
            ]
          },
          "metadata": {},
          "execution_count": 30
        }
      ]
    },
    {
      "cell_type": "code",
      "source": [
        "#98.Considering a path described by two vectors (X,Y), how to sample it using equidistant samples (★★★)?\n",
        "\n",
        "\n",
        "phi = np.arange(0, 10*np.pi, 0.1)\n",
        "a = 1\n",
        "x = a*phi*np.cos(phi)\n",
        "y = a*phi*np.sin(phi)\n",
        "\n",
        "dr = (np.diff(x)**2 + np.diff(y)**2)**.5 # segment lengths\n",
        "r = np.zeros_like(x)\n",
        "r[1:] = np.cumsum(dr)                # integrate path\n",
        "r_int = np.linspace(0, r.max(), 200) # regular spaced path\n",
        "x_int = np.interp(r_int, r, x)       # integrate path\n",
        "y_int = np.interp(r_int, r, y)"
      ],
      "metadata": {
        "id": "U5nmlKhWOyse"
      },
      "execution_count": 31,
      "outputs": []
    },
    {
      "cell_type": "code",
      "source": [
        "#99.Given an integer n and a 2D array X, select from X the rows which can be interpreted as draws from a multinomial distribution with n degrees, i.e., the rows which only contain integers and which sum to n. (★★★)\n",
        "\n",
        "X = np.asarray([[1.0, 0.0, 3.0, 8.0],\n",
        "                [2.0, 0.0, 1.0, 1.0],\n",
        "                [1.5, 2.5, 1.0, 0.0]])\n",
        "n = 4\n",
        "M = np.logical_and.reduce(np.mod(X, 1) == 0, axis=-1)\n",
        "M &= (X.sum(axis=-1) == n)\n",
        "print(X[M])"
      ],
      "metadata": {
        "colab": {
          "base_uri": "https://localhost:8080/"
        },
        "id": "hqV5z8YXO5by",
        "outputId": "f559fbee-532b-4331-cd43-94e86f8ef9e1"
      },
      "execution_count": 32,
      "outputs": [
        {
          "output_type": "stream",
          "name": "stdout",
          "text": [
            "[[2. 0. 1. 1.]]\n"
          ]
        }
      ]
    },
    {
      "cell_type": "code",
      "source": [
        "#100.Compute bootstrapped 95% confidence intervals for the mean of a 1D array X (i.e., resample the elements of an array with replacement N times, compute the mean of each sample, and then compute percentiles over the means). (★★★)\n",
        "\n",
        "X = np.random.randn(100) # random 1D array\n",
        "N = 1000 # number of bootstrap samples\n",
        "idx = np.random.randint(0, X.size, (N, X.size))\n",
        "means = X[idx].mean(axis=1)\n",
        "confint = np.percentile(means, [2.5, 97.5])\n",
        "print(confint)"
      ],
      "metadata": {
        "colab": {
          "base_uri": "https://localhost:8080/"
        },
        "id": "l3HCqSmnPAE_",
        "outputId": "1ae4eb2b-f833-4021-9138-dbdb133e5aa5"
      },
      "execution_count": 33,
      "outputs": [
        {
          "output_type": "stream",
          "name": "stdout",
          "text": [
            "[-0.17720025  0.26624952]\n"
          ]
        }
      ]
    }
  ],
  "metadata": {
    "colab": {
      "provenance": [],
      "authorship_tag": "ABX9TyMSLFNdh7HEtIuys0q1qy7X",
      "include_colab_link": true
    },
    "kernelspec": {
      "display_name": "Python 3",
      "name": "python3"
    },
    "language_info": {
      "name": "python"
    }
  },
  "nbformat": 4,
  "nbformat_minor": 0
}